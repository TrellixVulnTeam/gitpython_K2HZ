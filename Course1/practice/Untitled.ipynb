{
 "cells": [
  {
   "cell_type": "code",
   "execution_count": 1,
   "metadata": {},
   "outputs": [],
   "source": [
    "s=\"Hello my name is aushak anuj\"\n"
   ]
  },
  {
   "cell_type": "code",
   "execution_count": 2,
   "metadata": {},
   "outputs": [],
   "source": [
    "l=s.split()"
   ]
  },
  {
   "cell_type": "code",
   "execution_count": 3,
   "metadata": {},
   "outputs": [
    {
     "output_type": "stream",
     "name": "stdout",
     "text": "['Hello', 'my', 'name', 'is', 'aushak', 'anuj']\n"
    }
   ],
   "source": [
    "print(l)"
   ]
  },
  {
   "cell_type": "code",
   "execution_count": 25,
   "metadata": {},
   "outputs": [
    {
     "output_type": "stream",
     "name": "stdout",
     "text": "[\n  {\n    \"_id\": \"5c1a010ae61b49b43c4b4864\",\n    \"index\": 0,\n    \"age\": 35,\n    \"eyeColor\": \"green\",\n    \"name\": \"Wiggins Holman\",\n    \"address\": \"247 Thatford Avenue, Oneida,Puerto Rico, 7233\",\n    \"friends\": [\n      {\n        \"id\": 0,\n        \"name\": \"Carmela Hampton\"\n      },\n      {\n        \"id\": 1,\n        \"name\": \"Lynda Pittman\"\n      },\n      {\n        \"id\": 2,\n        \"name\": \"Cleveland Noble\"\n      }\n    ]\n  },\n  {\n    \"_id\": \"5c1a010ac0a5b589b0a5da9d\",\n    \"index\": 2,\n    \"age\": 22,\n    \"eyeColor\": \"brown\",\n    \"name\": \"GuadalupeBoyle\",\n    \"address\": \"593 Wythe Avenue, Seymour, California, 5552\",\n    \"friends\": [\n      {\n        \"id\": 0,\n        \"name\": \"Sharron Kerr\"\n      },\n      {\n        \"id\": 1,\n        \"name\": \"Eugenia Gould\"\n      },\n      {\n        \"id\": 2,\n        \"name\": \"Kathy Wilkerson\"\n      }\n    ]\n  },\n  {\n    \"_id\": \"5c1a010af38338f5494192a7\",\n    \"index\": 3,\n    \"age\": 33,\n    \"eyeColor\": \"green\",\n    \"name\": \"MuellerTrujillo\",\n    \"address\": \"758 Kiely Place,Winesburg,SouthDakota, 1289\",\n    \"friends\": [\n      {\n        \"id\": 0,\n        \"name\": \"Slater  Keller\"\n      },\n      {\n        \"id\": 1,\n        \"name\": \"Morrow Rhodes\"\n      },\n      {\n        \"id\": 2,\n        \"name\": \"Carly Johns\"\n      }\n    ]\n  },\n  {\n    \"_id\": \"5c1a010a832c47b8ef7b86d0\",\n    \"index\": 4,\n    \"age\": 29,\n    \"eyeColor\": \"blue\",\n    \"name\": \"HullMcclure\",\n    \"address\": \"885 Tapscott Street, Rivereno, Minnesota, 9408\",\n    \"friends\": [\n      {\n        \"id\": 0,\n        \"name\": \"Lakeisha Walter\"\n      },\n      {\n        \"id\": 1,\n        \"name\": \"Sherman Rasmussen\"\n      },\n      {\n        \"id\": 2,\n        \"name\": \"Tonya Ford\"\n      }\n    ]\n  },\n  {\n    \"_id\": \"5c1a010a0ff9c2029e0e6097\",\n    \"index\": 5,\n    \"age\": 37,\n    \"eyeColor\": \"green\",\n    \"name\": \"LethaFernandez\",\n    \"address\": \"344 Adler Place, Boling, Louisiana, 4897\",\n    \"friends\": [\n      {\n        \"id\": 0,\n        \"name\": \"Olive Durham\"\n      },\n      {\n        \"id\": 1,\n        \"name\": \"Bridget Burgess\"\n      },\n      {\n        \"id\": 2,\n        \"name\": \"Peck Garza\"\n      }\n    ]\n  },\n  {\n    \"_id\": \"5c1a010ab77fee7d6cd09ca2\",\n    \"index\": 6,\n    \"age\": 21,\n    \"eyeColor\": \"green\",\n    \"name\": \"Selma Quinn\",\n    \"address\": \"928 Montague Terrace, Stagecoach, Maine, 9012\",\n    \"friends\": [\n      {\n        \"id\": 0,\n        \"name\": \"Horton Wilcox\"\n      },\n      {\n        \"id\": 1,\n        \"name\": \"Adeline Holcomb\"\n      },\n      {\n        \"id\": 2,\n        \"name\": \"Owens Wood\"\n      }\n    ]\n  }\n]\n"
    }
   ],
   "source": [
    "import json\n",
    "with open(\"../datasets/example.json\") as f:\n",
    "    l=f.read()\n",
    "    s=json.loads(l)\n",
    "    print(json.dumps(s,indent=2))"
   ]
  },
  {
   "cell_type": "code",
   "execution_count": 27,
   "metadata": {},
   "outputs": [
    {
     "output_type": "error",
     "ename": "SyntaxError",
     "evalue": "invalid character in identifier (<ipython-input-27-8e8bd59c6d68>, line 1)",
     "traceback": [
      "\u001b[0;36m  File \u001b[0;32m\"<ipython-input-27-8e8bd59c6d68>\"\u001b[0;36m, line \u001b[0;32m1\u001b[0m\n\u001b[0;31m    a=[​1, 1, 1, 1, 1, 1, 1, 1, 1, 1, 1, 1]\u001b[0m\n\u001b[0m        ^\u001b[0m\n\u001b[0;31mSyntaxError\u001b[0m\u001b[0;31m:\u001b[0m invalid character in identifier\n"
     ]
    }
   ],
   "source": [
    "a=[​1, 1, 1, 1, 1, 1, 1, 1, 1, 1, 1, 1]\n"
   ]
  },
  {
   "cell_type": "code",
   "execution_count": null,
   "metadata": {},
   "outputs": [],
   "source": []
  },
  {
   "cell_type": "code",
   "execution_count": 15,
   "metadata": {},
   "outputs": [
    {
     "output_type": "stream",
     "name": "stdout",
     "text": "<class 'list'>\n"
    }
   ],
   "source": [
    "print(type(s))"
   ]
  },
  {
   "cell_type": "code",
   "execution_count": 14,
   "metadata": {
    "tags": [
     "outputPrepend"
    ]
   },
   "outputs": [
    {
     "output_type": "error",
     "ename": "AttributeError",
     "evalue": "'list' object has no attribute 'keys'",
     "traceback": [
      "\u001b[0;31m---------------------------------------------------------------------------\u001b[0m",
      "\u001b[0;31mAttributeError\u001b[0m                            Traceback (most recent call last)",
      "\u001b[0;32m<ipython-input-14-7de7350141ae>\u001b[0m in \u001b[0;36m<module>\u001b[0;34m\u001b[0m\n\u001b[0;32m----> 1\u001b[0;31m \u001b[0mprint\u001b[0m\u001b[0;34m(\u001b[0m\u001b[0ms\u001b[0m\u001b[0;34m.\u001b[0m\u001b[0mkeys\u001b[0m\u001b[0;34m(\u001b[0m\u001b[0;34m)\u001b[0m\u001b[0;34m)\u001b[0m\u001b[0;34m\u001b[0m\u001b[0;34m\u001b[0m\u001b[0m\n\u001b[0m",
      "\u001b[0;31mAttributeError\u001b[0m: 'list' object has no attribute 'keys'"
     ]
    }
   ],
   "source": [
    "print(s.keys())"
   ]
  },
  {
   "cell_type": "code",
   "execution_count": null,
   "metadata": {},
   "outputs": [],
   "source": []
  }
 ],
 "metadata": {
  "language_info": {
   "codemirror_mode": {
    "name": "ipython",
    "version": 3
   },
   "file_extension": ".py",
   "mimetype": "text/x-python",
   "name": "python",
   "nbconvert_exporter": "python",
   "pygments_lexer": "ipython3",
   "version": "3.7.7-final"
  },
  "orig_nbformat": 2,
  "kernelspec": {
   "name": "python37764bit5a65826dca804630af99ee5e9501d3e0",
   "display_name": "Python 3.7.7 64-bit"
  }
 },
 "nbformat": 4,
 "nbformat_minor": 2
}