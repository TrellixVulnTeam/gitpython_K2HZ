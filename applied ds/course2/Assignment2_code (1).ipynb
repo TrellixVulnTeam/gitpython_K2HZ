%matplotlib notebook
%matplotlib inline

import matplotlib.pyplot as plt
import matplotlib.dates as dates
import matplotlib.ticker as ticker

import pandas as pd
import numpy as np

df1 = data  = pd.read_csv('data/C2A2_data/BinnedCsvs_d400/fb441e62df2d58994928907a91895ec62c2c42e6cd075c2700843b89.csv')

# df1.groupby(['Month_Day']).count().head(50)
#
# # max_temp
# # min_temp

# d_high.shape
# d_low.shape

# Convert all data to degrees Celsius:
df1['Data_Value']*=0.1
df1['Date'] = pd.to_datetime(df1['Date'])
df1['Year'] = df1['Date'].dt.year
df1['Month_Day'] = df1['Date'].dt.strftime('%m-%d')

# here we remove the data containing 29th feb as their date
df1 = df1[df1['Month_Day']!='02-29']

# Grouping the data of min and max temp by Month_day: 
max_temp = df1[(df1.Year >= 2005) & (df1.Year < 2015) & (data['Element'] == 'TMAX')].groupby(['Month_Day'])['Data_Value'].max()
min_temp = data[(df1.Year >= 2005) & (data.Year < 2015) & (data['Element'] == 'TMIN')].groupby(['Month_Day'])['Data_Value'].min()

# Record breaking data:
data = data.merge(max_temp.reset_index(drop=False).rename(columns={'Data_Value':'Max_temp'}), on='Month_Day', how='left')
data = data.merge(min_temp.reset_index(drop=False).rename(columns={'Data_Value':'Min_temp'}), on='Month_Day', how='left')

record_high = data[(data.Year==2015)&(data.Data_Value > data.Max_temp)]
record_low = data[(data.Year==2015)&(data.Data_Value < data.Min_temp)]

# we set the range of x-axis between 2015-01-01 and 2016-01-01 and convert it to datetime format
date_index = np.arange('2015-01-01','2016-01-01', dtype='datetime64[D]')

plt.figure(figsize= (10,7))

plt.plot(date_index,max_temp,color='red', linewidth=1) # Red == Max.
plt.plot(date_index,min_temp,color='blue', linewidth=1) # Blue == Min.

plt.scatter(record_high.Date.values, record_high.Data_Value.values, color='red', s=10)
plt.scatter(record_low.Date.values, record_low.Data_Value.values, color='blue', s=10)

# setting limits for x and y axis:
ax = plt.gca()
ax.axis(['2015/01/01','2015/12/31',-50,50])

# Setting the title name and labels
plt.xlabel('Date', fontsize=18)
plt.ylabel('� Celsius', fontsize=18)
plt.title('Temperature in Ann Arbour, Michigan (2005-2015)', fontsize=20)

# Legend design
# loc=0 provides the best position for the legend
plt.legend(['Record high (2005-2014)','Record low (2005-2014)','Record breaking high in 2015','Record breaking low in 2015'],loc=0,frameon=False)

# Fill colour between highs and lows:
# alpha adjusts shade of a particular color:
ax.fill_between(date_index, max_temp, min_temp, facecolor='lime', alpha=0.25)

# location of major and minor ticks:
ax.xaxis.set_major_locator(dates.MonthLocator())
ax.xaxis.set_minor_locator(dates.MonthLocator(bymonthday=15)) # Put the label at the minor tick so it's in the center.

ax.xaxis.set_major_formatter(ticker.NullFormatter())
ax.xaxis.set_minor_formatter(dates.DateFormatter('%b'))

for tick in ax.xaxis.get_minor_ticks():
    tick.tick1line.set_markersize(0) # Make small ticker disappear
    tick.label1.set_horizontalalignment('center')