{
 "cells": [
  {
   "cell_type": "code",
   "execution_count": 1,
   "metadata": {},
   "outputs": [],
   "source": [
    "%matplotlib widget\n",
    "import pandas as pd \n",
    "import seaborn as sns;sns.set()\n",
    "import matplotlib.pyplot as plt\n",
    "import numpy as np\n",
    "import matplotlib.gridspec as gridspec\n",
    "from matplotlib import rcParams"
   ]
  },
  {
   "cell_type": "code",
   "execution_count": 2,
   "metadata": {},
   "outputs": [],
   "source": [
    "af=pd.read_csv(\"season-1516_csv.csv\")\n",
    "bf=pd.read_csv(\"season-1617_csv.csv\")\n",
    "cf=pd.read_csv(\"season-1718_csv.csv\")\n",
    "df=pd.read_csv(\"season-1819_csv.csv\")\n",
    "ef=pd.read_csv(\"season-1415_csv.csv\")\n",
    "ff=pd.read_csv(\"season-1314_csv.csv\")"
   ]
  },
  {
   "cell_type": "code",
   "execution_count": 3,
   "metadata": {},
   "outputs": [],
   "source": [
    "lei=af[(af[\"HomeTeam\"]==\"Leicester\") | (af[\"AwayTeam\"]==\"Leicester\")].reset_index(drop=True)\n",
    "che=bf[(bf[\"HomeTeam\"]==\"Chelsea\") | (bf[\"AwayTeam\"]==\"Chelsea\")].reset_index(drop=True)\n",
    "manc2=cf[(cf[\"HomeTeam\"]==\"Man City\") | (cf[\"AwayTeam\"]==\"Man City\")].reset_index(drop=True)\n",
    "manc3=df[(df[\"HomeTeam\"]==\"Man City\") | (df[\"AwayTeam\"]==\"Man City\")].reset_index(drop=True)\n",
    "che2=ef[(ef[\"HomeTeam\"]==\"Chelsea\") | (ef[\"AwayTeam\"]==\"Chelsea\")].reset_index(drop=True)\n",
    "manc=ff[(ff[\"HomeTeam\"]==\"Man City\") | (ff[\"AwayTeam\"]==\"Man City\")].reset_index(drop=True)\n",
    "liv=df[(df[\"HomeTeam\"]==\"Liverpool\") | (df[\"AwayTeam\"]==\"Liverpool\")].reset_index(drop=True)\n",
    "\n",
    "t=[manc,che,lei,che2,manc2,manc3,liv]\n",
    "y=[\"Man City\",\"Chelsea\",\"Leicester\",\"Chelsea\",\"Man City\",\"Man City\",\"Liverpool\"]"
   ]
  },
  {
   "cell_type": "code",
   "execution_count": 4,
   "metadata": {},
   "outputs": [],
   "source": [
    "j=0\n",
    "for team in t:\n",
    "    team[\"game week\"]=pd.Series(range(1,39))\n",
    "    team[\"points\"]=pd.Series([None]*38)\n",
    "    team[\"FTG\"]=pd.Series([None]*38)\n",
    "    team[\"HTG\"]=pd.Series([None]*38)\n",
    "    team[\"FCG\"]=pd.Series([None]*38)\n",
    "    team[\"HCG\"]=pd.Series([None]*38)\n",
    "    team[\"fhg\"]=pd.Series([None]*38)\n",
    "    team[\"shg\"]=pd.Series([None]*38)\n",
    "    team[\"ftgs\"]=pd.Series([None]*38)\n",
    "    team[\"results\"]=pd.Series([None]*38)\n",
    "    \n",
    "    ftg=[]\n",
    "    htg=[]\n",
    "    fcg=[]\n",
    "    hcg=[]\n",
    "    s=[]\n",
    "    wl=[]\n",
    "    for i in team.index.values.tolist():\n",
    "        temp=team.loc[i]\n",
    "        if temp[\"HomeTeam\"]==y[j]:\n",
    "            ftg.append(temp.FTHG)\n",
    "            htg.append(temp.HTHG)\n",
    "            fcg.append(temp.FTAG)\n",
    "            hcg.append(temp.HTAG)\n",
    "            if temp.FTR==\"H\":\n",
    "                s.append(3)\n",
    "                wl.append(\"WIN\")\n",
    "            elif temp.FTR==\"D\":\n",
    "                s.append(1)\n",
    "                wl.append(\"DRAW\")\n",
    "            else:\n",
    "                wl.append(\"LOSS\")\n",
    "                s.append(0)\n",
    "        elif temp[\"AwayTeam\"]==y[j]:\n",
    "            ftg.append(temp.FTAG)\n",
    "            htg.append(temp.HTAG)\n",
    "            fcg.append(temp.FTHG)\n",
    "            hcg.append(temp.HTHG)\n",
    "            if temp.FTR==\"A\":\n",
    "                s.append(3)\n",
    "                wl.append(\"WIN\")\n",
    "            elif temp.FTR==\"D\":\n",
    "                s.append(1)\n",
    "                wl.append(\"DRAW\")\n",
    "            else:\n",
    "                s.append(0)\n",
    "                wl.append(\"LOSS\")\n",
    "    team.points=pd.Series(s).cumsum(0)\n",
    "    team.FTG=pd.Series(ftg).cumsum(0)\n",
    "    team.HTG=pd.Series(htg).cumsum(0)\n",
    "    team.FCG=pd.Series(fcg).cumsum(0)\n",
    "    team.HCG=pd.Series(hcg).cumsum(0)\n",
    "    team.fhg=pd.Series(htg)\n",
    "    team.ftgs=pd.Series(ftg)\n",
    "    team.shg=team.ftgs-team.fhg\n",
    "    team.results=pd.Series(wl)\n",
    "   \n",
    "    j+=1\n",
    "    team.drop([\"Div\"],inplace=True,axis=1)"
   ]
  },
  {
   "cell_type": "code",
   "execution_count": 19,
   "metadata": {},
   "outputs": [
    {
     "data": {
      "application/vnd.jupyter.widget-view+json": {
       "model_id": "9ce5d05f581f4ec1a66c065428890aec",
       "version_major": 2,
       "version_minor": 0
      },
      "text/plain": [
       "Canvas(toolbar=Toolbar(toolitems=[('Home', 'Reset original view', 'home', 'home'), ('Back', 'Back to previous …"
      ]
     },
     "metadata": {},
     "output_type": "display_data"
    },
    {
     "data": {
      "text/plain": [
       "Text(0.5, 1.0, 'Goals Scored')"
      ]
     },
     "execution_count": 19,
     "metadata": {},
     "output_type": "execute_result"
    }
   ],
   "source": [
    "plt.style.use(\"seaborn\")\n",
    "plt.figure()\n",
    "for i in t:\n",
    "    i.plot(x=\"game week\",y=\"FTG\",ax=plt.gca())\n",
    "\n",
    "plt.legend([\"Man City 13/14\",\"Chelsea 14/15\",\"Leicester 15/16\",\"Chelsea 16/17\",\"Man City 17/18\",\"Man City 18/19\",\"Liverpool 18/19\"])\n",
    "plt.show()\n",
    "plt.title(\"Goals Scored\")"
   ]
  },
  {
   "cell_type": "code",
   "execution_count": 18,
   "metadata": {},
   "outputs": [
    {
     "data": {
      "application/vnd.jupyter.widget-view+json": {
       "model_id": "e4b0c1f65ce8417aaf5519fd2971e35d",
       "version_major": 2,
       "version_minor": 0
      },
      "text/plain": [
       "Canvas(toolbar=Toolbar(toolitems=[('Home', 'Reset original view', 'home', 'home'), ('Back', 'Back to previous …"
      ]
     },
     "metadata": {},
     "output_type": "display_data"
    },
    {
     "data": {
      "text/plain": [
       "Text(0.5, 1.0, 'Goals Conceded')"
      ]
     },
     "execution_count": 18,
     "metadata": {},
     "output_type": "execute_result"
    }
   ],
   "source": [
    "plt.figure()\n",
    "for i in t:\n",
    "    i.plot(x=\"game week\",y=\"FCG\",ax=plt.gca())\n",
    "\n",
    "plt.legend([\"Man City 13/14\",\"Chelsea 14/15\",\"Leicester 15/16\",\"Chelsea 16/17\",\"Man City 17/18\",\"Man City 18/19\",\"Liverpool 18/19\"])\n",
    "plt.title(\"Goals Conceded\")"
   ]
  },
  {
   "cell_type": "code",
   "execution_count": 7,
   "metadata": {},
   "outputs": [],
   "source": [
    "\n",
    "goals=[]\n",
    "points=[]\n",
    "teams=[\"Man City 13/14\",\"Chelsea 14/15\",\"Leicester 15/16\",\"Chelsea 16/17\",\"Man City 17/18\",\"Man City 18/19\",\"Liverpool 18/19\"]\n",
    "for i in t:\n",
    "    goals.append(i.FTG.max())\n",
    "    points.append(i.points.max())\n",
    "    "
   ]
  },
  {
   "cell_type": "code",
   "execution_count": 17,
   "metadata": {},
   "outputs": [
    {
     "data": {
      "application/vnd.jupyter.widget-view+json": {
       "model_id": "626b8260090241919aeb42a91cb0ce00",
       "version_major": 2,
       "version_minor": 0
      },
      "text/plain": [
       "Canvas(toolbar=Toolbar(toolitems=[('Home', 'Reset original view', 'home', 'home'), ('Back', 'Back to previous …"
      ]
     },
     "metadata": {},
     "output_type": "display_data"
    }
   ],
   "source": [
    "plt.figure()\n",
    "\n",
    "sns.barplot(x=teams,y=points,palette=\"Blues\")\n",
    "sns.lineplot(x=teams,y=goals,markers=True,err_style=\"band\")\n",
    "plt.gca().tick_params(axis=\"both\",labelsize=7)\n",
    "plt.xticks(rotation=45)\n",
    "plt.tight_layout()"
   ]
  },
  {
   "cell_type": "code",
   "execution_count": 9,
   "metadata": {},
   "outputs": [
    {
     "data": {
      "text/html": [
       "<div>\n",
       "<style scoped>\n",
       "    .dataframe tbody tr th:only-of-type {\n",
       "        vertical-align: middle;\n",
       "    }\n",
       "\n",
       "    .dataframe tbody tr th {\n",
       "        vertical-align: top;\n",
       "    }\n",
       "\n",
       "    .dataframe thead th {\n",
       "        text-align: right;\n",
       "    }\n",
       "</style>\n",
       "<table border=\"1\" class=\"dataframe\">\n",
       "  <thead>\n",
       "    <tr style=\"text-align: right;\">\n",
       "      <th></th>\n",
       "      <th>Date</th>\n",
       "      <th>HomeTeam</th>\n",
       "      <th>AwayTeam</th>\n",
       "      <th>FTHG</th>\n",
       "      <th>FTAG</th>\n",
       "      <th>FTR</th>\n",
       "      <th>HTHG</th>\n",
       "      <th>HTAG</th>\n",
       "      <th>HTR</th>\n",
       "      <th>Referee</th>\n",
       "      <th>...</th>\n",
       "      <th>game week</th>\n",
       "      <th>points</th>\n",
       "      <th>FTG</th>\n",
       "      <th>HTG</th>\n",
       "      <th>FCG</th>\n",
       "      <th>HCG</th>\n",
       "      <th>fhg</th>\n",
       "      <th>shg</th>\n",
       "      <th>ftgs</th>\n",
       "      <th>results</th>\n",
       "    </tr>\n",
       "  </thead>\n",
       "  <tbody>\n",
       "    <tr>\n",
       "      <th>0</th>\n",
       "      <td>08/08/15</td>\n",
       "      <td>Leicester</td>\n",
       "      <td>Sunderland</td>\n",
       "      <td>4</td>\n",
       "      <td>2</td>\n",
       "      <td>H</td>\n",
       "      <td>3</td>\n",
       "      <td>0</td>\n",
       "      <td>H</td>\n",
       "      <td>L Mason</td>\n",
       "      <td>...</td>\n",
       "      <td>1</td>\n",
       "      <td>3</td>\n",
       "      <td>4</td>\n",
       "      <td>3</td>\n",
       "      <td>2</td>\n",
       "      <td>0</td>\n",
       "      <td>3</td>\n",
       "      <td>1</td>\n",
       "      <td>4</td>\n",
       "      <td>WIN</td>\n",
       "    </tr>\n",
       "    <tr>\n",
       "      <th>1</th>\n",
       "      <td>15/08/15</td>\n",
       "      <td>West Ham</td>\n",
       "      <td>Leicester</td>\n",
       "      <td>1</td>\n",
       "      <td>2</td>\n",
       "      <td>A</td>\n",
       "      <td>0</td>\n",
       "      <td>2</td>\n",
       "      <td>A</td>\n",
       "      <td>A Taylor</td>\n",
       "      <td>...</td>\n",
       "      <td>2</td>\n",
       "      <td>6</td>\n",
       "      <td>6</td>\n",
       "      <td>5</td>\n",
       "      <td>3</td>\n",
       "      <td>0</td>\n",
       "      <td>2</td>\n",
       "      <td>0</td>\n",
       "      <td>2</td>\n",
       "      <td>WIN</td>\n",
       "    </tr>\n",
       "    <tr>\n",
       "      <th>2</th>\n",
       "      <td>22/08/15</td>\n",
       "      <td>Leicester</td>\n",
       "      <td>Tottenham</td>\n",
       "      <td>1</td>\n",
       "      <td>1</td>\n",
       "      <td>D</td>\n",
       "      <td>0</td>\n",
       "      <td>0</td>\n",
       "      <td>D</td>\n",
       "      <td>M Atkinson</td>\n",
       "      <td>...</td>\n",
       "      <td>3</td>\n",
       "      <td>7</td>\n",
       "      <td>7</td>\n",
       "      <td>5</td>\n",
       "      <td>4</td>\n",
       "      <td>0</td>\n",
       "      <td>0</td>\n",
       "      <td>1</td>\n",
       "      <td>1</td>\n",
       "      <td>DRAW</td>\n",
       "    </tr>\n",
       "    <tr>\n",
       "      <th>3</th>\n",
       "      <td>29/08/15</td>\n",
       "      <td>Bournemouth</td>\n",
       "      <td>Leicester</td>\n",
       "      <td>1</td>\n",
       "      <td>1</td>\n",
       "      <td>D</td>\n",
       "      <td>1</td>\n",
       "      <td>0</td>\n",
       "      <td>H</td>\n",
       "      <td>N Swarbrick</td>\n",
       "      <td>...</td>\n",
       "      <td>4</td>\n",
       "      <td>8</td>\n",
       "      <td>8</td>\n",
       "      <td>5</td>\n",
       "      <td>5</td>\n",
       "      <td>1</td>\n",
       "      <td>0</td>\n",
       "      <td>1</td>\n",
       "      <td>1</td>\n",
       "      <td>DRAW</td>\n",
       "    </tr>\n",
       "    <tr>\n",
       "      <th>4</th>\n",
       "      <td>13/09/15</td>\n",
       "      <td>Leicester</td>\n",
       "      <td>Aston Villa</td>\n",
       "      <td>3</td>\n",
       "      <td>2</td>\n",
       "      <td>H</td>\n",
       "      <td>0</td>\n",
       "      <td>1</td>\n",
       "      <td>A</td>\n",
       "      <td>M Dean</td>\n",
       "      <td>...</td>\n",
       "      <td>5</td>\n",
       "      <td>11</td>\n",
       "      <td>11</td>\n",
       "      <td>5</td>\n",
       "      <td>7</td>\n",
       "      <td>2</td>\n",
       "      <td>0</td>\n",
       "      <td>3</td>\n",
       "      <td>3</td>\n",
       "      <td>WIN</td>\n",
       "    </tr>\n",
       "  </tbody>\n",
       "</table>\n",
       "<p>5 rows × 74 columns</p>\n",
       "</div>"
      ],
      "text/plain": [
       "       Date     HomeTeam     AwayTeam  FTHG  FTAG FTR  HTHG  HTAG HTR  \\\n",
       "0  08/08/15    Leicester   Sunderland     4     2   H     3     0   H   \n",
       "1  15/08/15     West Ham    Leicester     1     2   A     0     2   A   \n",
       "2  22/08/15    Leicester    Tottenham     1     1   D     0     0   D   \n",
       "3  29/08/15  Bournemouth    Leicester     1     1   D     1     0   H   \n",
       "4  13/09/15    Leicester  Aston Villa     3     2   H     0     1   A   \n",
       "\n",
       "       Referee  ...  game week  points  FTG  HTG  FCG  HCG  fhg  shg  ftgs  \\\n",
       "0      L Mason  ...          1       3    4    3    2    0    3    1     4   \n",
       "1     A Taylor  ...          2       6    6    5    3    0    2    0     2   \n",
       "2   M Atkinson  ...          3       7    7    5    4    0    0    1     1   \n",
       "3  N Swarbrick  ...          4       8    8    5    5    1    0    1     1   \n",
       "4       M Dean  ...          5      11   11    5    7    2    0    3     3   \n",
       "\n",
       "   results  \n",
       "0      WIN  \n",
       "1      WIN  \n",
       "2     DRAW  \n",
       "3     DRAW  \n",
       "4      WIN  \n",
       "\n",
       "[5 rows x 74 columns]"
      ]
     },
     "execution_count": 9,
     "metadata": {},
     "output_type": "execute_result"
    }
   ],
   "source": [
    "lei.head()"
   ]
  },
  {
   "cell_type": "code",
   "execution_count": null,
   "metadata": {},
   "outputs": [],
   "source": [
    "ftgs=lei.FTG.max()\n",
    "fhgs=lei.HTG.max()\n",
    "shgs=ftgs-fhgs\n",
    "\n",
    "a=np.random.randint(1,45,fhg"
   ]
  },
  {
   "cell_type": "code",
   "execution_count": 13,
   "metadata": {},
   "outputs": [
    {
     "data": {
      "application/vnd.jupyter.widget-view+json": {
       "model_id": "9ef55e4a235342ff882e546730a889d6",
       "version_major": 2,
       "version_minor": 0
      },
      "text/plain": [
       "Canvas(toolbar=Toolbar(toolitems=[('Home', 'Reset original view', 'home', 'home'), ('Back', 'Back to previous …"
      ]
     },
     "metadata": {},
     "output_type": "display_data"
    }
   ],
   "source": [
    "import numpy as np, pandas as pd; plt.close(\"all\")\n",
    "index = pd.date_range(\"1 1 2000\", periods=100,\n",
    "                      freq=\"m\", name=\"date\")\n",
    "data = np.random.randn(100, 4).cumsum(axis=0)\n",
    "wide_df = pd.DataFrame(data, index, [\"a\", \"b\", \"c\", \"d\"])\n",
    "ax = sns.scatterplot(data=wide_df)"
   ]
  },
  {
   "cell_type": "code",
   "execution_count": null,
   "metadata": {},
   "outputs": [],
   "source": []
  },
  {
   "cell_type": "code",
   "execution_count": null,
   "metadata": {},
   "outputs": [],
   "source": []
  },
  {
   "cell_type": "code",
   "execution_count": 14,
   "metadata": {},
   "outputs": [
    {
     "data": {
      "application/vnd.jupyter.widget-view+json": {
       "model_id": "6a0324e5e2ff49439e5e76cc66367923",
       "version_major": 2,
       "version_minor": 0
      },
      "text/plain": [
       "Canvas(toolbar=Toolbar(toolitems=[('Home', 'Reset original view', 'home', 'home'), ('Back', 'Back to previous …"
      ]
     },
     "metadata": {},
     "output_type": "display_data"
    }
   ],
   "source": [
    "fmri = sns.load_dataset(\"fmri\")\n",
    "sns.relplot(x=\"timepoint\", y=\"signal\", kind=\"line\", data=fmri);"
   ]
  },
  {
   "cell_type": "code",
   "execution_count": 9,
   "metadata": {},
   "outputs": [
    {
     "data": {
      "text/html": [
       "<div>\n",
       "<style scoped>\n",
       "    .dataframe tbody tr th:only-of-type {\n",
       "        vertical-align: middle;\n",
       "    }\n",
       "\n",
       "    .dataframe tbody tr th {\n",
       "        vertical-align: top;\n",
       "    }\n",
       "\n",
       "    .dataframe thead th {\n",
       "        text-align: right;\n",
       "    }\n",
       "</style>\n",
       "<table border=\"1\" class=\"dataframe\">\n",
       "  <thead>\n",
       "    <tr style=\"text-align: right;\">\n",
       "      <th></th>\n",
       "      <th>subject</th>\n",
       "      <th>timepoint</th>\n",
       "      <th>event</th>\n",
       "      <th>region</th>\n",
       "      <th>signal</th>\n",
       "    </tr>\n",
       "  </thead>\n",
       "  <tbody>\n",
       "    <tr>\n",
       "      <th>0</th>\n",
       "      <td>s13</td>\n",
       "      <td>18</td>\n",
       "      <td>stim</td>\n",
       "      <td>parietal</td>\n",
       "      <td>-0.017552</td>\n",
       "    </tr>\n",
       "    <tr>\n",
       "      <th>1</th>\n",
       "      <td>s5</td>\n",
       "      <td>14</td>\n",
       "      <td>stim</td>\n",
       "      <td>parietal</td>\n",
       "      <td>-0.080883</td>\n",
       "    </tr>\n",
       "    <tr>\n",
       "      <th>2</th>\n",
       "      <td>s12</td>\n",
       "      <td>18</td>\n",
       "      <td>stim</td>\n",
       "      <td>parietal</td>\n",
       "      <td>-0.081033</td>\n",
       "    </tr>\n",
       "    <tr>\n",
       "      <th>3</th>\n",
       "      <td>s11</td>\n",
       "      <td>18</td>\n",
       "      <td>stim</td>\n",
       "      <td>parietal</td>\n",
       "      <td>-0.046134</td>\n",
       "    </tr>\n",
       "    <tr>\n",
       "      <th>4</th>\n",
       "      <td>s10</td>\n",
       "      <td>18</td>\n",
       "      <td>stim</td>\n",
       "      <td>parietal</td>\n",
       "      <td>-0.037970</td>\n",
       "    </tr>\n",
       "  </tbody>\n",
       "</table>\n",
       "</div>"
      ],
      "text/plain": [
       "  subject  timepoint event    region    signal\n",
       "0     s13         18  stim  parietal -0.017552\n",
       "1      s5         14  stim  parietal -0.080883\n",
       "2     s12         18  stim  parietal -0.081033\n",
       "3     s11         18  stim  parietal -0.046134\n",
       "4     s10         18  stim  parietal -0.037970"
      ]
     },
     "execution_count": 9,
     "metadata": {},
     "output_type": "execute_result"
    }
   ],
   "source": [
    "fmri.head()"
   ]
  },
  {
   "cell_type": "code",
   "execution_count": null,
   "metadata": {},
   "outputs": [],
   "source": []
  }
 ],
 "metadata": {
  "kernelspec": {
   "display_name": "Python 3",
   "language": "python",
   "name": "python3"
  },
  "language_info": {
   "codemirror_mode": {
    "name": "ipython",
    "version": 3
   },
   "file_extension": ".py",
   "mimetype": "text/x-python",
   "name": "python",
   "nbconvert_exporter": "python",
   "pygments_lexer": "ipython3",
   "version": "3.8.3"
  }
 },
 "nbformat": 4,
 "nbformat_minor": 4
}
