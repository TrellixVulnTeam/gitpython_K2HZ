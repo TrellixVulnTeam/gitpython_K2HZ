{
 "cells": [
  {
   "cell_type": "code",
   "execution_count": 2,
   "metadata": {},
   "outputs": [
    {
     "name": "stdout",
     "output_type": "stream",
     "text": [
      "hello, world!\n",
      "hello world\n"
     ]
    }
   ],
   "source": [
    "import string\n",
    "\n",
    "def string_processing(string_list):\n",
    "    punctuations=list(string.punctuation)\n",
    "    t=(\" \").join(string_list).lower()\n",
    "    print(t)\n",
    "    for x in t : \n",
    "        if x in punctuations: \n",
    "            t = t.replace(x, \"\")\n",
    "    return t\n",
    "print(string_processing(['hello,', 'world!']))"
   ]
  },
  {
   "cell_type": "code",
   "execution_count": null,
   "metadata": {},
   "outputs": [],
   "source": []
  }
 ],
 "metadata": {
  "kernelspec": {
   "display_name": "Python 3",
   "language": "python",
   "name": "python3"
  },
  "language_info": {
   "codemirror_mode": {
    "name": "ipython",
    "version": 3
   },
   "file_extension": ".py",
   "mimetype": "text/x-python",
   "name": "python",
   "nbconvert_exporter": "python",
   "pygments_lexer": "ipython3",
   "version": "3.8.3"
  }
 },
 "nbformat": 4,
 "nbformat_minor": 4
}
