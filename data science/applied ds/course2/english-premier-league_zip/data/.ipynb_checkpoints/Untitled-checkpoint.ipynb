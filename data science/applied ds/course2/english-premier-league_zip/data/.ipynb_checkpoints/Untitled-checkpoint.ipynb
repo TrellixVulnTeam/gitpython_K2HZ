{
 "cells": [
  {
   "cell_type": "code",
   "execution_count": 1,
   "metadata": {},
   "outputs": [],
   "source": [
    "%matplotlib widget\n",
    "import pandas as pd \n",
    "import seaborn as sns;sns.set()\n",
    "import matplotlib.pyplot as plt\n",
    "import numpy as np\n",
    "import matplotlib.gridspec as gridspec\n",
    "from matplotlib import rcParams"
   ]
  },
  {
   "cell_type": "code",
   "execution_count": 2,
   "metadata": {},
   "outputs": [],
   "source": [
    "af=pd.read_csv(\"season-1516_csv.csv\")\n",
    "bf=pd.read_csv(\"season-1617_csv.csv\")\n",
    "cf=pd.read_csv(\"season-1718_csv.csv\")\n",
    "df=pd.read_csv(\"season-1819_csv.csv\")\n",
    "ef=pd.read_csv(\"season-1415_csv.csv\")\n",
    "ff=pd.read_csv(\"season-1314_csv.csv\")"
   ]
  },
  {
   "cell_type": "code",
   "execution_count": 3,
   "metadata": {},
   "outputs": [],
   "source": [
    "lei=af[(af[\"HomeTeam\"]==\"Leicester\") | (af[\"AwayTeam\"]==\"Leicester\")].reset_index(drop=True)\n",
    "che=bf[(bf[\"HomeTeam\"]==\"Chelsea\") | (bf[\"AwayTeam\"]==\"Chelsea\")].reset_index(drop=True)\n",
    "manc2=cf[(cf[\"HomeTeam\"]==\"Man City\") | (cf[\"AwayTeam\"]==\"Man City\")].reset_index(drop=True)\n",
    "manc3=df[(df[\"HomeTeam\"]==\"Man City\") | (df[\"AwayTeam\"]==\"Man City\")].reset_index(drop=True)\n",
    "che2=ef[(ef[\"HomeTeam\"]==\"Chelsea\") | (ef[\"AwayTeam\"]==\"Chelsea\")].reset_index(drop=True)\n",
    "manc=ff[(ff[\"HomeTeam\"]==\"Man City\") | (ff[\"AwayTeam\"]==\"Man City\")].reset_index(drop=True)\n",
    "liv=df[(df[\"HomeTeam\"]==\"Liverpool\") | (df[\"AwayTeam\"]==\"Liverpool\")].reset_index(drop=True)\n",
    "\n",
    "t=[manc,che,lei,che2,manc2,manc3,liv]\n",
    "y=[\"Man City\",\"Chelsea\",\"Leicester\",\"Chelsea\",\"Man City\",\"Man City\",\"Liverpool\"]"
   ]
  },
  {
   "cell_type": "code",
   "execution_count": 4,
   "metadata": {},
   "outputs": [],
   "source": [
    "j=0\n",
    "for team in t:\n",
    "    team[\"game week\"]=pd.Series(range(1,39))\n",
    "    team[\"result\"]=pd.Series([None]*38)\n",
    "    team[\"FTG\"]=pd.Series([None]*38)\n",
    "    team[\"HTG\"]=pd.Series([None]*38)\n",
    "    team[\"FCG\"]=pd.Series([None]*38)\n",
    "    team[\"HCG\"]=pd.Series([None]*38)\n",
    "    ftg=[]\n",
    "    htg=[]\n",
    "    fcg=[]\n",
    "    hcg=[]\n",
    "    s=[]\n",
    "    for i in team.index.values.tolist():\n",
    "        temp=team.loc[i]\n",
    "        if temp[\"HomeTeam\"]==y[j]:\n",
    "            ftg.append(temp.FTHG)\n",
    "            htg.append(temp.HTHG)\n",
    "            fcg.append(temp.FTAG)\n",
    "            hcg.append(temp.HTAG)\n",
    "            if temp.FTR==\"H\":\n",
    "                s.append(3)\n",
    "            elif temp.FTR==\"D\":\n",
    "                s.append(1)\n",
    "            else:\n",
    "                s.append(0)\n",
    "        elif temp[\"AwayTeam\"]==y[j]:\n",
    "            ftg.append(temp.FTAG)\n",
    "            htg.append(temp.HTAG)\n",
    "            fcg.append(temp.FTHG)\n",
    "            hcg.append(temp.HTHG)\n",
    "            if temp.FTR==\"A\":\n",
    "                s.append(3)\n",
    "            elif temp.FTR==\"D\":\n",
    "                s.append(1)\n",
    "            else:\n",
    "                s.append(0)\n",
    "    team.result=pd.Series(s).cumsum(0)\n",
    "    team.FTG=pd.Series(ftg).cumsum(0)\n",
    "    team.HTG=pd.Series(htg).cumsum(0)\n",
    "    team.FCG=pd.Series(fcg).cumsum(0)\n",
    "    team.HCG=pd.Series(hcg).cumsum(0)\n",
    "    j+=1\n",
    "    team.drop([\"Div\"],inplace=True,axis=1)"
   ]
  },
  {
   "cell_type": "code",
   "execution_count": 14,
   "metadata": {},
   "outputs": [
    {
     "data": {
      "application/vnd.jupyter.widget-view+json": {
       "model_id": "aa5c6953f1714396a9138d3f480fff61",
       "version_major": 2,
       "version_minor": 0
      },
      "text/plain": [
       "Canvas(toolbar=Toolbar(toolitems=[('Home', 'Reset original view', 'home', 'home'), ('Back', 'Back to previous …"
      ]
     },
     "metadata": {},
     "output_type": "display_data"
    },
    {
     "data": {
      "text/plain": [
       "Text(0.5, 1.0, 'Goals Scored')"
      ]
     },
     "execution_count": 14,
     "metadata": {},
     "output_type": "execute_result"
    }
   ],
   "source": [
    "plt.style.use(\"seaborn\")\n",
    "plt.figure()\n",
    "for i in t:\n",
    "    i.plot(x=\"game week\",y=\"FTG\",ax=plt.gca())\n",
    "\n",
    "plt.legend([\"Man City 13/14\",\"Chelsea 14/15\",\"Leicester 15/16\",\"Chelsea 16/17\",\"Man City 17/18\",\"Man City 18/19\",\"Liverpool 18/19\"])\n",
    "plt.show()\n",
    "plt.title(\"Goals Scored\")"
   ]
  },
  {
   "cell_type": "code",
   "execution_count": 15,
   "metadata": {},
   "outputs": [
    {
     "data": {
      "application/vnd.jupyter.widget-view+json": {
       "model_id": "d19eac889ecc4219a1543d4a1f1d1552",
       "version_major": 2,
       "version_minor": 0
      },
      "text/plain": [
       "Canvas(toolbar=Toolbar(toolitems=[('Home', 'Reset original view', 'home', 'home'), ('Back', 'Back to previous …"
      ]
     },
     "metadata": {},
     "output_type": "display_data"
    },
    {
     "data": {
      "text/plain": [
       "Text(0.5, 1.0, 'Goals Conceded')"
      ]
     },
     "execution_count": 15,
     "metadata": {},
     "output_type": "execute_result"
    }
   ],
   "source": [
    "plt.figure()\n",
    "for i in t:\n",
    "    i.plot(x=\"game week\",y=\"FCG\",ax=plt.gca())\n",
    "\n",
    "plt.legend([\"Man City 13/14\",\"Chelsea 14/15\",\"Leicester 15/16\",\"Chelsea 16/17\",\"Man City 17/18\",\"Man City 18/19\",\"Liverpool 18/19\"])\n",
    "plt.title(\"Goals Conceded\")"
   ]
  },
  {
   "cell_type": "code",
   "execution_count": 7,
   "metadata": {},
   "outputs": [],
   "source": [
    "\n",
    "goals=[]\n",
    "points=[]\n",
    "teams=[\"Man City 13/14\",\"Chelsea 14/15\",\"Leicester 15/16\",\"Chelsea 16/17\",\"Man City 17/18\",\"Man City 18/19\",\"Liverpool 18/19\"]\n",
    "for i in t:\n",
    "    goals.append(i.FTG.max())\n",
    "    points.append(i.result.max())\n",
    "    "
   ]
  },
  {
   "cell_type": "code",
   "execution_count": 13,
   "metadata": {},
   "outputs": [
    {
     "data": {
      "application/vnd.jupyter.widget-view+json": {
       "model_id": "569d8da74b6444f39d7ace071c267d48",
       "version_major": 2,
       "version_minor": 0
      },
      "text/plain": [
       "Canvas(toolbar=Toolbar(toolitems=[('Home', 'Reset original view', 'home', 'home'), ('Back', 'Back to previous …"
      ]
     },
     "metadata": {},
     "output_type": "display_data"
    }
   ],
   "source": [
    "plt.figure()\n",
    "\n",
    "sns.barplot(x=teams,y=points,palette=\"Blues\")\n",
    "sns.lineplot(x=teams,y=goals,markers=True,err_style=\"band\")\n",
    "plt.gca().tick_params(axis=\"both\",labelsize=7)\n",
    "plt.xticks(rotation=45)\n",
    "plt.tight_layout()"
   ]
  },
  {
   "cell_type": "code",
   "execution_count": null,
   "metadata": {},
   "outputs": [],
   "source": []
  },
  {
   "cell_type": "code",
   "execution_count": null,
   "metadata": {},
   "outputs": [],
   "source": []
  }
 ],
 "metadata": {
  "kernelspec": {
   "display_name": "Python 3",
   "language": "python",
   "name": "python3"
  },
  "language_info": {
   "codemirror_mode": {
    "name": "ipython",
    "version": 3
   },
   "file_extension": ".py",
   "mimetype": "text/x-python",
   "name": "python",
   "nbconvert_exporter": "python",
   "pygments_lexer": "ipython3",
   "version": "3.8.3"
  }
 },
 "nbformat": 4,
 "nbformat_minor": 4
}
