{
 "cells": [
  {
   "cell_type": "code",
   "execution_count": 4,
   "metadata": {},
   "outputs": [
    {
     "data": {
      "application/vnd.jupyter.widget-view+json": {
       "model_id": "41b5e7f5c41c43a194e374c128b981c7",
       "version_major": 2,
       "version_minor": 0
      },
      "text/plain": [
       "Canvas(toolbar=Toolbar(toolitems=[('Home', 'Reset original view', 'home', 'home'), ('Back', 'Back to previous …"
      ]
     },
     "metadata": {},
     "output_type": "display_data"
    }
   ],
   "source": [
    "%matplotlib widget \n",
    "import matplotlib.pyplot as plt\n",
    "import pandas as pd\n",
    "import numpy as np\n",
    "import matplotlib.colors\n",
    "import numpy as np; np.random.seed(0)\n",
    "\n",
    "\n",
    "np.random.seed(12345)\n",
    "\n",
    "df = pd.DataFrame([np.random.normal(32000,200000,3650), \n",
    "                   np.random.normal(43000,100000,3650), \n",
    "                   np.random.normal(43500,140000,3650), \n",
    "                   np.random.normal(48000,70000,3650)], \n",
    "                  index=[1992,1993,1994,1995])\n",
    "                  \n",
    "c=df.mean(axis=1)\n",
    "df_std=df.std(axis=1)\n",
    "\n",
    "x = np.random.rand(len(c))*3+2\n",
    "\n",
    "cmap=plt.cm.rainbow\n",
    "norm=matplotlib.colors.Normalize(vmin=2, vmax=5)\n",
    "\n",
    "df_yerr= df_std/(df.shape[1]**0.5)\n",
    "plt.figure()\n",
    "_=plt.bar([0,1,2,3],c.values.tolist(),yerr=df_yerr.values.tolist(),align=\"center\",width=0.7,color=cmap(norm(x)))\n",
    "plt.axhline(y=42000,color=\"red\",alpha=0.5)\n",
    "_=plt.xticks([0,1,2,3], ['1992', '1993', '1994', '1995'])\n",
    "_=plt.title(\"Ferreira et al. 2014\")\n",
    "\n",
    "sm = plt.cm.ScalarMappable(cmap=cmap, norm=norm)\n",
    "plt.colorbar(sm)\n",
    "\n",
    "for i in plt.gca().spines.values():\n",
    "    i.set_visible(False)"
   ]
  },
  {
   "cell_type": "code",
   "execution_count": null,
   "metadata": {},
   "outputs": [],
   "source": []
  },
  {
   "cell_type": "code",
   "execution_count": null,
   "metadata": {},
   "outputs": [],
   "source": []
  }
 ],
 "metadata": {
  "kernelspec": {
   "display_name": "Python 3",
   "language": "python",
   "name": "python3"
  },
  "language_info": {
   "codemirror_mode": {
    "name": "ipython",
    "version": 3
   },
   "file_extension": ".py",
   "mimetype": "text/x-python",
   "name": "python",
   "nbconvert_exporter": "python",
   "pygments_lexer": "ipython3",
   "version": "3.8.3"
  }
 },
 "nbformat": 4,
 "nbformat_minor": 4
}
