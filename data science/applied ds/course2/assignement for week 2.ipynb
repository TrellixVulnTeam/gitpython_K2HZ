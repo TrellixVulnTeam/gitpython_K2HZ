{
 "cells": [
  {
   "cell_type": "code",
   "execution_count": 1,
   "metadata": {},
   "outputs": [
    {
     "data": {
      "application/vnd.jupyter.widget-view+json": {
       "model_id": "8295b930c0e945c8a2891157f6c0b88b",
       "version_major": 2,
       "version_minor": 0
      },
      "text/plain": [
       "Canvas(toolbar=Toolbar(toolitems=[('Home', 'Reset original view', 'home', 'home'), ('Back', 'Back to previous …"
      ]
     },
     "metadata": {},
     "output_type": "display_data"
    }
   ],
   "source": [
    "%matplotlib widget\n",
    "import pandas as pd\n",
    "import matplotlib.pyplot as plt\n",
    "\n",
    "import numpy as np\n",
    "import matplotlib.dates as mdates\n",
    "import datetime\n",
    "import matplotlib.ticker as ticker\n",
    "\n",
    "df=pd.read_csv(\"fb441e62df2d58994928907a91895ec62c2c42e6cd075c2700843b89.csv\")\n",
    "df[\"Date\"]=pd.to_datetime(df[\"Date\"])\n",
    "df[\"Year\"]=df[\"Date\"].dt.year\n",
    "df[\"Month\"]=df[\"Date\"].dt.month\n",
    "df[\"Month_Date\"]=df[\"Date\"].dt.strftime(\"%m-%d\")\n",
    "df=df[df[\"Month_Date\"]!=\"02-29\"]\n",
    "df[\"Data_Value\"]=df[\"Data_Value\"]*0.1\n",
    "month={1:\"Jan\",2:\"Feb\",3:\"March\",4:\"April\",5:\"May\",6:\"June\",7:\"July\",8:\"Aug\",9:\"Sept\",10:\"Oct\",11:\"Nov\",12:\"Dec\"}\n",
    "df[\"monthName\"]=df.Month.map(month)\n",
    "\n",
    "maxt=df[df[\"Element\"]==\"TMAX\"].reset_index(drop=True)\n",
    "mint=df[df[\"Element\"]==\"TMIN\"].reset_index(drop=True)\n",
    "\n",
    "maxt=maxt.sort_values(\"Date\").reset_index(drop=True)\n",
    "mint=mint.sort_values(\"Date\").reset_index(drop=True)\n",
    "\n",
    "x=maxt.groupby([\"Month_Date\"])[\"Data_Value\"].max()\n",
    "y=mint.groupby(\"Month_Date\")[\"Data_Value\"].min()\n",
    "\n",
    "cmax=maxt[maxt[\"Year\"]==2015].reset_index(drop=True)\n",
    "cmin=mint[mint[\"Year\"]==2015].reset_index(drop=True)\n",
    "xo=cmax.groupby(\"Date\")[\"Data_Value\"].max()\n",
    "yo=cmin.groupby(\"Date\")[\"Data_Value\"].min()\n",
    "\n",
    "zf=pd.DataFrame(x)\n",
    "zf.reset_index(inplace=True)\n",
    "zf[\"maxt\"]=True\n",
    "zf.set_index([\"Month_Date\",\"Data_Value\"],inplace=True)\n",
    "maxt.set_index([\"Month_Date\",\"Data_Value\"],inplace=True)\n",
    "\n",
    "xf=pd.merge(maxt,zf,how=\"inner\",left_index=True,right_index=True)\n",
    "xf.reset_index(inplace=True)\n",
    "xf.drop_duplicates(subset=\"Month_Date\",inplace=True)\n",
    "xf.set_index(\"Month_Date\",inplace=True)\n",
    "\n",
    "wf=pd.DataFrame(y)\n",
    "wf.reset_index(inplace=True)\n",
    "wf[\"mint\"]=True\n",
    "wf.set_index([\"Month_Date\",\"Data_Value\"],inplace=True)\n",
    "mint.set_index([\"Month_Date\",\"Data_Value\"],inplace=True)\n",
    "\n",
    "yf=pd.merge(mint,wf,how=\"inner\",left_index=True,right_index=True)\n",
    "yf.reset_index(inplace=True)\n",
    "yf.drop_duplicates(subset=\"Month_Date\",inplace=True)\n",
    "yf.set_index(\"Month_Date\",inplace=True)\n",
    "\n",
    "cx=xf.set_index(\"Date\")\n",
    "a=pd.merge(cx[\"Data_Value\"],xo,how=\"inner\",left_index=True,right_index=True,on=[\"Data_Value\"])\n",
    "dx=yf.set_index(\"Date\")\n",
    "b=pd.merge(dx[\"Data_Value\"],yo,how=\"inner\",left_index=True,right_index=True,on=[\"Data_Value\"])\n",
    "\n",
    "ds=(np.arange(\"2015-01-01\",\"2016-01-01\",dtype='datetime64[D]')).tolist()\n",
    "\n",
    "plt.figure()\n",
    "plt.plot(ds,xf[\"Data_Value\"].values.tolist(),lw=1,c=\"green\")\n",
    "plt.plot(ds,yf[\"Data_Value\"].values.tolist(),lw=1,c=\"lightcoral\")\n",
    "plt.scatter(a.index,a[\"Data_Value\"],color=\"red\",alpha=1,s=25)\n",
    "plt.scatter(b.index,b[\"Data_Value\"],color=\"lightgreen\",alpha=1,s=25)\n",
    "i=x.index.tolist()\n",
    "plt.gca().fill_between(ds,\n",
    "                       xf[\"Data_Value\"].values.tolist(),yf[\"Data_Value\"].values.tolist(),\n",
    "                      color=\"grey\",alpha=0.25)\n",
    "\n",
    "                       \n",
    "plt.legend(['Record high (2005-2014)','Record low (2005-2014)','Record breaking high in 2015','Record breaking low in 2015'],loc=0,frameon=False\n",
    "          ,prop={\"size\":6})\n",
    "\n",
    "plt.xlabel('Months', fontsize=10)\n",
    "plt.ylabel('° Celsius', fontsize=10)\n",
    "plt.title('Max vs Min temp.', fontsize=12)\n",
    "ax = plt.gca()\n",
    "\n",
    "monthformat = mdates.DateFormatter('%b')\n",
    "months = mdates.MonthLocator()\n",
    "ax.xaxis.set_major_locator(months)\n",
    "ax.xaxis.set_major_formatter(monthformat)\n",
    "ax.set_xlim([datetime.date(2015, 1, 1), datetime.date(2015, 12, 31)])\n",
    "\n",
    "for i in plt.gca().spines.values():\n",
    "    i.set_visible(False)\n",
    "\n",
    "ax.xaxis.set_major_locator(mdates.MonthLocator())\n",
    "ax.xaxis.set_minor_locator(mdates.MonthLocator(bymonthday=15))\n",
    "for tick in ax.xaxis.get_minor_ticks():\n",
    "    tick.tick1line.set_markersize(0) # Make small ticker disappear\n",
    "    tick.label1.set_horizontalalignment('center')"
   ]
  },
  {
   "cell_type": "code",
   "execution_count": 3,
   "metadata": {},
   "outputs": [
    {
     "data": {
      "text/plain": [
       "0        2014-11-12\n",
       "1        2009-04-29\n",
       "2        2008-05-26\n",
       "3        2005-11-11\n",
       "4        2014-02-27\n",
       "            ...    \n",
       "165080   2015-06-09\n",
       "165081   2009-10-06\n",
       "165082   2014-07-14\n",
       "165083   2006-11-29\n",
       "165084   2006-09-04\n",
       "Name: Date, Length: 165002, dtype: datetime64[ns]"
      ]
     },
     "execution_count": 3,
     "metadata": {},
     "output_type": "execute_result"
    }
   ],
   "source": [
    "df.Date"
   ]
  },
  {
   "cell_type": "code",
   "execution_count": null,
   "metadata": {},
   "outputs": [],
   "source": []
  }
 ],
 "metadata": {
  "kernelspec": {
   "display_name": "Python 3",
   "language": "python",
   "name": "python3"
  },
  "language_info": {
   "codemirror_mode": {
    "name": "ipython",
    "version": 3
   },
   "file_extension": ".py",
   "mimetype": "text/x-python",
   "name": "python",
   "nbconvert_exporter": "python",
   "pygments_lexer": "ipython3",
   "version": "3.8.3"
  }
 },
 "nbformat": 4,
 "nbformat_minor": 4
}
