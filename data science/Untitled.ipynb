{
 "cells": [
  {
   "cell_type": "code",
   "execution_count": null,
   "metadata": {},
   "outputs": [],
   "source": [
    "def yolo(hours,parts):\n",
    "    \n",
    "    part=hours/parts\n",
    "    \n",
    "    find(part,parts)\n",
    "    \n",
    "\n",
    "    \n",
    "\n",
    "def find(part,parts,l=None):\n",
    "    \n",
    "    for i in range(2,part+1):\n",
    "        \n",
    "        if prime(i,part,parts):\n",
    "            \n",
    "    \n",
    "\n",
    "def prime(i,part,parts,count=None):\n",
    "    \n",
    "    c=0\n",
    "    if i==2:\n",
    "        \n",
    "        prime(i+part)\n",
    "    for j in range(2,i):\n",
    "        \n",
    "        if i%j==0:\n",
    "            c+=1\n",
    "    \n",
    "    if count==0:\n",
    "        prime"
   ]
  },
  {
   "cell_type": "code",
   "execution_count": 1,
   "metadata": {},
   "outputs": [
    {
     "data": {
      "text/plain": [
       "17"
      ]
     },
     "execution_count": 1,
     "metadata": {},
     "output_type": "execute_result"
    }
   ],
   "source": [
    "def example(l,a):\n",
    "    \n",
    "    \n",
    "    l.sort()\n",
    "    for i in range(a):\n",
    "        \n",
    "        maximumNum=l[-1]\n",
    "        newNum=maximumNum//2\n",
    "        l[-1]=newNum\n",
    "        l.sort()\n",
    "    \n",
    "    return sum(l)\n",
    "\n",
    "example([20,5,7,4],3)"
   ]
  },
  {
   "cell_type": "code",
   "execution_count": null,
   "metadata": {},
   "outputs": [],
   "source": [
    "class stocks:\n",
    "    \n",
    "    def __init__(self,_id,trade,name,price,quantity):\n",
    "        \n",
    "        self.id=_id\n",
    "        self.trade=trade\n",
    "        self.name=name\n",
    "        self.price=int(price)\n",
    "        self.quantity=int(quantity)\n",
    "\n",
    "        \n",
    "\n",
    "def stocks():\n",
    "    \n",
    "    n=int(input())\n",
    "    sell={}\n",
    "    buy={}\n",
    "    \n",
    "    for i in range(n):\n",
    "        \n",
    "        text=input().split()\n",
    "        \n",
    "        stock=stocks(text[0],text[1],text[2],text[3],text[4])\n",
    "        \n",
    "        if stock.trade==\"Sell\":\n",
    "            \n",
    "            sell[stock.name]={\n",
    "                \"id\":stock.id,\n",
    "                \"price\":stock.price,\n",
    "                \"quantity\":stock.quantity\n",
    "            }\n",
    "            \n",
    "            continue \n",
    "        \n",
    "        \n",
    "            \n",
    "        \n",
    "        \n",
    "    "
   ]
  }
 ],
 "metadata": {
  "kernelspec": {
   "display_name": "Python 3",
   "language": "python",
   "name": "python3"
  },
  "language_info": {
   "codemirror_mode": {
    "name": "ipython",
    "version": 3
   },
   "file_extension": ".py",
   "mimetype": "text/x-python",
   "name": "python",
   "nbconvert_exporter": "python",
   "pygments_lexer": "ipython3",
   "version": "3.8.3"
  }
 },
 "nbformat": 4,
 "nbformat_minor": 4
}
