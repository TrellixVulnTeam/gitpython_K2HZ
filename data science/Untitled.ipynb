{
 "cells": [
  {
   "cell_type": "code",
   "execution_count": null,
   "metadata": {},
   "outputs": [],
   "source": [
    "def yolo(hours,parts):\n",
    "    \n",
    "    part=hours/parts\n",
    "    \n",
    "    find(part,parts)\n",
    "    \n",
    "\n",
    "    \n",
    "\n",
    "def find(part,parts,l=None):\n",
    "    \n",
    "    for i in range(2,part+1):\n",
    "        \n",
    "        if prime(i,part,parts):\n",
    "            \n",
    "    \n",
    "\n",
    "def prime(i,part,parts,count=None):\n",
    "    \n",
    "    c=0\n",
    "    if i==2:\n",
    "        \n",
    "        prime(i+part)\n",
    "    for j in range(2,i):\n",
    "        \n",
    "        if i%j==0:\n",
    "            c+=1\n",
    "    \n",
    "    if count==0:\n",
    "        prime"
   ]
  },
  {
   "cell_type": "code",
   "execution_count": 1,
   "metadata": {},
   "outputs": [
    {
     "data": {
      "text/plain": [
       "17"
      ]
     },
     "execution_count": 1,
     "metadata": {},
     "output_type": "execute_result"
    }
   ],
   "source": [
    "def example(l,a):\n",
    "    \n",
    "    \n",
    "    l.sort()\n",
    "    for i in range(a):\n",
    "        \n",
    "        maximumNum=l[-1]\n",
    "        newNum=maximumNum//2\n",
    "        l[-1]=newNum\n",
    "        l.sort()\n",
    "    \n",
    "    return sum(l)\n",
    "\n",
    "example([20,5,7,4],3)"
   ]
  },
  {
   "cell_type": "code",
   "execution_count": null,
   "metadata": {},
   "outputs": [],
   "source": [
    "class stocks:\n",
    "    \n",
    "    def __init__(self,_id,trade,name,price,quantity):\n",
    "        \n",
    "        self.id=_id\n",
    "        self.trade=trade\n",
    "        self.name=name\n",
    "        self.price=int(price)\n",
    "        self.quantity=int(quantity)\n",
    "\n",
    "        \n",
    "\n",
    "def stocks():\n",
    "    \n",
    "    n=int(input())\n",
    "    sell={}\n",
    "    buy={}\n",
    "    \n",
    "    for i in range(n):\n",
    "        \n",
    "        text=input().split()\n",
    "        \n",
    "        stock=stocks(text[0],text[1],text[2],text[3],text[4])\n",
    "        \n",
    "        if stock.trade==\"Sell\":\n",
    "            \n",
    "            sell[stock.name]={\n",
    "                \"id\":stock.id,\n",
    "                \"price\":stock.price,\n",
    "                \"quantity\":stock.quantity\n",
    "            }\n",
    "            \n",
    "            continue \n",
    "        \n",
    "        \n",
    "            \n",
    "        \n",
    "        \n",
    "    "
   ]
  },
  {
   "cell_type": "code",
   "execution_count": 4,
   "metadata": {},
   "outputs": [
    {
     "name": "stderr",
     "output_type": "stream",
     "text": [
      "/Users/aushakanuz/anaconda3/lib/python3.8/site-packages/sklearn/utils/validation.py:68: FutureWarning: Pass threshold=1.1 as keyword args. From version 0.25 passing these as positional arguments will result in an error\n",
      "  warnings.warn(\"Pass {} as keyword args. From version 0.25 \"\n"
     ]
    },
    {
     "data": {
      "text/plain": [
       "array([[1., 0., 0.],\n",
       "       [0., 1., 0.],\n",
       "       [0., 1., 1.]])"
      ]
     },
     "execution_count": 4,
     "metadata": {},
     "output_type": "execute_result"
    }
   ],
   "source": [
    "import numpy as np\n",
    "import sklearn\n",
    "from sklearn.preprocessing import Binarizer\n",
    "a=np.array([[7.1,-2.3,0.3],[-4.2,6.8,-5.1],[-3.2,9.8,2.1]])\n",
    "\n",
    "binarizer_1 = Binarizer(1.1)\n",
    "binarizer_1.fit_transform(a)\n",
    "  "
   ]
  },
  {
   "cell_type": "code",
   "execution_count": 5,
   "metadata": {},
   "outputs": [],
   "source": [
    "def area(w,l,h):\n",
    "    \n",
    "    return 2*((w*l)+(l*h)+(h*w))\n",
    "\n",
    "\n",
    "    "
   ]
  },
  {
   "cell_type": "code",
   "execution_count": 51,
   "metadata": {},
   "outputs": [],
   "source": [
    "import numpy as np\n",
    "from sklearn.linear_model import LinearRegression\n",
    "\n",
    "x=np.array([-1,1,2,3]).reshape((-1, 1))\n",
    "y=np.array([1,3,4,5])\n",
    "model = LinearRegression().fit(x, y)"
   ]
  },
  {
   "cell_type": "code",
   "execution_count": 52,
   "metadata": {},
   "outputs": [],
   "source": [
    "a=model.intercept_"
   ]
  },
  {
   "cell_type": "code",
   "execution_count": 54,
   "metadata": {},
   "outputs": [],
   "source": [
    "b=model.coef_"
   ]
  },
  {
   "cell_type": "code",
   "execution_count": 55,
   "metadata": {},
   "outputs": [
    {
     "data": {
      "text/plain": [
       "array([3.46938776])"
      ]
     },
     "execution_count": 55,
     "metadata": {},
     "output_type": "execute_result"
    }
   ],
   "source": [
    "a*a + b*b"
   ]
  },
  {
   "cell_type": "code",
   "execution_count": 56,
   "metadata": {},
   "outputs": [
    {
     "data": {
      "text/plain": [
       "array([1.57142857])"
      ]
     },
     "execution_count": 56,
     "metadata": {},
     "output_type": "execute_result"
    }
   ],
   "source": [
    "a*b"
   ]
  },
  {
   "cell_type": "code",
   "execution_count": 57,
   "metadata": {},
   "outputs": [
    {
     "data": {
      "text/plain": [
       "array([1.57142857])"
      ]
     },
     "execution_count": 57,
     "metadata": {},
     "output_type": "execute_result"
    }
   ],
   "source": [
    "a"
   ]
  },
  {
   "cell_type": "code",
   "execution_count": 58,
   "metadata": {},
   "outputs": [
    {
     "data": {
      "text/plain": [
       "array([1.])"
      ]
     },
     "execution_count": 58,
     "metadata": {},
     "output_type": "execute_result"
    }
   ],
   "source": [
    "b"
   ]
  },
  {
   "cell_type": "code",
   "execution_count": 40,
   "metadata": {},
   "outputs": [
    {
     "data": {
      "text/plain": [
       "array([[-1],\n",
       "       [ 1],\n",
       "       [ 2],\n",
       "       [ 3]])"
      ]
     },
     "execution_count": 40,
     "metadata": {},
     "output_type": "execute_result"
    }
   ],
   "source": [
    "x"
   ]
  },
  {
   "cell_type": "code",
   "execution_count": 59,
   "metadata": {},
   "outputs": [],
   "source": [
    "import numpy as np\n",
    "from sklearn.linear_model import LinearRegression\n",
    "\n",
    "x=np.array([-1,1,2,3]).reshape((-1, 1))\n",
    "y=np.array([1,3,4,5])\n",
    "model = LinearRegression().fit(x, y)"
   ]
  },
  {
   "cell_type": "code",
   "execution_count": 60,
   "metadata": {},
   "outputs": [
    {
     "data": {
      "text/plain": [
       "array([[-1],\n",
       "       [ 1],\n",
       "       [ 2],\n",
       "       [ 3]])"
      ]
     },
     "execution_count": 60,
     "metadata": {},
     "output_type": "execute_result"
    }
   ],
   "source": [
    "x"
   ]
  },
  {
   "cell_type": "code",
   "execution_count": 61,
   "metadata": {},
   "outputs": [
    {
     "data": {
      "text/plain": [
       "array([1, 3, 4, 5])"
      ]
     },
     "execution_count": 61,
     "metadata": {},
     "output_type": "execute_result"
    }
   ],
   "source": [
    "y"
   ]
  },
  {
   "cell_type": "code",
   "execution_count": 62,
   "metadata": {},
   "outputs": [
    {
     "data": {
      "text/plain": [
       "2.0"
      ]
     },
     "execution_count": 62,
     "metadata": {},
     "output_type": "execute_result"
    }
   ],
   "source": [
    "model.intercept_"
   ]
  },
  {
   "cell_type": "code",
   "execution_count": 63,
   "metadata": {},
   "outputs": [
    {
     "data": {
      "text/plain": [
       "array([1.])"
      ]
     },
     "execution_count": 63,
     "metadata": {},
     "output_type": "execute_result"
    }
   ],
   "source": [
    "model.coef_"
   ]
  },
  {
   "cell_type": "code",
   "execution_count": null,
   "metadata": {},
   "outputs": [],
   "source": []
  }
 ],
 "metadata": {
  "kernelspec": {
   "display_name": "Python 3",
   "language": "python",
   "name": "python3"
  },
  "language_info": {
   "codemirror_mode": {
    "name": "ipython",
    "version": 3
   },
   "file_extension": ".py",
   "mimetype": "text/x-python",
   "name": "python",
   "nbconvert_exporter": "python",
   "pygments_lexer": "ipython3",
   "version": "3.8.3"
  }
 },
 "nbformat": 4,
 "nbformat_minor": 4
}
