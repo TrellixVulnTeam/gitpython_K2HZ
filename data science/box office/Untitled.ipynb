{
 "cells": [
  {
   "cell_type": "code",
   "execution_count": 1,
   "metadata": {},
   "outputs": [],
   "source": [
    "import pandas as pd \n",
    "import numpy as np\n",
    "import seaborn as sns\n",
    "import matplotlib.pyplot as plt\n",
    "%matplotlib widget\n",
    "plt.style.use('ggplot')"
   ]
  },
  {
   "cell_type": "code",
   "execution_count": 2,
   "metadata": {},
   "outputs": [],
   "source": [
    "train=pd.read_csv(\"train.csv\") \n",
    "test=pd.read_csv(\"test.csv\")"
   ]
  },
  {
   "cell_type": "code",
   "execution_count": 3,
   "metadata": {},
   "outputs": [],
   "source": [
    "train[\"log_revenue\"]=np.log1p(train[\"revenue\"])"
   ]
  },
  {
   "cell_type": "code",
   "execution_count": 4,
   "metadata": {},
   "outputs": [
    {
     "data": {
      "application/vnd.jupyter.widget-view+json": {
       "model_id": "1c66e05e7e8e4e94bd8fe1a8a9385799",
       "version_major": 2,
       "version_minor": 0
      },
      "text/plain": [
       "Canvas(toolbar=Toolbar(toolitems=[('Home', 'Reset original view', 'home', 'home'), ('Back', 'Back to previous …"
      ]
     },
     "metadata": {},
     "output_type": "display_data"
    }
   ],
   "source": [
    "fig,ax=plt.subplots(figsize=(13,5))\n",
    "plt.subplot(1,2,1)\n",
    "sns.distplot(train[\"revenue\"]);\n",
    "plt.subplot(1,2,2)\n",
    "sns.distplot(train[\"log_revenue\"]);"
   ]
  },
  {
   "cell_type": "code",
   "execution_count": 5,
   "metadata": {},
   "outputs": [],
   "source": [
    "train[\"log_budget\"]=np.log1p(train[\"budget\"])\n",
    "test[\"log_budget\"]=np.log1p(test[\"budget\"])"
   ]
  },
  {
   "cell_type": "code",
   "execution_count": 6,
   "metadata": {},
   "outputs": [
    {
     "data": {
      "application/vnd.jupyter.widget-view+json": {
       "model_id": "099e5d06d2804621911e79366b392acd",
       "version_major": 2,
       "version_minor": 0
      },
      "text/plain": [
       "Canvas(toolbar=Toolbar(toolitems=[('Home', 'Reset original view', 'home', 'home'), ('Back', 'Back to previous …"
      ]
     },
     "metadata": {},
     "output_type": "display_data"
    }
   ],
   "source": [
    "sns.set_context(\"paper\", rc={\"font.size\":5,\"axes.titlesize\":8,\"axes.labelsize\":8})\n",
    "fig,ax=plt.subplots(figsize=(13,5))\n",
    "plt.subplot(1,2,1)\n",
    "sns.scatterplot(x=\"log_revenue\",y=\"budget\",data=train,size=1,linewidth=0.3);\n",
    "plt.gca().tick_params(axis=\"both\",labelsize=9);\n",
    "plt.subplot(1,2,2)\n",
    "sns.scatterplot(x=\"log_revenue\",y=\"log_budget\",data=train,size=6,alpha=0.5,linewidth=0.3);\n",
    "plt.gca().tick_params(axis=\"both\",labelsize=9);"
   ]
  },
  {
   "cell_type": "code",
   "execution_count": 7,
   "metadata": {},
   "outputs": [],
   "source": [
    "train[\"has_homepage\"]=0"
   ]
  },
  {
   "cell_type": "code",
   "execution_count": 8,
   "metadata": {},
   "outputs": [],
   "source": [
    "train.loc[train[\"homepage\"].isnull()==False,\"has_homepage\"]=1"
   ]
  },
  {
   "cell_type": "code",
   "execution_count": 9,
   "metadata": {},
   "outputs": [],
   "source": [
    "test[\"has_homepage\"]=0\n",
    "test.loc[test[\"homepage\"].isnull()==False,\"has_homepage\"]=1"
   ]
  },
  {
   "cell_type": "code",
   "execution_count": 12,
   "metadata": {},
   "outputs": [
    {
     "data": {
      "application/vnd.jupyter.widget-view+json": {
       "model_id": "205446dc1ba446f98e7783ecd8ad8d94",
       "version_major": 2,
       "version_minor": 0
      },
      "text/plain": [
       "Canvas(toolbar=Toolbar(toolitems=[('Home', 'Reset original view', 'home', 'home'), ('Back', 'Back to previous …"
      ]
     },
     "metadata": {},
     "output_type": "display_data"
    }
   ],
   "source": [
    "sns.catplot(x=\"revenue\",y=\"has_homepage\",data=train);"
   ]
  },
  {
   "cell_type": "code",
   "execution_count": 11,
   "metadata": {},
   "outputs": [
    {
     "data": {
      "text/html": [
       "<div>\n",
       "<style scoped>\n",
       "    .dataframe tbody tr th:only-of-type {\n",
       "        vertical-align: middle;\n",
       "    }\n",
       "\n",
       "    .dataframe tbody tr th {\n",
       "        vertical-align: top;\n",
       "    }\n",
       "\n",
       "    .dataframe thead th {\n",
       "        text-align: right;\n",
       "    }\n",
       "</style>\n",
       "<table border=\"1\" class=\"dataframe\">\n",
       "  <thead>\n",
       "    <tr style=\"text-align: right;\">\n",
       "      <th></th>\n",
       "      <th>id</th>\n",
       "      <th>budget</th>\n",
       "      <th>homepage</th>\n",
       "      <th>imdb_id</th>\n",
       "      <th>original_language</th>\n",
       "      <th>original_title</th>\n",
       "      <th>overview</th>\n",
       "      <th>popularity</th>\n",
       "      <th>poster_path</th>\n",
       "      <th>release_date</th>\n",
       "      <th>...</th>\n",
       "      <th>departments_Writing</th>\n",
       "      <th>departments_Costume &amp; Make-Up</th>\n",
       "      <th>departments_Camera</th>\n",
       "      <th>departments_Directing</th>\n",
       "      <th>departments_Editing</th>\n",
       "      <th>departments_Visual Effects</th>\n",
       "      <th>departments_Lighting</th>\n",
       "      <th>departments_Actors</th>\n",
       "      <th>log_budget</th>\n",
       "      <th>has_homepage</th>\n",
       "    </tr>\n",
       "  </thead>\n",
       "  <tbody>\n",
       "    <tr>\n",
       "      <th>0</th>\n",
       "      <td>3001</td>\n",
       "      <td>0</td>\n",
       "      <td>http://www.pokemon.com/us/movies/movie-pokemon...</td>\n",
       "      <td>tt1226251</td>\n",
       "      <td>ja</td>\n",
       "      <td>ディアルガVSパルキアVSダークライ</td>\n",
       "      <td>Ash and friends (this time accompanied by newc...</td>\n",
       "      <td>3.851534</td>\n",
       "      <td>/tnftmLMemPLduW6MRyZE0ZUD19z.jpg</td>\n",
       "      <td>7/14/07</td>\n",
       "      <td>...</td>\n",
       "      <td>1</td>\n",
       "      <td>0</td>\n",
       "      <td>0</td>\n",
       "      <td>1</td>\n",
       "      <td>0</td>\n",
       "      <td>0</td>\n",
       "      <td>0</td>\n",
       "      <td>0</td>\n",
       "      <td>0.000000</td>\n",
       "      <td>1</td>\n",
       "    </tr>\n",
       "    <tr>\n",
       "      <th>1</th>\n",
       "      <td>3002</td>\n",
       "      <td>88000</td>\n",
       "      <td>NaN</td>\n",
       "      <td>tt0051380</td>\n",
       "      <td>en</td>\n",
       "      <td>Attack of the 50 Foot Woman</td>\n",
       "      <td>When an abused wife grows to giant size becaus...</td>\n",
       "      <td>3.559789</td>\n",
       "      <td>/9MgBNBqlH1sG4yG2u4XkwI5CoJa.jpg</td>\n",
       "      <td>5/19/58</td>\n",
       "      <td>...</td>\n",
       "      <td>1</td>\n",
       "      <td>1</td>\n",
       "      <td>1</td>\n",
       "      <td>1</td>\n",
       "      <td>1</td>\n",
       "      <td>0</td>\n",
       "      <td>0</td>\n",
       "      <td>0</td>\n",
       "      <td>11.385103</td>\n",
       "      <td>0</td>\n",
       "    </tr>\n",
       "    <tr>\n",
       "      <th>2</th>\n",
       "      <td>3003</td>\n",
       "      <td>0</td>\n",
       "      <td>NaN</td>\n",
       "      <td>tt0118556</td>\n",
       "      <td>en</td>\n",
       "      <td>Addicted to Love</td>\n",
       "      <td>Good-natured astronomer Sam is devastated when...</td>\n",
       "      <td>8.085194</td>\n",
       "      <td>/ed6nD7h9sbojSWY2qrnDcSvDFko.jpg</td>\n",
       "      <td>5/23/97</td>\n",
       "      <td>...</td>\n",
       "      <td>1</td>\n",
       "      <td>0</td>\n",
       "      <td>1</td>\n",
       "      <td>1</td>\n",
       "      <td>1</td>\n",
       "      <td>0</td>\n",
       "      <td>0</td>\n",
       "      <td>0</td>\n",
       "      <td>0.000000</td>\n",
       "      <td>0</td>\n",
       "    </tr>\n",
       "    <tr>\n",
       "      <th>3</th>\n",
       "      <td>3004</td>\n",
       "      <td>6800000</td>\n",
       "      <td>http://www.sonyclassics.com/incendies/</td>\n",
       "      <td>tt1255953</td>\n",
       "      <td>fr</td>\n",
       "      <td>Incendies</td>\n",
       "      <td>A mother's last wishes send twins Jeanne and S...</td>\n",
       "      <td>8.596012</td>\n",
       "      <td>/sEUG3qjxwHjxkzuO7plrRHhOZUH.jpg</td>\n",
       "      <td>9/4/10</td>\n",
       "      <td>...</td>\n",
       "      <td>3</td>\n",
       "      <td>7</td>\n",
       "      <td>3</td>\n",
       "      <td>2</td>\n",
       "      <td>3</td>\n",
       "      <td>6</td>\n",
       "      <td>3</td>\n",
       "      <td>0</td>\n",
       "      <td>15.732433</td>\n",
       "      <td>1</td>\n",
       "    </tr>\n",
       "    <tr>\n",
       "      <th>4</th>\n",
       "      <td>3005</td>\n",
       "      <td>2000000</td>\n",
       "      <td>NaN</td>\n",
       "      <td>tt0418753</td>\n",
       "      <td>en</td>\n",
       "      <td>Inside Deep Throat</td>\n",
       "      <td>In 1972, a seemingly typical shoestring budget...</td>\n",
       "      <td>3.217680</td>\n",
       "      <td>/n4WC3zbelz6SG7rhkWbf8m9pMHB.jpg</td>\n",
       "      <td>2/11/05</td>\n",
       "      <td>...</td>\n",
       "      <td>2</td>\n",
       "      <td>0</td>\n",
       "      <td>2</td>\n",
       "      <td>2</td>\n",
       "      <td>2</td>\n",
       "      <td>0</td>\n",
       "      <td>0</td>\n",
       "      <td>0</td>\n",
       "      <td>14.508658</td>\n",
       "      <td>0</td>\n",
       "    </tr>\n",
       "  </tbody>\n",
       "</table>\n",
       "<p>5 rows × 204 columns</p>\n",
       "</div>"
      ],
      "text/plain": [
       "     id   budget                                           homepage  \\\n",
       "0  3001        0  http://www.pokemon.com/us/movies/movie-pokemon...   \n",
       "1  3002    88000                                                NaN   \n",
       "2  3003        0                                                NaN   \n",
       "3  3004  6800000             http://www.sonyclassics.com/incendies/   \n",
       "4  3005  2000000                                                NaN   \n",
       "\n",
       "     imdb_id original_language               original_title  \\\n",
       "0  tt1226251                ja           ディアルガVSパルキアVSダークライ   \n",
       "1  tt0051380                en  Attack of the 50 Foot Woman   \n",
       "2  tt0118556                en             Addicted to Love   \n",
       "3  tt1255953                fr                    Incendies   \n",
       "4  tt0418753                en           Inside Deep Throat   \n",
       "\n",
       "                                            overview  popularity  \\\n",
       "0  Ash and friends (this time accompanied by newc...    3.851534   \n",
       "1  When an abused wife grows to giant size becaus...    3.559789   \n",
       "2  Good-natured astronomer Sam is devastated when...    8.085194   \n",
       "3  A mother's last wishes send twins Jeanne and S...    8.596012   \n",
       "4  In 1972, a seemingly typical shoestring budget...    3.217680   \n",
       "\n",
       "                        poster_path release_date  ...  departments_Writing  \\\n",
       "0  /tnftmLMemPLduW6MRyZE0ZUD19z.jpg      7/14/07  ...                    1   \n",
       "1  /9MgBNBqlH1sG4yG2u4XkwI5CoJa.jpg      5/19/58  ...                    1   \n",
       "2  /ed6nD7h9sbojSWY2qrnDcSvDFko.jpg      5/23/97  ...                    1   \n",
       "3  /sEUG3qjxwHjxkzuO7plrRHhOZUH.jpg       9/4/10  ...                    3   \n",
       "4  /n4WC3zbelz6SG7rhkWbf8m9pMHB.jpg      2/11/05  ...                    2   \n",
       "\n",
       "  departments_Costume & Make-Up departments_Camera departments_Directing  \\\n",
       "0                             0                  0                     1   \n",
       "1                             1                  1                     1   \n",
       "2                             0                  1                     1   \n",
       "3                             7                  3                     2   \n",
       "4                             0                  2                     2   \n",
       "\n",
       "  departments_Editing departments_Visual Effects  departments_Lighting  \\\n",
       "0                   0                          0                     0   \n",
       "1                   1                          0                     0   \n",
       "2                   1                          0                     0   \n",
       "3                   3                          6                     3   \n",
       "4                   2                          0                     0   \n",
       "\n",
       "   departments_Actors log_budget  has_homepage  \n",
       "0                   0   0.000000             1  \n",
       "1                   0  11.385103             0  \n",
       "2                   0   0.000000             0  \n",
       "3                   0  15.732433             1  \n",
       "4                   0  14.508658             0  \n",
       "\n",
       "[5 rows x 204 columns]"
      ]
     },
     "execution_count": 11,
     "metadata": {},
     "output_type": "execute_result"
    }
   ],
   "source": [
    "test.head()"
   ]
  },
  {
   "cell_type": "code",
   "execution_count": 17,
   "metadata": {},
   "outputs": [],
   "source": [
    "def getSpecialSubstring(s, k, charValue): \n",
    "    \n",
    "    \n",
    "    alpha=list(\"abcdefghijklmnopqrstuvwxyz\")\n",
    "    binary=list(charValue)\n",
    "    \n",
    "    values=list(zip(alpha,binary))\n",
    "\n",
    "    Q={chr}\n",
    "    for value in values:\n",
    "        if value[1]==\"0\":\n",
    "            Q.add(value[0])\n",
    "    N=len(s)\n",
    "    if (k == 0): \n",
    "        return 0\n",
    "    count = 0\n",
    "    left = 0\n",
    "    right = 0\n",
    "    ans = 0\n",
    "    while (right < N):  \n",
    "        while (right < N and count <= k):  \n",
    "            if (s[right] in Q): \n",
    "                if (count + 1 > k): \n",
    "                    break\n",
    "                else: \n",
    "                    count += 1\n",
    "            right += 1\n",
    "            if (count <= k): \n",
    "                ans = max(ans, right - left)  \n",
    "        while (left < right): \n",
    "            left += 1\n",
    "            if (s[left] in Q): \n",
    "                count -= 1\n",
    "            if (count < k): \n",
    "                break\n",
    "  \n",
    "    return ans"
   ]
  },
  {
   "cell_type": "code",
   "execution_count": 1,
   "metadata": {},
   "outputs": [],
   "source": [
    "alpha=list(\"abcdefghijklmnopqrstuvwxyz\")\n",
    "binary=list(\"11111111110000000000111111\")\n",
    "    \n",
    "values=list(zip(alpha,binary))"
   ]
  },
  {
   "cell_type": "code",
   "execution_count": 9,
   "metadata": {},
   "outputs": [],
   "source": [
    "Q=[x[0] for x in values if x[1]==\"0\" ]"
   ]
  },
  {
   "cell_type": "code",
   "execution_count": 10,
   "metadata": {},
   "outputs": [
    {
     "data": {
      "text/plain": [
       "'1'"
      ]
     },
     "execution_count": 10,
     "metadata": {},
     "output_type": "execute_result"
    }
   ],
   "source": [
    "values[1][1]"
   ]
  },
  {
   "cell_type": "code",
   "execution_count": 11,
   "metadata": {},
   "outputs": [
    {
     "data": {
      "text/plain": [
       "['k', 'l', 'm', 'n', 'o', 'p', 'q', 'r', 's', 't']"
      ]
     },
     "execution_count": 11,
     "metadata": {},
     "output_type": "execute_result"
    }
   ],
   "source": [
    "Q"
   ]
  },
  {
   "cell_type": "code",
   "execution_count": 13,
   "metadata": {},
   "outputs": [],
   "source": [
    "q={chr}"
   ]
  },
  {
   "cell_type": "code",
   "execution_count": 14,
   "metadata": {},
   "outputs": [],
   "source": [
    "q.add(1)"
   ]
  },
  {
   "cell_type": "code",
   "execution_count": 15,
   "metadata": {},
   "outputs": [
    {
     "data": {
      "text/plain": [
       "{1, <function chr(i, /)>}"
      ]
     },
     "execution_count": 15,
     "metadata": {},
     "output_type": "execute_result"
    }
   ],
   "source": [
    "q"
   ]
  },
  {
   "cell_type": "code",
   "execution_count": 16,
   "metadata": {},
   "outputs": [
    {
     "data": {
      "text/plain": [
       "set"
      ]
     },
     "execution_count": 16,
     "metadata": {},
     "output_type": "execute_result"
    }
   ],
   "source": [
    "type(q)"
   ]
  },
  {
   "cell_type": "code",
   "execution_count": null,
   "metadata": {},
   "outputs": [],
   "source": [
    "def get(P, K, Charvalue): \n",
    "    \n",
    "    \n",
    "    alpha=list(\"abcdefghijklmnopqrstuvwxyz\")\n",
    "    binary=list(Charvalue)\n",
    "    \n",
    "    values=list(zip(alpha,binary))\n",
    "\n",
    "    Q=[x[1] for x in values if x[0]==\"0\" ]\n",
    "\n",
    "    if (K == 0): \n",
    "        return 0\n",
    "    count = 0\n",
    "    left = 0\n",
    "    right = 0\n",
    "    ans = 0\n",
    "    while (right < N):  \n",
    "        while (right < N and count <= K):  \n",
    "            if (P[right] in Q): \n",
    "                if (count + 1 > K): \n",
    "                    break\n",
    "                else: \n",
    "                    count += 1\n",
    "            right += 1\n",
    "            if (count <= K): \n",
    "                ans = max(ans, right - left)  \n",
    "        while (left < right): \n",
    "            left += 1\n",
    "            if (P[left] in Q): \n",
    "                count -= 1\n",
    "            if (count < K): \n",
    "                break\n",
    "  \n",
    "    return ans\n",
    "\n",
    "\n",
    "def getSpecialSubstring(s, k, charValue): \n",
    "    \n",
    "    \n",
    "    alpha=list(\"abcdefghijklmnopqrstuvwxyz\")\n",
    "    binary=list(charValue)\n",
    "    \n",
    "    values=list(zip(alpha,binary))\n",
    "\n",
    "    Q={chr}\n",
    "    for value in values:\n",
    "        if value[1]==\"0\":\n",
    "            Q.add(value[0])\n",
    "    N=len(s)\n",
    "    if (k == 0): \n",
    "        return 0\n",
    "    count = 0\n",
    "    left = 0\n",
    "    right = 0\n",
    "    ans = 0\n",
    "    while (right < N):  \n",
    "        while (right < N and count <= k):  \n",
    "            if (s[right] in Q): \n",
    "                if (count + 1 > k): \n",
    "                    break\n",
    "                else: \n",
    "                    count += 1\n",
    "            right += 1\n",
    "            if (count <= k): \n",
    "                ans = max(ans, right - left)  \n",
    "        while (left < right): \n",
    "            left += 1\n",
    "            if (s[left] in Q): \n",
    "                count -= 1\n",
    "            if (count < k): \n",
    "                break\n",
    "  \n",
    "    return ans"
   ]
  }
 ],
 "metadata": {
  "kernelspec": {
   "display_name": "Python 3",
   "language": "python",
   "name": "python3"
  },
  "language_info": {
   "codemirror_mode": {
    "name": "ipython",
    "version": 3
   },
   "file_extension": ".py",
   "mimetype": "text/x-python",
   "name": "python",
   "nbconvert_exporter": "python",
   "pygments_lexer": "ipython3",
   "version": "3.8.3"
  }
 },
 "nbformat": 4,
 "nbformat_minor": 4
}
