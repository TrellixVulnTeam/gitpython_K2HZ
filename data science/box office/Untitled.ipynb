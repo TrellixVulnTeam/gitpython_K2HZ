{
 "cells": [
  {
   "cell_type": "code",
   "execution_count": 1,
   "metadata": {},
   "outputs": [],
   "source": [
    "import pandas as pd \n",
    "import numpy as np\n",
    "import seaborn as sns\n",
    "import matplotlib.pyplot as plt\n",
    "%matplotlib widget\n",
    "plt.style.use('ggplot')"
   ]
  },
  {
   "cell_type": "code",
   "execution_count": 2,
   "metadata": {},
   "outputs": [],
   "source": [
    "train=pd.read_csv(\"train.csv\") \n",
    "test=pd.read_csv(\"test.csv\")"
   ]
  },
  {
   "cell_type": "code",
   "execution_count": 3,
   "metadata": {},
   "outputs": [],
   "source": [
    "train[\"log_revenue\"]=np.log1p(train[\"revenue\"])"
   ]
  },
  {
   "cell_type": "code",
   "execution_count": 4,
   "metadata": {},
   "outputs": [
    {
     "data": {
      "application/vnd.jupyter.widget-view+json": {
       "model_id": "2a74667bed94436b9bf160374cbf1e69",
       "version_major": 2,
       "version_minor": 0
      },
      "text/plain": [
       "Canvas(toolbar=Toolbar(toolitems=[('Home', 'Reset original view', 'home', 'home'), ('Back', 'Back to previous …"
      ]
     },
     "metadata": {},
     "output_type": "display_data"
    }
   ],
   "source": [
    "fig,ax=plt.subplots(figsize=(13,5))\n",
    "plt.subplot(1,2,1)\n",
    "sns.distplot(train[\"revenue\"]);\n",
    "plt.subplot(1,2,2)\n",
    "sns.distplot(train[\"log_revenue\"]);"
   ]
  },
  {
   "cell_type": "code",
   "execution_count": 5,
   "metadata": {},
   "outputs": [],
   "source": [
    "train[\"log_budget\"]=np.log1p(train[\"budget\"])\n",
    "test[\"log_budget\"]=np.log1p(test[\"budget\"])"
   ]
  },
  {
   "cell_type": "code",
   "execution_count": 6,
   "metadata": {},
   "outputs": [
    {
     "data": {
      "application/vnd.jupyter.widget-view+json": {
       "model_id": "2c48b83b3a27438f9a3a90e811f5ea01",
       "version_major": 2,
       "version_minor": 0
      },
      "text/plain": [
       "Canvas(toolbar=Toolbar(toolitems=[('Home', 'Reset original view', 'home', 'home'), ('Back', 'Back to previous …"
      ]
     },
     "metadata": {},
     "output_type": "display_data"
    }
   ],
   "source": [
    "sns.set_context(\"paper\", rc={\"font.size\":5,\"axes.titlesize\":8,\"axes.labelsize\":8})\n",
    "fig,ax=plt.subplots(figsize=(13,5))\n",
    "plt.subplot(1,2,1)\n",
    "sns.scatterplot(x=\"log_revenue\",y=\"budget\",data=train,size=1,linewidth=0.3);\n",
    "plt.gca().tick_params(axis=\"both\",labelsize=9);\n",
    "plt.subplot(1,2,2)\n",
    "sns.scatterplot(x=\"log_revenue\",y=\"log_budget\",data=train,size=6,alpha=0.5,linewidth=0.3);\n",
    "plt.gca().tick_params(axis=\"both\",labelsize=9);"
   ]
  },
  {
   "cell_type": "code",
   "execution_count": 7,
   "metadata": {},
   "outputs": [],
   "source": [
    "train[\"has_homepage\"]=0"
   ]
  },
  {
   "cell_type": "code",
   "execution_count": 8,
   "metadata": {},
   "outputs": [],
   "source": [
    "train.loc[train[\"homepage\"].isnull()==False,\"has_homepage\"]=1"
   ]
  },
  {
   "cell_type": "code",
   "execution_count": 9,
   "metadata": {},
   "outputs": [],
   "source": [
    "test[\"has_homepage\"]=0\n",
    "test.loc[test[\"homepage\"].isnull()==False,\"has_homepage\"]=1"
   ]
  },
  {
   "cell_type": "code",
   "execution_count": 10,
   "metadata": {},
   "outputs": [
    {
     "data": {
      "application/vnd.jupyter.widget-view+json": {
       "model_id": "2729ddadf08941b5906a183d51c47bf8",
       "version_major": 2,
       "version_minor": 0
      },
      "text/plain": [
       "Canvas(toolbar=Toolbar(toolitems=[('Home', 'Reset original view', 'home', 'home'), ('Back', 'Back to previous …"
      ]
     },
     "metadata": {},
     "output_type": "display_data"
    },
    {
     "name": "stderr",
     "output_type": "stream",
     "text": [
      "ERROR:root:Internal Python error in the inspect module.\n",
      "Below is the traceback from this internal error.\n",
      "\n",
      "\n",
      "KeyboardInterrupt\n",
      "\n"
     ]
    }
   ],
   "source": [
    "sns.catplot(x=\"revenue\",y=\"has_homepage\",data=train);"
   ]
  },
  {
   "cell_type": "code",
   "execution_count": null,
   "metadata": {},
   "outputs": [],
   "source": [
    "test.head()"
   ]
  },
  {
   "cell_type": "code",
   "execution_count": null,
   "metadata": {},
   "outputs": [],
   "source": [
    "def getSpecialSubstring(s, k, charValue): \n",
    "    \n",
    "    \n",
    "    alpha=list(\"abcdefghijklmnopqrstuvwxyz\")\n",
    "    binary=list(charValue)\n",
    "    \n",
    "    values=list(zip(alpha,binary))\n",
    "\n",
    "    Q={chr}\n",
    "    for value in values:\n",
    "        if value[1]==\"0\":\n",
    "            Q.add(value[0])\n",
    "    N=len(s)\n",
    "    if (k == 0): \n",
    "        return 0\n",
    "    count = 0\n",
    "    left = 0\n",
    "    right = 0\n",
    "    ans = 0\n",
    "    while (right < N):  \n",
    "        while (right < N and count <= k):  \n",
    "            if (s[right] in Q): \n",
    "                if (count + 1 > k): \n",
    "                    break\n",
    "                else: \n",
    "                    count += 1\n",
    "            right += 1\n",
    "            if (count <= k): \n",
    "                ans = max(ans, right - left)  \n",
    "        while (left < right): \n",
    "            left += 1\n",
    "            if (s[left] in Q): \n",
    "                count -= 1\n",
    "            if (count < k): \n",
    "                break\n",
    "  \n",
    "    return ans"
   ]
  },
  {
   "cell_type": "code",
   "execution_count": null,
   "metadata": {},
   "outputs": [],
   "source": [
    "alpha=list(\"abcdefghijklmnopqrstuvwxyz\")\n",
    "binary=list(\"11111111110000000000111111\")\n",
    "    \n",
    "values=list(zip(alpha,binary))"
   ]
  },
  {
   "cell_type": "code",
   "execution_count": null,
   "metadata": {},
   "outputs": [],
   "source": [
    "Q=[x[0] for x in values if x[1]==\"0\" ]"
   ]
  },
  {
   "cell_type": "code",
   "execution_count": null,
   "metadata": {},
   "outputs": [],
   "source": [
    "values[1][1]"
   ]
  },
  {
   "cell_type": "code",
   "execution_count": null,
   "metadata": {},
   "outputs": [],
   "source": [
    "Q"
   ]
  },
  {
   "cell_type": "code",
   "execution_count": null,
   "metadata": {},
   "outputs": [],
   "source": [
    "q={chr}"
   ]
  },
  {
   "cell_type": "code",
   "execution_count": null,
   "metadata": {},
   "outputs": [],
   "source": [
    "q.add(1)"
   ]
  },
  {
   "cell_type": "code",
   "execution_count": null,
   "metadata": {},
   "outputs": [],
   "source": [
    "q"
   ]
  },
  {
   "cell_type": "code",
   "execution_count": null,
   "metadata": {},
   "outputs": [],
   "source": [
    "type(q)"
   ]
  },
  {
   "cell_type": "code",
   "execution_count": null,
   "metadata": {},
   "outputs": [],
   "source": [
    "def get(P, K, Charvalue): \n",
    "    \n",
    "    \n",
    "    alpha=list(\"abcdefghijklmnopqrstuvwxyz\")\n",
    "    binary=list(Charvalue)\n",
    "    \n",
    "    values=list(zip(alpha,binary))\n",
    "\n",
    "    Q=[x[1] for x in values if x[0]==\"0\" ]\n",
    "\n",
    "    if (K == 0): \n",
    "        return 0\n",
    "    count = 0\n",
    "    left = 0\n",
    "    right = 0\n",
    "    ans = 0\n",
    "    while (right < N):  \n",
    "        while (right < N and count <= K):  \n",
    "            if (P[right] in Q): \n",
    "                if (count + 1 > K): \n",
    "                    break\n",
    "                else: \n",
    "                    count += 1\n",
    "            right += 1\n",
    "            if (count <= K): \n",
    "                ans = max(ans, right - left)  \n",
    "        while (left < right): \n",
    "            left += 1\n",
    "            if (P[left] in Q): \n",
    "                count -= 1\n",
    "            if (count < K): \n",
    "                break\n",
    "  \n",
    "    return ans\n",
    "\n",
    "\n",
    "def getSpecialSubstring(s, k, charValue): \n",
    "    \n",
    "    \n",
    "    alpha=list(\"abcdefghijklmnopqrstuvwxyz\")\n",
    "    binary=list(charValue)\n",
    "    \n",
    "    values=list(zip(alpha,binary))\n",
    "\n",
    "    Q={chr}\n",
    "    for value in values:\n",
    "        if value[1]==\"0\":\n",
    "            Q.add(value[0])\n",
    "    N=len(s)\n",
    "    if (k == 0): \n",
    "        return 0\n",
    "    count = 0\n",
    "    left = 0\n",
    "    right = 0\n",
    "    ans = 0\n",
    "    while (right < N):  \n",
    "        while (right < N and count <= k):  \n",
    "            if (s[right] in Q): \n",
    "                if (count + 1 > k): \n",
    "                    break\n",
    "                else: \n",
    "                    count += 1\n",
    "            right += 1\n",
    "            if (count <= k): \n",
    "                ans = max(ans, right - left)  \n",
    "        while (left < right): \n",
    "            left += 1\n",
    "            if (s[left] in Q): \n",
    "                count -= 1\n",
    "            if (count < k): \n",
    "                break\n",
    "  \n",
    "    return ans"
   ]
  },
  {
   "cell_type": "code",
   "execution_count": null,
   "metadata": {},
   "outputs": [],
   "source": [
    "\n",
    "\n",
    "\n",
    "\n",
    "def main():\n",
    "    \n",
    "    number,k=map(int,input().split())\n",
    "    \n",
    "    arpan=[]\n",
    "    \n",
    "    for i in range(number):\n",
    "        temp=input()\n",
    "        arpan.append(temp)\n",
    "    \n",
    "    win=0\n",
    "        \n",
    "    while i <len(arpan):\n",
    "        sign =max(arpan)\n",
    "        \n",
    "        if sign ==\"H\":\n",
    "            if arpan[i]==\"P\" or arpan[i]==\"H\":\n",
    "                continue\n",
    "            else:\n",
    "                win+=1\n",
    "        \n",
    "        elif sign ==\"P\":\n",
    "            if arpan[i]==\"P\" or arpan[i]==\"S\":\n",
    "                continue\n",
    "            else:\n",
    "                win+=1\n",
    "        \n",
    "        else:\n",
    "            if arpan[i]==\"S\" or arpan[i]==\"H\":\n",
    "                continue\n",
    "            else:\n",
    "                win+=1\n",
    "        "
   ]
  },
  {
   "cell_type": "code",
   "execution_count": 16,
   "metadata": {},
   "outputs": [
    {
     "name": "stdout",
     "output_type": "stream",
     "text": [
      "9\n"
     ]
    }
   ],
   "source": [
    "import heapq\n",
    "\n",
    "test=list(\"PPSSPPHHPPP\")\n",
    "k=1\n",
    "\n",
    "def maxWins(arr,k):\n",
    "    moves={}\n",
    "    for m in arr:\n",
    "        if m in moves:\n",
    "            moves[m]+=1\n",
    "        else:\n",
    "            moves[m]=1\n",
    "    wins_pq=[]\n",
    "    heapq.heapify(wins_pq)\n",
    "    for m in moves:\n",
    "        win = -(moves[m])\n",
    "        heapq.heappush(wins_pq,win)\n",
    "    output=0\n",
    "    while k+1:\n",
    "        currWins=(-1)*heapq.heappop(wins_pq)\n",
    "        output+=currWins\n",
    "        k-=1\n",
    "    return output\n",
    "\n",
    "print (maxWins(test,k))\n"
   ]
  },
  {
   "cell_type": "code",
   "execution_count": null,
   "metadata": {},
   "outputs": [],
   "source": [
    "#include<iostream>\n",
    "using namespace std;\n",
    "int main(){\n",
    "\tint n,k;\n",
    "\tcin>>n>>k;\n",
    "\tchar arr[n+1];\n",
    "\tfor(int i=1;i<=n;i++){\n",
    "\t\tcin>>arr[i];\n",
    "\n",
    "\t}\n",
    "\tint dp[n+1][k+1][3];\n",
    "\tint ans=0;\n",
    "\tfor(int j=0;j<=k;j++){\n",
    "\t\tfor(int l=0;l<=2;l++){\n",
    "\t\t\tdp[0][j][l]=0;\n",
    "\t\t}\n",
    "\t}\n",
    "\tfor(int i=1;i<=n;i++){\n",
    "\t    \n",
    "\t\tfor(int j=0;j<=k;j++){\n",
    "\t\t  \n",
    "\t\t    dp[i][j][0]=dp[i-1][j][0]+(arr[i]=='P'?0:arr[i]=='S'?1:0);\n",
    "\t\t    if(j>0)\n",
    "\t\t\t    dp[i][j][0]=max(max(dp[i-1][j-1][1],dp[i-1][j-1][2])+(arr[i]=='P'?0:arr[i]=='S'?1:0),dp[i][j][0]);\n",
    "       \n",
    "            dp[i][j][1]=dp[i-1][j][1]+(arr[i]=='P'?0:arr[i]=='S'?0:1);\n",
    "            if(j>0)\n",
    "\t\t\t    dp[i][j][1]=max(max(dp[i-1][j-1][0],dp[i-1][j-1][2])+(arr[i]=='P'?0:arr[i]=='S'?0:1),dp[i][j][1]);\n",
    "\t\t    \n",
    "\t\t    dp[i][j][2]=dp[i-1][j][2]+(arr[i]=='P'?1:arr[i]=='S'?0:0);\n",
    "\t\t    if(j>0)\n",
    "\t\t\t    dp[i][j][2]=max(max(dp[i-1][j-1][0],dp[i-1][j-1][1])+(arr[i]=='P'?1:arr[i]=='S'?0:0),dp[i][j][2]);\n",
    "\t\t  \n",
    "\t\t    if(i==n)\n",
    "\t\t\t    ans=max(max(dp[i][j][0],dp[i][j][1]),dp[i][j][2]);\n",
    "\t\t}\n",
    "\t}\n",
    "\tcout<< ans;\n",
    "\treturn 0;\n",
    "}"
   ]
  },
  {
   "cell_type": "code",
   "execution_count": null,
   "metadata": {},
   "outputs": [],
   "source": [
    "len(test)"
   ]
  },
  {
   "cell_type": "code",
   "execution_count": null,
   "metadata": {},
   "outputs": [],
   "source": [
    "def check(a,b):\n",
    "    if(a=='P' and b =='H'):\n",
    "        return 1\n",
    "    if(a=='H' and b =='S'):\n",
    "        return 1\n",
    "    if(a=='S' and b =='P'):\n",
    "        return 1\n",
    "    return 0\n",
    "\n",
    "def func(val,vis,k,i):\n",
    "    if(i>=len(val)):\n",
    "        return 0\n",
    "    if(k>0):\n",
    "        if(vis=='P'):\n",
    "            l1 = 'S'\n",
    "            l2 = 'H'\n",
    "        if(vis=='S'):\n",
    "            l1 = 'H'\n",
    "            l2 = 'P'\n",
    "        if(vis=='H'):\n",
    "            l1 = 'P'\n",
    "            l2 = 'S'\n",
    "        return max(check(vis,val[i]) + func(val,vis,k,i+1), check(l1,val[i]) + func(val,l1,k-1,i+1),check(l2,val[i]) + func(val,l2,k-1,i+1))\n",
    "    return func(val,vis,k,i+1)\n",
    "    \n",
    "arr = [int(i) for i in input().split()]\n",
    "n = arr[0]\n",
    "k = arr[1]\n",
    "val = []\n",
    "for i in range(n):\n",
    "    x = input().rstrip()\n",
    "    val.append(x)\n",
    "vis = []\n",
    "if(val[0]=='P'):\n",
    "    vis.append('S')\n",
    "elif(val[0]=='H'):\n",
    "    vis.append('P')\n",
    "else:\n",
    "    vis.append('H')\n",
    "    \n",
    "z = func(val,vis[0],k,1)\n",
    "print(z+1)"
   ]
  },
  {
   "cell_type": "code",
   "execution_count": null,
   "metadata": {},
   "outputs": [],
   "source": [
    " def main():\n",
    "\n",
    "    n=int(input())\n",
    "\n",
    "    for i in range(n):\n",
    "        \n",
    "        flag=True\n",
    "        villains=sorted(list(map(int,input().split())))\n",
    "        players=sorted(list(map(int,input().split())))\n",
    "\n",
    "        for i in range(len(villains)):\n",
    "\n",
    "            villain=villains[i]\n",
    "            player=players[i]\n",
    "\n",
    "            if player>villain:\n",
    "                continue\n",
    "            else:\n",
    "                flag=False\n",
    "                print(\"LOSE\")\n",
    "                break\n",
    "        if flag:\n",
    "            print(\"WIN\")"
   ]
  },
  {
   "cell_type": "code",
   "execution_count": null,
   "metadata": {},
   "outputs": [],
   "source": []
  }
 ],
 "metadata": {
  "kernelspec": {
   "display_name": "Python 3",
   "language": "python",
   "name": "python3"
  },
  "language_info": {
   "codemirror_mode": {
    "name": "ipython",
    "version": 3
   },
   "file_extension": ".py",
   "mimetype": "text/x-python",
   "name": "python",
   "nbconvert_exporter": "python",
   "pygments_lexer": "ipython3",
   "version": "3.8.3"
  }
 },
 "nbformat": 4,
 "nbformat_minor": 4
}
