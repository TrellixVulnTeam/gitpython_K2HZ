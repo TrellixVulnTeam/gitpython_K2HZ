{
 "cells": [
  {
   "cell_type": "code",
   "execution_count": 20,
   "metadata": {},
   "outputs": [],
   "source": [
    "def splitwords(phrase,listOfWords,output=None):\n",
    "    \n",
    "    if output==None:\n",
    "        \n",
    "        output=[]\n",
    "        \n",
    "    for word in listOfWords:\n",
    "        \n",
    "        if phrase.startswith(word):\n",
    "            \n",
    "            print(phrase)\n",
    "            output.append(word)\n",
    "            \n",
    "            return splitwords(phrase[len(word):],listOfWords,output)\n",
    "    \n",
    "    return output"
   ]
  },
  {
   "cell_type": "code",
   "execution_count": 22,
   "metadata": {},
   "outputs": [
    {
     "name": "stdout",
     "output_type": "stream",
     "text": [
      "Mynameisjohn\n",
      "nameisjohn\n"
     ]
    },
    {
     "data": {
      "text/plain": [
       "['My', 'name']"
      ]
     },
     "execution_count": 22,
     "metadata": {},
     "output_type": "execute_result"
    }
   ],
   "source": [
    "phrase=\"Mynameisjohn\"\n",
    "\n",
    "l=[\"My\",\"name\",\"are\",\"john\"]\n",
    "\n",
    "splitwords(phrase,l)"
   ]
  },
  {
   "cell_type": "code",
   "execution_count": null,
   "metadata": {},
   "outputs": [],
   "source": []
  },
  {
   "cell_type": "code",
   "execution_count": null,
   "metadata": {},
   "outputs": [],
   "source": []
  }
 ],
 "metadata": {
  "kernelspec": {
   "display_name": "Python 3",
   "language": "python",
   "name": "python3"
  },
  "language_info": {
   "codemirror_mode": {
    "name": "ipython",
    "version": 3
   },
   "file_extension": ".py",
   "mimetype": "text/x-python",
   "name": "python",
   "nbconvert_exporter": "python",
   "pygments_lexer": "ipython3",
   "version": "3.7.6"
  }
 },
 "nbformat": 4,
 "nbformat_minor": 4
}
