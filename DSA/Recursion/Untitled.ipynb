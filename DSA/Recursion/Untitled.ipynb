{
 "cells": [
  {
   "cell_type": "code",
   "execution_count": 38,
   "metadata": {},
   "outputs": [],
   "source": [
    "def solution(S):\n",
    "    # write your code in Python 3.6\n",
    "    d={}\n",
    "    \n",
    "    for i in S:\n",
    "        if i not in d:\n",
    "            d[i]=0\n",
    "        \n",
    "        d[i]+=1\n",
    "        \n",
    "    numbers=list(d.values())\n",
    "    seen=[]\n",
    "    count=0\n",
    "    \n",
    "    numbers.sort()\n",
    "    for i in numbers:\n",
    "        \n",
    "        temp=i\n",
    "        while temp in seen:\n",
    "            \n",
    "            temp-=1\n",
    "            count+=1\n",
    "            if temp==0:\n",
    "                break\n",
    "        \n",
    "        if temp!=0:\n",
    "            seen.append(temp)\n",
    "    \n",
    "    print(d,numbers,seen)\n",
    "    return count"
   ]
  },
  {
   "cell_type": "code",
   "execution_count": 45,
   "metadata": {},
   "outputs": [
    {
     "name": "stdout",
     "output_type": "stream",
     "text": [
      "{'e': 2, 'x': 1, 'a': 1, 'm': 1, 'p': 1, 'l': 1} [1, 1, 1, 1, 1, 2] [1, 2]\n"
     ]
    }
   ],
   "source": [
    "d=solution(\"example\")"
   ]
  },
  {
   "cell_type": "code",
   "execution_count": 46,
   "metadata": {},
   "outputs": [
    {
     "data": {
      "text/plain": [
       "4"
      ]
     },
     "execution_count": 46,
     "metadata": {},
     "output_type": "execute_result"
    }
   ],
   "source": [
    "d"
   ]
  },
  {
   "cell_type": "code",
   "execution_count": 6,
   "metadata": {},
   "outputs": [
    {
     "data": {
      "text/plain": [
       "{'a': 1, 'b': 5, 's': 5, 'g': 5}"
      ]
     },
     "execution_count": 6,
     "metadata": {},
     "output_type": "execute_result"
    }
   ],
   "source": [
    "d"
   ]
  },
  {
   "cell_type": "code",
   "execution_count": 47,
   "metadata": {},
   "outputs": [
    {
     "ename": "SyntaxError",
     "evalue": "invalid syntax (<ipython-input-47-38578cc248e2>, line 1)",
     "output_type": "error",
     "traceback": [
      "\u001b[0;36m  File \u001b[0;32m\"<ipython-input-47-38578cc248e2>\"\u001b[0;36m, line \u001b[0;32m1\u001b[0m\n\u001b[0;31m    int solution(const string & s) {\u001b[0m\n\u001b[0m        ^\u001b[0m\n\u001b[0;31mSyntaxError\u001b[0m\u001b[0;31m:\u001b[0m invalid syntax\n"
     ]
    }
   ],
   "source": [
    "int solution(const string & s) {\n",
    "    int count = 0;\n",
    "    vector<int> occurrences('z' - 'a', 0);\n",
    "    \n",
    "    \n",
    "    for (char c: s) { ++occurrences[c - 'a']; }\n",
    "    priority_queue<int> pq;\n",
    "    \n",
    "    for (int c: occurrences) {\n",
    "        if (c != 0) { pq.push(c); }\n",
    "    }\n",
    "    while (!pq.empty()) {\n",
    "        int most_frequent = pq.top(); pq.pop();\n",
    "        if (pq.empty()) { return count; }\n",
    "        if (most_frequent == pq.top()) {\n",
    "            if (most_frequent > 1) {\n",
    "                pq.push(most_frequent - 1);\n",
    "            }\n",
    "            count++;\n",
    "        }\n",
    "   \n",
    "      \n",
    "        \n",
    "    }\n",
    "    return count;\n",
    "}"
   ]
  },
  {
   "cell_type": "code",
   "execution_count": 63,
   "metadata": {},
   "outputs": [],
   "source": [
    "def countEdges(A, B, N):\n",
    "    \n",
    "    if  len(A) == 0 or len(B) == 0 or len(A) != len(B) or A is None or B is None:\n",
    "        return 0\n",
    "\n",
    "    paths= {}\n",
    "    \n",
    "    for i in range(len(A)):\n",
    "        \n",
    "        if A[i] not in paths:\n",
    "            paths[A[i]] = []\n",
    "        if B[i] not in paths:\n",
    "            paths[B[i]] = []\n",
    "        paths[A[i]].append(B[i])\n",
    "        paths[B[i]].append(A[i])\n",
    "    \n",
    "    count=0\n",
    "    seenCities=set()\n",
    "    \n",
    "    \n",
    "    for j in range(1,N+1):\n",
    "        if j not in seen:\n",
    "            edges = edge(seenCities, paths, j)\n",
    "            count = max(count, edges)\n",
    "    return count // 2\n",
    "\n",
    "def edge(visited, paths, j):\n",
    "    if j not in paths:\n",
    "        return 0\n",
    "    visited.add(j)\n",
    "    nodes = paths[j]\n",
    "    l = len(nodes)\n",
    "    for each in nodes:\n",
    "        if each not in visited:\n",
    "            l += edge(visited, paths, each)\n",
    "    return l"
   ]
  },
  {
   "cell_type": "code",
   "execution_count": 64,
   "metadata": {},
   "outputs": [
    {
     "data": {
      "text/plain": [
       "4"
      ]
     },
     "execution_count": 64,
     "metadata": {},
     "output_type": "execute_result"
    }
   ],
   "source": [
    "countEdges([1,2,3,3],[2,3,1,4],4)"
   ]
  },
  {
   "cell_type": "code",
   "execution_count": 59,
   "metadata": {},
   "outputs": [],
   "source": [
    "def edges(visited, paths, j):\n",
    "    if j not in paths:\n",
    "        return 0\n",
    "    visited.add(j)\n",
    "    nodes = paths[j]\n",
    "    l = len(nodes)\n",
    "    for each in nodes:\n",
    "        if each not in visited:\n",
    "            l += dfs(visited, paths, each)\n",
    "    return l"
   ]
  },
  {
   "cell_type": "code",
   "execution_count": 65,
   "metadata": {},
   "outputs": [],
   "source": [
    "import numpy as np \n",
    "  \n",
    "maxSum = 100\n",
    "arrSize = 51\n",
    "dp = np.zeros((arrSize, maxSum));  \n",
    "visit = np.zeros((arrSize, maxSum));  \n",
    " \n",
    "def SubsetCnt(i, s, arr, n) : \n",
    "    if (i == n) : \n",
    "        if (s == 0) : \n",
    "            return 1;  \n",
    "        else : \n",
    "            return 0;  \n",
    "        \n",
    "    if (visit[i][s + arrSize]) : \n",
    "        return dp[i][s + arrSize];  \n",
    "  \n",
    "    visit[i][s + arrSize] = 1;  \n",
    "  \n",
    "    # Recurrence relation  \n",
    "    dp[i][s + arrSize ] = (SubsetCnt(i + 1, s + arr[i], arr, n) + \n",
    "                           SubsetCnt(i + 1, s, arr, n));  \n",
    "  \n",
    "    # Returning the value  \n",
    "    return dp[i][s + arrSize]; "
   ]
  },
  {
   "cell_type": "code",
   "execution_count": 66,
   "metadata": {},
   "outputs": [],
   "source": [
    "maxSum = 100\n",
    "arrSize = 51"
   ]
  },
  {
   "cell_type": "code",
   "execution_count": 68,
   "metadata": {},
   "outputs": [],
   "source": [
    "a=[0]*maxSum"
   ]
  },
  {
   "cell_type": "code",
   "execution_count": null,
   "metadata": {},
   "outputs": [],
   "source": []
  },
  {
   "cell_type": "code",
   "execution_count": 70,
   "metadata": {},
   "outputs": [],
   "source": [
    "import numpy as np \n",
    "  \n",
    "maxSum = 100\n",
    "arrSize = 51\n",
    "  \n",
    "# variable to store  \n",
    "# states of dp  \n",
    "dp = np.zeros((arrSize, maxSum));  \n",
    "visit = np.zeros((arrSize, maxSum)); "
   ]
  },
  {
   "cell_type": "code",
   "execution_count": 72,
   "metadata": {},
   "outputs": [
    {
     "data": {
      "text/plain": [
       "(51, 100)"
      ]
     },
     "execution_count": 72,
     "metadata": {},
     "output_type": "execute_result"
    }
   ],
   "source": [
    "dp.shape"
   ]
  },
  {
   "cell_type": "code",
   "execution_count": 74,
   "metadata": {},
   "outputs": [],
   "source": [
    "a=[0]*maxSum"
   ]
  },
  {
   "cell_type": "code",
   "execution_count": 75,
   "metadata": {},
   "outputs": [
    {
     "data": {
      "text/plain": [
       "array([[0., 0., 0., ..., 0., 0., 0.],\n",
       "       [0., 0., 0., ..., 0., 0., 0.],\n",
       "       [0., 0., 0., ..., 0., 0., 0.],\n",
       "       ...,\n",
       "       [0., 0., 0., ..., 0., 0., 0.],\n",
       "       [0., 0., 0., ..., 0., 0., 0.],\n",
       "       [0., 0., 0., ..., 0., 0., 0.]])"
      ]
     },
     "execution_count": 75,
     "metadata": {},
     "output_type": "execute_result"
    }
   ],
   "source": [
    "dp"
   ]
  },
  {
   "cell_type": "code",
   "execution_count": 82,
   "metadata": {},
   "outputs": [
    {
     "data": {
      "text/plain": [
       "51"
      ]
     },
     "execution_count": 82,
     "metadata": {},
     "output_type": "execute_result"
    }
   ],
   "source": [
    "len(visit)"
   ]
  },
  {
   "cell_type": "code",
   "execution_count": 77,
   "metadata": {},
   "outputs": [],
   "source": [
    "b=[a]*arrSize"
   ]
  },
  {
   "cell_type": "code",
   "execution_count": 78,
   "metadata": {},
   "outputs": [
    {
     "ename": "AttributeError",
     "evalue": "'list' object has no attribute 'shape'",
     "output_type": "error",
     "traceback": [
      "\u001b[0;31m---------------------------------------------------------------------------\u001b[0m",
      "\u001b[0;31mAttributeError\u001b[0m                            Traceback (most recent call last)",
      "\u001b[0;32m<ipython-input-78-a8244287b6af>\u001b[0m in \u001b[0;36m<module>\u001b[0;34m\u001b[0m\n\u001b[0;32m----> 1\u001b[0;31m \u001b[0mb\u001b[0m\u001b[0;34m.\u001b[0m\u001b[0mshape\u001b[0m\u001b[0;34m\u001b[0m\u001b[0;34m\u001b[0m\u001b[0m\n\u001b[0m",
      "\u001b[0;31mAttributeError\u001b[0m: 'list' object has no attribute 'shape'"
     ]
    }
   ],
   "source": [
    "b.shape"
   ]
  },
  {
   "cell_type": "code",
   "execution_count": 79,
   "metadata": {},
   "outputs": [
    {
     "data": {
      "text/plain": [
       "51"
      ]
     },
     "execution_count": 79,
     "metadata": {},
     "output_type": "execute_result"
    }
   ],
   "source": [
    "len(b)"
   ]
  },
  {
   "cell_type": "code",
   "execution_count": null,
   "metadata": {},
   "outputs": [],
   "source": [
    "maxSum = 100\n",
    "arrSize = 51\n",
    "a=[0]*maxsize\n",
    "dp = [a]*arrSize;  \n",
    "visit = [a]*arrSize;  \n",
    "def SubsetCnt(i, s, arr, n) : \n",
    "      \n",
    "    # Base cases  \n",
    "    if (i == n) : \n",
    "        if (s == 0) : \n",
    "            return 1;  \n",
    "        else : \n",
    "            return 0;  \n",
    "    if (visit[i][s + arrSize]) : \n",
    "        return dp[i][s + arrSize];  \n",
    " \n",
    "    visit[i][s + arrSize] = 1;  \n",
    "    dp[i][s + arrSize ] = (SubsetCnt(i + 1, s + arr[i], arr, n) + \n",
    "                           SubsetCnt(i + 1, s, arr, n));  \n",
    "    return dp[i][s + arrSize];\n",
    "\n",
    "\n",
    "##########\n",
    "\n",
    "\n",
    "n = len(A)  \n",
    "a=(SubsetCnt(0, 0, arr, n))\n",
    "if a>1000000000:\n",
    "    return -1\n",
    "else:\n",
    "    return a"
   ]
  },
  {
   "cell_type": "code",
   "execution_count": null,
   "metadata": {},
   "outputs": [],
   "source": []
  }
 ],
 "metadata": {
  "kernelspec": {
   "display_name": "Python 3",
   "language": "python",
   "name": "python3"
  },
  "language_info": {
   "codemirror_mode": {
    "name": "ipython",
    "version": 3
   },
   "file_extension": ".py",
   "mimetype": "text/x-python",
   "name": "python",
   "nbconvert_exporter": "python",
   "pygments_lexer": "ipython3",
   "version": "3.8.3"
  }
 },
 "nbformat": 4,
 "nbformat_minor": 4
}
