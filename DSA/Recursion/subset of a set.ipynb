{
 "cells": [
  {
   "cell_type": "code",
   "execution_count": 3,
   "metadata": {},
   "outputs": [],
   "source": [
    "class solution:\n",
    "    \n",
    "    def subsets(self,nums):\n",
    "        \n",
    "        sol=[]\n",
    "        \n",
    "        self.helper(nums,sol,[],0)\n",
    "        \n",
    "        return sol\n",
    "    \n",
    "    def helper(self,nums,sol,curr,index):\n",
    "        \n",
    "        sol.append(list(curr))\n",
    "        \n",
    "        for i in range(index,len(nums)):\n",
    "            curr.append(nums[i])\n",
    "                   \n",
    "            self.helper(nums,sol,curr,i+1)\n",
    "            curr.pop()\n",
    "            \n",
    "        "
   ]
  },
  {
   "cell_type": "code",
   "execution_count": 4,
   "metadata": {},
   "outputs": [
    {
     "data": {
      "text/plain": [
       "[[],\n",
       " [1],\n",
       " [1, 2],\n",
       " [1, 2, 3],\n",
       " [1, 2, 3, 4],\n",
       " [1, 2, 3, 4, 5],\n",
       " [1, 2, 3, 5],\n",
       " [1, 2, 4],\n",
       " [1, 2, 4, 5],\n",
       " [1, 2, 5],\n",
       " [1, 3],\n",
       " [1, 3, 4],\n",
       " [1, 3, 4, 5],\n",
       " [1, 3, 5],\n",
       " [1, 4],\n",
       " [1, 4, 5],\n",
       " [1, 5],\n",
       " [2],\n",
       " [2, 3],\n",
       " [2, 3, 4],\n",
       " [2, 3, 4, 5],\n",
       " [2, 3, 5],\n",
       " [2, 4],\n",
       " [2, 4, 5],\n",
       " [2, 5],\n",
       " [3],\n",
       " [3, 4],\n",
       " [3, 4, 5],\n",
       " [3, 5],\n",
       " [4],\n",
       " [4, 5],\n",
       " [5]]"
      ]
     },
     "execution_count": 4,
     "metadata": {},
     "output_type": "execute_result"
    }
   ],
   "source": [
    "a=solution()\n",
    "\n",
    "a.subsets([1,2,3,4,5])"
   ]
  },
  {
   "cell_type": "code",
   "execution_count": 3,
   "metadata": {},
   "outputs": [
    {
     "data": {
      "text/plain": [
       "[[2, 3], [1, 2]]"
      ]
     },
     "execution_count": 3,
     "metadata": {},
     "output_type": "execute_result"
    }
   ],
   "source": [
    "d={\n",
    "    (1,2):2,\n",
    "    (2,3):1\n",
    "}\n",
    "\n",
    "[list(i) for i in sorted(d.keys(),key=lambda x:d[x])]"
   ]
  },
  {
   "cell_type": "code",
   "execution_count": null,
   "metadata": {},
   "outputs": [],
   "source": []
  }
 ],
 "metadata": {
  "kernelspec": {
   "display_name": "Python 3",
   "language": "python",
   "name": "python3"
  },
  "language_info": {
   "codemirror_mode": {
    "name": "ipython",
    "version": 3
   },
   "file_extension": ".py",
   "mimetype": "text/x-python",
   "name": "python",
   "nbconvert_exporter": "python",
   "pygments_lexer": "ipython3",
   "version": "3.7.6"
  }
 },
 "nbformat": 4,
 "nbformat_minor": 4
}
