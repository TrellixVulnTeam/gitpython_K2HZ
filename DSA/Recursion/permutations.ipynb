{
 "cells": [
  {
   "cell_type": "code",
   "execution_count": null,
   "metadata": {},
   "outputs": [],
   "source": [
    "def permute(s):\n",
    "    \n",
    "    output=[]\n",
    "    \n",
    "    if len(s)==1:\n",
    "        \n",
    "        return s\n",
    "    \n",
    "    for i,let in enumerate(s):\n",
    "        \n",
    "        \n",
    "        for perm in permute(s[:i]+s[i+1:]):\n",
    "            \n",
    "            output+=[let+perm]\n",
    "            \n",
    "    \n",
    "    return output\n",
    "    \n",
    "    \n",
    "    "
   ]
  },
  {
   "cell_type": "code",
   "execution_count": 2,
   "metadata": {},
   "outputs": [],
   "source": [
    "def permutate2(s):\n",
    "    \n",
    "    output=[]\n",
    "    if len(s)==1:\n",
    "        return s\n",
    "    \n",
    "    for i in range(len(s)):\n",
    "        \n",
    "        for j in permutate2(s[:i]+s[i+1:]):\n",
    "            l=s[i]+j\n",
    "            output+=[l]\n",
    "    \n",
    "    return output"
   ]
  },
  {
   "cell_type": "code",
   "execution_count": 3,
   "metadata": {},
   "outputs": [
    {
     "data": {
      "text/plain": [
       "['abcd',\n",
       " 'abdc',\n",
       " 'acbd',\n",
       " 'acdb',\n",
       " 'adbc',\n",
       " 'adcb',\n",
       " 'bacd',\n",
       " 'badc',\n",
       " 'bcad',\n",
       " 'bcda',\n",
       " 'bdac',\n",
       " 'bdca',\n",
       " 'cabd',\n",
       " 'cadb',\n",
       " 'cbad',\n",
       " 'cbda',\n",
       " 'cdab',\n",
       " 'cdba',\n",
       " 'dabc',\n",
       " 'dacb',\n",
       " 'dbac',\n",
       " 'dbca',\n",
       " 'dcab',\n",
       " 'dcba']"
      ]
     },
     "execution_count": 3,
     "metadata": {},
     "output_type": "execute_result"
    }
   ],
   "source": [
    "permutate2(\"abcd\")"
   ]
  },
  {
   "cell_type": "code",
   "execution_count": null,
   "metadata": {},
   "outputs": [],
   "source": [
    "def permutate2(s):\n",
    "    \n",
    "    output=[]\n",
    "    if len(s)==1:\n",
    "        return s\n",
    "    \n",
    "    for i in range(len(s)):\n",
    "        \n",
    "        for j in permutate2(s[:i]+s[i+1:]):\n",
    "            l=s[i]+j\n",
    "            output+=[l]\n",
    "    \n",
    "    return output"
   ]
  },
  {
   "cell_type": "code",
   "execution_count": 144,
   "metadata": {},
   "outputs": [],
   "source": [
    "\n",
    "\n",
    "def numbers(a):\n",
    "    \n",
    "    start=0\n",
    "    end=0\n",
    "    count=0\n",
    "    for i,letter in enumerate(a[:-1]): \n",
    "        \n",
    "        if letter==\"$\":\n",
    "            if count==0:\n",
    "                start=i \n",
    "            count+=1\n",
    "            if a[i+1]!=\"$\":\n",
    "                end=i+1\n",
    "    \n",
    "    if a[-1]==\"$\":\n",
    "        count+=1\n",
    "    end=start+count\n",
    "    \n",
    "    res=a[:start]+a[end:]\n",
    "    \n",
    "    \n",
    "    \n",
    "    for i in range(len(res)-(count-1)):\n",
    "        \n",
    "        permutate=(res[i:i+count])\n",
    "        \n",
    "        result=(permutations(permutate))\n",
    "        \n",
    "        for i in result:\n",
    "            \n",
    "            print(a.replace(a[start:end],i))\n",
    "        \n",
    "        \n",
    "        \n"
   ]
  },
  {
   "cell_type": "code",
   "execution_count": 165,
   "metadata": {},
   "outputs": [],
   "source": [
    "def permutations(s):\n",
    "    \n",
    "    output=[]\n",
    "    if len(s)==1:\n",
    "        return s\n",
    "    \n",
    "    for i in range(len(s)):\n",
    "        \n",
    "        for let in permutations(s[:i]+s[i+1:]):\n",
    "            \n",
    "            output+=[s[i]+let]\n",
    "    \n",
    "    return output"
   ]
  },
  {
   "cell_type": "code",
   "execution_count": 166,
   "metadata": {},
   "outputs": [
    {
     "name": "stdout",
     "output_type": "stream",
     "text": [
      "3434\n",
      "3443\n"
     ]
    }
   ],
   "source": [
    "a=\"12334$$\"\n",
    "numbers(a)"
   ]
  },
  {
   "cell_type": "code",
   "execution_count": 168,
   "metadata": {},
   "outputs": [
    {
     "data": {
      "text/plain": [
       "[]"
      ]
     },
     "execution_count": 168,
     "metadata": {},
     "output_type": "execute_result"
    }
   ],
   "source": [
    "permutations(\"333222\")"
   ]
  },
  {
   "cell_type": "code",
   "execution_count": null,
   "metadata": {},
   "outputs": [],
   "source": []
  },
  {
   "cell_type": "code",
   "execution_count": null,
   "metadata": {},
   "outputs": [],
   "source": []
  }
 ],
 "metadata": {
  "kernelspec": {
   "display_name": "Python 3",
   "language": "python",
   "name": "python3"
  },
  "language_info": {
   "codemirror_mode": {
    "name": "ipython",
    "version": 3
   },
   "file_extension": ".py",
   "mimetype": "text/x-python",
   "name": "python",
   "nbconvert_exporter": "python",
   "pygments_lexer": "ipython3",
   "version": "3.8.3"
  }
 },
 "nbformat": 4,
 "nbformat_minor": 4
}
