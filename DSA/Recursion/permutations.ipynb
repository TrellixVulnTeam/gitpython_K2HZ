{
 "cells": [
  {
   "cell_type": "code",
   "execution_count": null,
   "metadata": {},
   "outputs": [],
   "source": [
    "def permute(s):\n",
    "    \n",
    "    output=[]\n",
    "    \n",
    "    if len(s)==1:\n",
    "        \n",
    "        return s\n",
    "    \n",
    "    for i,let in enumerate(s):\n",
    "        \n",
    "        \n",
    "        for perm in permute(s[:i]+s[i+1:]):\n",
    "            \n",
    "            output+=[let+perm]\n",
    "            \n",
    "    \n",
    "    return output\n",
    "    \n",
    "    \n",
    "    "
   ]
  },
  {
   "cell_type": "code",
   "execution_count": 9,
   "metadata": {},
   "outputs": [],
   "source": [
    "def permutate2(s):\n",
    "    \n",
    "    output=[]\n",
    "    if len(s)==1:\n",
    "        return s\n",
    "    \n",
    "    for i in range(len(s)):\n",
    "        \n",
    "        for j in permutate2(s[:i]+s[i+1:]):\n",
    "            l=s[i]+j\n",
    "            output+=[l]\n",
    "    \n",
    "    return output"
   ]
  },
  {
   "cell_type": "code",
   "execution_count": 10,
   "metadata": {},
   "outputs": [
    {
     "data": {
      "text/plain": [
       "['abc', 'acb', 'bac', 'bca', 'cab', 'cba']"
      ]
     },
     "execution_count": 10,
     "metadata": {},
     "output_type": "execute_result"
    }
   ],
   "source": [
    "permutate2(\"abc\")"
   ]
  },
  {
   "cell_type": "code",
   "execution_count": null,
   "metadata": {},
   "outputs": [],
   "source": []
  }
 ],
 "metadata": {
  "kernelspec": {
   "display_name": "Python 3",
   "language": "python",
   "name": "python3"
  },
  "language_info": {
   "codemirror_mode": {
    "name": "ipython",
    "version": 3
   },
   "file_extension": ".py",
   "mimetype": "text/x-python",
   "name": "python",
   "nbconvert_exporter": "python",
   "pygments_lexer": "ipython3",
   "version": "3.7.6"
  }
 },
 "nbformat": 4,
 "nbformat_minor": 4
}
