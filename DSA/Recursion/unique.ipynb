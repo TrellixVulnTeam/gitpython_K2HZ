{
 "cells": [
  {
   "cell_type": "markdown",
   "metadata": {},
   "source": [
    "Given a string s, recursively remove adjacent duplicate characters from the string s. The output string should not have any adjacent duplicates.\n",
    " \n",
    "<br><br>\n",
    "Input:\n",
    "The first line of input contains an integer T, denoting the no of test cases. Then T test cases follow. Each test case contains a string str.\n",
    "<br><br>\n",
    "Output:\n",
    "For each test case, print a new line containing the resulting string.\n",
    "<br><br>\n",
    "Constraints:\n",
    "1<=T<=100\n",
    "1<=Length of string<=50\n",
    "<br>\n",
    "Example:<br>\n",
    "Input:<br>\n",
    "2<br>\n",
    "geeksforgeek<br>\n",
    "acaaabbbacdddd<br>\n",
    "<br><br>\n",
    "Output:<br>\n",
    "gksforgk<br>\n",
    "acac<br>"
   ]
  },
  {
   "cell_type": "code",
   "execution_count": 30,
   "metadata": {},
   "outputs": [
    {
     "name": "stdout",
     "output_type": "stream",
     "text": [
      "gksforgk\n"
     ]
    }
   ],
   "source": [
    "def unique(s,output=\"\"):\n",
    "    \n",
    "    if len(s)==1:\n",
    "        \n",
    "        return output+s\n",
    "    \n",
    "    if s[0] != s[1]:\n",
    "            \n",
    "            output+=s[0]\n",
    "            return unique(s[1:],output)\n",
    "        \n",
    "    for i,letter in enumerate(s[1:]):\n",
    "        \n",
    "        \n",
    "        if s[0]==letter:\n",
    "            continue\n",
    "        else:\n",
    "            \n",
    "            return unique(s[i+1:],output)\n",
    "            \n",
    "    return output\n",
    "            \n",
    "print(unique(\"geeksforgeeks\"))"
   ]
  },
  {
   "cell_type": "code",
   "execution_count": 28,
   "metadata": {},
   "outputs": [],
   "source": []
  },
  {
   "cell_type": "code",
   "execution_count": null,
   "metadata": {},
   "outputs": [],
   "source": [
    "\n"
   ]
  },
  {
   "cell_type": "code",
   "execution_count": null,
   "metadata": {},
   "outputs": [],
   "source": []
  }
 ],
 "metadata": {
  "kernelspec": {
   "display_name": "Python 3",
   "language": "python",
   "name": "python3"
  },
  "language_info": {
   "codemirror_mode": {
    "name": "ipython",
    "version": 3
   },
   "file_extension": ".py",
   "mimetype": "text/x-python",
   "name": "python",
   "nbconvert_exporter": "python",
   "pygments_lexer": "ipython3",
   "version": "3.7.6"
  }
 },
 "nbformat": 4,
 "nbformat_minor": 4
}
