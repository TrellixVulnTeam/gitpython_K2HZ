{
 "cells": [
  {
   "cell_type": "markdown",
   "metadata": {},
   "source": [
    "Given a string s, recursively remove adjacent duplicate characters from the string s. The output string should not have any adjacent duplicates.\n",
    " \n",
    "<br><br>\n",
    "Input:\n",
    "The first line of input contains an integer T, denoting the no of test cases. Then T test cases follow. Each test case contains a string str.\n",
    "<br><br>\n",
    "Output:\n",
    "For each test case, print a new line containing the resulting string.\n",
    "<br><br>\n",
    "Constraints:\n",
    "1<=T<=100\n",
    "1<=Length of string<=50\n",
    "<br>\n",
    "Example:<br>\n",
    "Input:<br>\n",
    "2<br>\n",
    "geeksforgeek<br>\n",
    "acaaabbbacdddd<br>\n",
    "<br><br>\n",
    "Output:<br>\n",
    "gksforgk<br>\n",
    "acac<br>"
   ]
  },
  {
   "cell_type": "code",
   "execution_count": 7,
   "metadata": {},
   "outputs": [
    {
     "ename": "SyntaxError",
     "evalue": "unexpected EOF while parsing (<ipython-input-7-c7c4c29131e2>, line 5)",
     "output_type": "error",
     "traceback": [
      "\u001b[0;36m  File \u001b[0;32m\"<ipython-input-7-c7c4c29131e2>\"\u001b[0;36m, line \u001b[0;32m5\u001b[0m\n\u001b[0;31m    \u001b[0m\n\u001b[0m    ^\u001b[0m\n\u001b[0;31mSyntaxError\u001b[0m\u001b[0;31m:\u001b[0m unexpected EOF while parsing\n"
     ]
    }
   ],
   "source": [
    "def unique(s,k):\n",
    "    \n",
    "    if len(s)<k:\n",
    "        s.pop(k-len(s)-1)\n",
    "        return unique(s[k-len(s):]+s[:k-len(s)-1],k)\n",
    "    \n",
    "    for i in range(1,len(s)+1):\n",
    "        \n",
    "        if i %k==0:\n",
    "            m=i-1\n",
    "            s.pop(i-1)\n",
    "        \n",
    "    unique(s[m+1:]+s[:m],k)\n",
    "    \n",
    "        \n",
    "        \n",
    "        \n",
    "    \n",
    "        \n",
    "            \n",
    "    "
   ]
  },
  {
   "cell_type": "code",
   "execution_count": null,
   "metadata": {},
   "outputs": [],
   "source": []
  }
 ],
 "metadata": {
  "kernelspec": {
   "display_name": "Python 3",
   "language": "python",
   "name": "python3"
  },
  "language_info": {
   "codemirror_mode": {
    "name": "ipython",
    "version": 3
   },
   "file_extension": ".py",
   "mimetype": "text/x-python",
   "name": "python",
   "nbconvert_exporter": "python",
   "pygments_lexer": "ipython3",
   "version": "3.7.6"
  }
 },
 "nbformat": 4,
 "nbformat_minor": 4
}
