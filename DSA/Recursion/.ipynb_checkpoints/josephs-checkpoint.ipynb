{
 "cells": [
  {
   "cell_type": "code",
   "execution_count": 1,
   "metadata": {},
   "outputs": [
    {
     "name": "stdout",
     "output_type": "stream",
     "text": [
      "CPU times: user 19 µs, sys: 1e+03 ns, total: 20 µs\n",
      "Wall time: 23.1 µs\n"
     ]
    }
   ],
   "source": [
    "%%time\n",
    "def unique(s,k):\n",
    "    \n",
    "    if len(s)==1:\n",
    "        return s[0]\n",
    "    \n",
    "    if len(s)<k:\n",
    "        j=k%len(s)-1\n",
    "        s.pop(j)\n",
    "        if j==-1:\n",
    "            j=0\n",
    "                \n",
    "        return unique(s[j:]+s[:j],k)\n",
    "    \n",
    "    m=k\n",
    "    s.pop(m-1)\n",
    "        \n",
    "    return unique(s[m-1:]+s[:m-1],k)\n",
    "    \n",
    "a=unique([1,2,3,4,5,6,7,8,9,10],9)"
   ]
  },
  {
   "cell_type": "code",
   "execution_count": null,
   "metadata": {},
   "outputs": [],
   "source": []
  }
 ],
 "metadata": {
  "kernelspec": {
   "display_name": "Python 3",
   "language": "python",
   "name": "python3"
  },
  "language_info": {
   "codemirror_mode": {
    "name": "ipython",
    "version": 3
   },
   "file_extension": ".py",
   "mimetype": "text/x-python",
   "name": "python",
   "nbconvert_exporter": "python",
   "pygments_lexer": "ipython3",
   "version": "3.7.6"
  }
 },
 "nbformat": 4,
 "nbformat_minor": 4
}
