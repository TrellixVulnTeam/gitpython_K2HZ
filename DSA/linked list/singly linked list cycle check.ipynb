{
 "cells": [
  {
   "cell_type": "code",
   "execution_count": 8,
   "metadata": {},
   "outputs": [],
   "source": [
    "class node(object):\n",
    "    \n",
    "    def __init__(self,value):\n",
    "        \n",
    "        self.value=value\n",
    "        self.nextNode=None"
   ]
  },
  {
   "cell_type": "code",
   "execution_count": 3,
   "metadata": {},
   "outputs": [],
   "source": [
    "\n",
    "\n",
    "def checkCycle(node,seen=set()):\n",
    "    \n",
    "    if node.nextNode in seen:\n",
    "        \n",
    "        return True\n",
    "    else:\n",
    "        if node.nextNode is None:\n",
    "            \n",
    "            return False\n",
    "        else:\n",
    "            seen.add(node.nextNode)\n",
    "            if checkCycle(node.nextNode,seen) == True:\n",
    "                return True\n",
    "            else:\n",
    "                return False\n"
   ]
  },
  {
   "cell_type": "code",
   "execution_count": 15,
   "metadata": {},
   "outputs": [],
   "source": [
    "a=node(1)\n",
    "b=node(2)\n",
    "c=node(3)\n",
    "\n",
    "a.nextNode=a\n",
    "b.nextNode=c\n",
    "\n"
   ]
  },
  {
   "cell_type": "code",
   "execution_count": 20,
   "metadata": {},
   "outputs": [
    {
     "name": "stdout",
     "output_type": "stream",
     "text": [
      "False\n"
     ]
    }
   ],
   "source": [
    "if b.nextNode.nextNode is None:\n",
    "    print( False)"
   ]
  },
  {
   "cell_type": "code",
   "execution_count": 14,
   "metadata": {},
   "outputs": [],
   "source": [
    "def cycleCheck(object):\n",
    "    \n",
    "    marker1=node()\n",
    "    marker2=node()\n",
    "    \n",
    "    while marker2!=none and marker2.nextNode!=None:\n",
    "        \n",
    "        marker1=marker1.nextNode()\n",
    "        marker2=marker2.nextNode.nextNode()\n",
    "        \n",
    "        if marker1==marker2:\n",
    "            return True\n",
    "    \n",
    "    return False\n",
    "    "
   ]
  },
  {
   "cell_type": "code",
   "execution_count": null,
   "metadata": {},
   "outputs": [],
   "source": []
  }
 ],
 "metadata": {
  "kernelspec": {
   "display_name": "Python 3",
   "language": "python",
   "name": "python3"
  },
  "language_info": {
   "codemirror_mode": {
    "name": "ipython",
    "version": 3
   },
   "file_extension": ".py",
   "mimetype": "text/x-python",
   "name": "python",
   "nbconvert_exporter": "python",
   "pygments_lexer": "ipython3",
   "version": "3.7.6"
  }
 },
 "nbformat": 4,
 "nbformat_minor": 4
}
