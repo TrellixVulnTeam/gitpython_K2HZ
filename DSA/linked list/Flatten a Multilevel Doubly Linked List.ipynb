{
 "cells": [
  {
   "cell_type": "code",
   "execution_count": 1,
   "metadata": {},
   "outputs": [],
   "source": [
    "def flt2(head):\n",
    "    \n",
    "    currentNode=head\n",
    "    prevNode=None\n",
    "    childNode=None\n",
    "    nextNode=None\n",
    "\n",
    "\n",
    "    while currentNode!=None:\n",
    "\n",
    "        nextNode=currentNode.next \n",
    "        if currentNode.child!=None:\n",
    "            \n",
    "            childNode=currentNode.child\n",
    "            \n",
    "            currentNode.next=currentNode.child\n",
    "            childNode.prev=currentNode\n",
    "            \n",
    "            currentNode.child=None\n",
    "            \n",
    "            currentNode=currentNode.next\n",
    "            currentNode=flt2(currentNode)\n",
    "\n",
    "        if nextNode!=None:\n",
    "            nextNode.prev=currentNode\n",
    "            currentNode.next=nextNode\n",
    "            currentNode=currentNode.next\n",
    "        else:\n",
    "            currentNode.next=nextNode\n",
    "            prevNode=currentNode\n",
    "            currentNode=currentNode.next\n",
    "    \n",
    "    return prevNode"
   ]
  },
  {
   "cell_type": "code",
   "execution_count": null,
   "metadata": {},
   "outputs": [],
   "source": []
  }
 ],
 "metadata": {
  "kernelspec": {
   "display_name": "Python 3",
   "language": "python",
   "name": "python3"
  },
  "language_info": {
   "codemirror_mode": {
    "name": "ipython",
    "version": 3
   },
   "file_extension": ".py",
   "mimetype": "text/x-python",
   "name": "python",
   "nbconvert_exporter": "python",
   "pygments_lexer": "ipython3",
   "version": "3.7.6"
  }
 },
 "nbformat": 4,
 "nbformat_minor": 4
}
