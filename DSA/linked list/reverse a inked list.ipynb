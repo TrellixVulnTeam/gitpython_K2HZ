{
 "cells": [
  {
   "cell_type": "code",
   "execution_count": 5,
   "metadata": {},
   "outputs": [
    {
     "data": {
      "text/plain": [
       "1"
      ]
     },
     "execution_count": 5,
     "metadata": {},
     "output_type": "execute_result"
    }
   ],
   "source": [
    "class node(object):\n",
    "    \n",
    "    def __init__(self,value):\n",
    "        \n",
    "        self.value=value\n",
    "        self.nextNode=None\n",
    "        \n",
    "# def cycleCheck(n):\n",
    "    \n",
    "#     marker1=n\n",
    "#     marker2=n\n",
    "    \n",
    "#     while marker2!=None and marker2.nextNode!=None:\n",
    "        \n",
    "#         marker1=marker1.nextNode\n",
    "#         marker2=marker2.nextNode.nextNode\n",
    "        \n",
    "#         if marker1==marker2:\n",
    "#             return True\n",
    "    \n",
    "#     return False\n",
    "\n",
    "# def checkCycle(node,seen=set()):\n",
    "    \n",
    "#     if node.nextNode in seen:\n",
    "        \n",
    "#         return True\n",
    "#     else:\n",
    "#         if node.nextNode is None:\n",
    "            \n",
    "#             return False\n",
    "#         else:\n",
    "#             seen.add(node.nextNode)\n",
    "#             if checkCycle(node.nextNode,seen) == True:\n",
    "#                 return True\n",
    "#             else:\n",
    "#                 return False\n",
    "def reverse(current):\n",
    "    \n",
    "    prevnode=None\n",
    "    nextnode=None\n",
    "    \n",
    "    while current :\n",
    "        \n",
    "        nextnode=current.nextNode\n",
    "        current.nextNode=prevnode\n",
    "        prevnode=current\n",
    "        current=nextnode\n",
    "        \n",
    "    return prevnode\n",
    "\n",
    "a=node(1)\n",
    "b=node(2)\n",
    "c=node(3)\n",
    "\n",
    "a.nextNode=b\n",
    "b.nextNode=c\n",
    "\n",
    "reverse(a).nextNode.nextNode.value"
   ]
  },
  {
   "cell_type": "code",
   "execution_count": 6,
   "metadata": {},
   "outputs": [],
   "source": [
    "def reverse2(current):\n",
    "    \n",
    "    prevNode=None\n",
    "    nextNode=None\n",
    "    while current:\n",
    "        \n",
    "        nextNode=current.nextNode\n",
    "        current.nextNode=prevNode\n",
    "        \n",
    "        prevNode=current\n",
    "        \n",
    "        current=nextNode\n",
    "    \n",
    "    return prevNode"
   ]
  },
  {
   "cell_type": "code",
   "execution_count": 3,
   "metadata": {},
   "outputs": [
    {
     "name": "stdout",
     "output_type": "stream",
     "text": [
      "10\n",
      "9\n",
      "8\n",
      "7\n",
      "6\n",
      "5\n",
      "4\n",
      "3\n",
      "2\n",
      "1\n",
      "0\n"
     ]
    }
   ],
   "source": [
    "for i in range(10,-1,-1):\n",
    "    print(i)"
   ]
  },
  {
   "cell_type": "code",
   "execution_count": 5,
   "metadata": {},
   "outputs": [
    {
     "name": "stdout",
     "output_type": "stream",
     "text": [
      "[]\n",
      "[0]\n",
      "[1]\n",
      "[0, 1]\n",
      "[2]\n",
      "[0, 2]\n",
      "[1, 2]\n",
      "[0, 1, 2]\n"
     ]
    }
   ],
   "source": [
    "for i in range(1 << 3):\n",
    "    print([j for j in range(3) if (i & (1 << j))]"
   ]
  },
  {
   "cell_type": "code",
   "execution_count": 15,
   "metadata": {},
   "outputs": [
    {
     "data": {
      "text/plain": [
       "2"
      ]
     },
     "execution_count": 15,
     "metadata": {},
     "output_type": "execute_result"
    }
   ],
   "source": [
    "1 & 1<<1"
   ]
  },
  {
   "cell_type": "code",
   "execution_count": 16,
   "metadata": {},
   "outputs": [
    {
     "data": {
      "text/plain": [
       "2"
      ]
     },
     "execution_count": 16,
     "metadata": {},
     "output_type": "execute_result"
    }
   ],
   "source": [
    "1<<1"
   ]
  },
  {
   "cell_type": "code",
   "execution_count": 17,
   "metadata": {},
   "outputs": [
    {
     "data": {
      "text/plain": [
       "0"
      ]
     },
     "execution_count": 17,
     "metadata": {},
     "output_type": "execute_result"
    }
   ],
   "source": [
    "1 & 2"
   ]
  },
  {
   "cell_type": "code",
   "execution_count": 18,
   "metadata": {},
   "outputs": [
    {
     "data": {
      "text/plain": [
       "1"
      ]
     },
     "execution_count": 18,
     "metadata": {},
     "output_type": "execute_result"
    }
   ],
   "source": [
    "1<<0"
   ]
  },
  {
   "cell_type": "code",
   "execution_count": 19,
   "metadata": {},
   "outputs": [
    {
     "data": {
      "text/plain": [
       "1"
      ]
     },
     "execution_count": 19,
     "metadata": {},
     "output_type": "execute_result"
    }
   ],
   "source": [
    "1 & 1"
   ]
  },
  {
   "cell_type": "code",
   "execution_count": 20,
   "metadata": {},
   "outputs": [
    {
     "data": {
      "text/plain": [
       "1"
      ]
     },
     "execution_count": 20,
     "metadata": {},
     "output_type": "execute_result"
    }
   ],
   "source": [
    "3 & 1"
   ]
  },
  {
   "cell_type": "code",
   "execution_count": 21,
   "metadata": {},
   "outputs": [
    {
     "data": {
      "text/plain": [
       "2"
      ]
     },
     "execution_count": 21,
     "metadata": {},
     "output_type": "execute_result"
    }
   ],
   "source": [
    "3 & 2"
   ]
  },
  {
   "cell_type": "code",
   "execution_count": 22,
   "metadata": {},
   "outputs": [
    {
     "data": {
      "text/plain": [
       "3"
      ]
     },
     "execution_count": 22,
     "metadata": {},
     "output_type": "execute_result"
    }
   ],
   "source": [
    "3 & 3"
   ]
  },
  {
   "cell_type": "code",
   "execution_count": 23,
   "metadata": {},
   "outputs": [
    {
     "data": {
      "text/plain": [
       "0"
      ]
     },
     "execution_count": 23,
     "metadata": {},
     "output_type": "execute_result"
    }
   ],
   "source": [
    "4 &1"
   ]
  },
  {
   "cell_type": "code",
   "execution_count": 24,
   "metadata": {},
   "outputs": [
    {
     "data": {
      "text/plain": [
       "0"
      ]
     },
     "execution_count": 24,
     "metadata": {},
     "output_type": "execute_result"
    }
   ],
   "source": [
    "4 & 2"
   ]
  },
  {
   "cell_type": "code",
   "execution_count": null,
   "metadata": {},
   "outputs": [],
   "source": []
  }
 ],
 "metadata": {
  "kernelspec": {
   "display_name": "Python 3",
   "language": "python",
   "name": "python3"
  },
  "language_info": {
   "codemirror_mode": {
    "name": "ipython",
    "version": 3
   },
   "file_extension": ".py",
   "mimetype": "text/x-python",
   "name": "python",
   "nbconvert_exporter": "python",
   "pygments_lexer": "ipython3",
   "version": "3.7.6"
  }
 },
 "nbformat": 4,
 "nbformat_minor": 4
}
