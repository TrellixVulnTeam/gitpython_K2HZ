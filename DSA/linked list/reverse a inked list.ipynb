{
 "cells": [
  {
   "cell_type": "code",
   "execution_count": 5,
   "metadata": {},
   "outputs": [
    {
     "data": {
      "text/plain": [
       "1"
      ]
     },
     "execution_count": 5,
     "metadata": {},
     "output_type": "execute_result"
    }
   ],
   "source": [
    "class node(object):\n",
    "    \n",
    "    def __init__(self,value):\n",
    "        \n",
    "        self.value=value\n",
    "        self.nextNode=None\n",
    "        \n",
    "# def cycleCheck(n):\n",
    "    \n",
    "#     marker1=n\n",
    "#     marker2=n\n",
    "    \n",
    "#     while marker2!=None and marker2.nextNode!=None:\n",
    "        \n",
    "#         marker1=marker1.nextNode\n",
    "#         marker2=marker2.nextNode.nextNode\n",
    "        \n",
    "#         if marker1==marker2:\n",
    "#             return True\n",
    "    \n",
    "#     return False\n",
    "\n",
    "# def checkCycle(node,seen=set()):\n",
    "    \n",
    "#     if node.nextNode in seen:\n",
    "        \n",
    "#         return True\n",
    "#     else:\n",
    "#         if node.nextNode is None:\n",
    "            \n",
    "#             return False\n",
    "#         else:\n",
    "#             seen.add(node.nextNode)\n",
    "#             if checkCycle(node.nextNode,seen) == True:\n",
    "#                 return True\n",
    "#             else:\n",
    "#                 return False\n",
    "def reverse(current):\n",
    "    \n",
    "    prevnode=None\n",
    "    nextnode=None\n",
    "    \n",
    "    while current :\n",
    "        \n",
    "        nextnode=current.nextNode\n",
    "        current.nextNode=prevnode\n",
    "        prevnode=current\n",
    "        current=nextnode\n",
    "        \n",
    "    return prevnode\n",
    "\n",
    "a=node(1)\n",
    "b=node(2)\n",
    "c=node(3)\n",
    "\n",
    "a.nextNode=b\n",
    "b.nextNode=c\n",
    "\n",
    "reverse(a).nextNode.nextNode.value"
   ]
  },
  {
   "cell_type": "code",
   "execution_count": 6,
   "metadata": {},
   "outputs": [],
   "source": [
    "def reverse2(current):\n",
    "    \n",
    "    prevNode=None\n",
    "    nextNode=None\n",
    "    while current:\n",
    "        \n",
    "        nextNode=current.nextNode\n",
    "        current.nextNode=prevNode\n",
    "        \n",
    "        prevNode=current\n",
    "        \n",
    "        current=nextNode\n",
    "    \n",
    "    return prevNode"
   ]
  },
  {
   "cell_type": "code",
   "execution_count": null,
   "metadata": {},
   "outputs": [],
   "source": []
  }
 ],
 "metadata": {
  "kernelspec": {
   "display_name": "Python 3",
   "language": "python",
   "name": "python3"
  },
  "language_info": {
   "codemirror_mode": {
    "name": "ipython",
    "version": 3
   },
   "file_extension": ".py",
   "mimetype": "text/x-python",
   "name": "python",
   "nbconvert_exporter": "python",
   "pygments_lexer": "ipython3",
   "version": "3.7.6"
  }
 },
 "nbformat": 4,
 "nbformat_minor": 4
}
