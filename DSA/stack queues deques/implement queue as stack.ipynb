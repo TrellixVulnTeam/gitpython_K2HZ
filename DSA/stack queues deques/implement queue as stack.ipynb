{
 "cells": [
  {
   "cell_type": "code",
   "execution_count": 9,
   "metadata": {},
   "outputs": [],
   "source": [
    "class queue(object):\n",
    "    \n",
    "    def __init__(self):\n",
    "        \n",
    "        self.stack1=[]\n",
    "        self.stack2=[]\n",
    "        \n",
    "    def enqueue(self,item):\n",
    "        self.stack1.append(item)\n",
    "   \n",
    "    def dequeue(self):\n",
    "#         l=len(self.stack1)\n",
    "#         for i in range(l):\n",
    "#             x=self.stack1.pop()\n",
    "#             self.stack2.append(x)\n",
    "#         return self.stack2.pop()\n",
    "        if not self.stack2:\n",
    "            \n",
    "            while self.stack1:\n",
    "                self.stack2.append(self.stack1.pop())\n",
    "        return self.stack2.pop()"
   ]
  },
  {
   "cell_type": "code",
   "execution_count": 10,
   "metadata": {},
   "outputs": [
    {
     "name": "stdout",
     "output_type": "stream",
     "text": [
      "0\n",
      "1\n",
      "2\n",
      "3\n",
      "4\n",
      "5\n",
      "6\n",
      "7\n",
      "8\n",
      "9\n"
     ]
    }
   ],
   "source": [
    "q=queue()\n",
    "\n",
    "for i in range(10):\n",
    "    q.enqueue(i)\n",
    "\n",
    "    \n",
    "for i in range(10):\n",
    "    print(q.dequeue())"
   ]
  },
  {
   "cell_type": "code",
   "execution_count": null,
   "metadata": {},
   "outputs": [],
   "source": []
  }
 ],
 "metadata": {
  "kernelspec": {
   "display_name": "Python 3",
   "language": "python",
   "name": "python3"
  },
  "language_info": {
   "codemirror_mode": {
    "name": "ipython",
    "version": 3
   },
   "file_extension": ".py",
   "mimetype": "text/x-python",
   "name": "python",
   "nbconvert_exporter": "python",
   "pygments_lexer": "ipython3",
   "version": "3.7.6"
  }
 },
 "nbformat": 4,
 "nbformat_minor": 4
}
