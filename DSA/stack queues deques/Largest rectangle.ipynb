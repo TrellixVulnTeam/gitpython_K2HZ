{
 "cells": [
  {
   "cell_type": "code",
   "execution_count": 1,
   "metadata": {},
   "outputs": [],
   "source": [
    "def largestRectangle(h):\n",
    "\n",
    "    pos=[]\n",
    "    height=[]\n",
    "    maxsize=0\n",
    "    for i,j in enumerate(h):\n",
    "        if  len(height)==0 or j>height[-1]:\n",
    "            pos.append(i)\n",
    "            height.append(j)\n",
    "        elif j< height[-1]:\n",
    "            p=0\n",
    "            while j<height[-1]:\n",
    "                p=pos.pop()\n",
    "                size=height.pop()*(i-p)\n",
    "                if size >maxsize:\n",
    "                    maxsize=size\n",
    "                if len(height)==0:\n",
    "                    height.append(j)\n",
    "                    pos.append(p)\n",
    "                    break\n",
    "            if  j>height[-1]:\n",
    "                height.append(j)\n",
    "                pos.append(p)\n",
    "                \n",
    "    for i in range(len(height)):\n",
    "        \n",
    "        size=height[i]*(len(h)-pos[i])\n",
    "        if size >maxsize:\n",
    "            maxsize=size\n",
    "    return maxsize\n",
    "\n"
   ]
  },
  {
   "cell_type": "code",
   "execution_count": 4,
   "metadata": {},
   "outputs": [
    {
     "data": {
      "text/plain": [
       "8"
      ]
     },
     "execution_count": 4,
     "metadata": {},
     "output_type": "execute_result"
    }
   ],
   "source": [
    "largestRectangle([7,2,1,4,5,1,3,3])"
   ]
  },
  {
   "cell_type": "code",
   "execution_count": 3,
   "metadata": {},
   "outputs": [
    {
     "data": {
      "text/plain": [
       "['a', 'b', 'c']"
      ]
     },
     "execution_count": 3,
     "metadata": {},
     "output_type": "execute_result"
    }
   ],
   "source": [
    "list(\"abc\")"
   ]
  },
  {
   "cell_type": "code",
   "execution_count": 6,
   "metadata": {},
   "outputs": [
    {
     "data": {
      "text/plain": [
       "0"
      ]
     },
     "execution_count": 6,
     "metadata": {},
     "output_type": "execute_result"
    }
   ],
   "source": [
    "b=[1,1,1,1]\n",
    "\n",
    "b.index(1)"
   ]
  },
  {
   "cell_type": "code",
   "execution_count": null,
   "metadata": {},
   "outputs": [],
   "source": []
  }
 ],
 "metadata": {
  "kernelspec": {
   "display_name": "Python 3",
   "language": "python",
   "name": "python3"
  },
  "language_info": {
   "codemirror_mode": {
    "name": "ipython",
    "version": 3
   },
   "file_extension": ".py",
   "mimetype": "text/x-python",
   "name": "python",
   "nbconvert_exporter": "python",
   "pygments_lexer": "ipython3",
   "version": "3.7.6"
  }
 },
 "nbformat": 4,
 "nbformat_minor": 4
}
