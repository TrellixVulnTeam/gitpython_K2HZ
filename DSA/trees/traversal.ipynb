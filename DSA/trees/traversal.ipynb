{
 "cells": [
  {
   "cell_type": "code",
   "execution_count": 3,
   "metadata": {},
   "outputs": [],
   "source": [
    "class binaryTree(object):\n",
    "    \n",
    "    def __init__(self,root):\n",
    "        \n",
    "        self.key=root\n",
    "        self.leftChild=None\n",
    "        self.rightChild=None\n",
    "        \n",
    "    \n",
    "    def insertLeft(self,node):\n",
    "        if self.leftChild ==None:\n",
    "            \n",
    "            self.leftChild=binaryTree(node)\n",
    "        else:\n",
    "            \n",
    "            t=binaryTree(node)\n",
    "            t.leftChild=self.leftChild\n",
    "            self.leftChild=t\n",
    "    \n",
    "    def insertRight(self,node):\n",
    "        if self.rightChild ==None:\n",
    "            \n",
    "            self.rightChild=binaryTree(node)\n",
    "        else:\n",
    "            \n",
    "            t=binaryTree(node)\n",
    "            t.rightChild=self.rightChild\n",
    "            self.rightChild=t\n",
    "            \n",
    "    \n",
    "    def getRightChild(self):\n",
    "        \n",
    "        return self.rightChild\n",
    "    \n",
    "    \n",
    "    def getLeftChild(self):\n",
    "        \n",
    "        return self.leftChild\n",
    "    \n",
    "    def setRootVal(self,obj):\n",
    "        \n",
    "        self.key=obj\n",
    "        \n",
    "    def getRootVal(self):\n",
    "        \n",
    "        return self.key"
   ]
  },
  {
   "cell_type": "code",
   "execution_count": 4,
   "metadata": {},
   "outputs": [],
   "source": [
    "def postorder(root):\n",
    "    \n",
    "    if root:\n",
    "        postorder(root.getLeftChild())\n",
    "        print(root.getRootVal())\n",
    "        \n",
    "        postorder(root.getRightChild())"
   ]
  },
  {
   "cell_type": "code",
   "execution_count": null,
   "metadata": {},
   "outputs": [],
   "source": [
    "r=binaryTree(\"a\")\n",
    "r.insertLeft(\"b\")\n"
   ]
  }
 ],
 "metadata": {
  "kernelspec": {
   "display_name": "Python 3",
   "language": "python",
   "name": "python3"
  },
  "language_info": {
   "codemirror_mode": {
    "name": "ipython",
    "version": 3
   },
   "file_extension": ".py",
   "mimetype": "text/x-python",
   "name": "python",
   "nbconvert_exporter": "python",
   "pygments_lexer": "ipython3",
   "version": "3.7.6"
  }
 },
 "nbformat": 4,
 "nbformat_minor": 4
}
