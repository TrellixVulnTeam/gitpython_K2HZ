{
 "cells": [
  {
   "cell_type": "code",
   "execution_count": null,
   "metadata": {},
   "outputs": [],
   "source": [
    "def lca(root, v1, v2):\n",
    "\n",
    "    maxval=max(v1,v2)\n",
    "    minval=min(v1,v2)\n",
    "    if root.info==minval or root.info==maxval:\n",
    "        return root\n",
    "    if root==None:\n",
    "        return\n",
    "    \n",
    "    if minval<root.info<maxval:\n",
    "        return root\n",
    "    elif minval<root.info and maxval<root.info:\n",
    "        return lca(root.left,maxval,minval)\n",
    "    else:\n",
    "        return lca(root.right,maxval,minval)\n"
   ]
  }
 ],
 "metadata": {
  "kernelspec": {
   "display_name": "Python 3",
   "language": "python",
   "name": "python3"
  },
  "language_info": {
   "codemirror_mode": {
    "name": "ipython",
    "version": 3
   },
   "file_extension": ".py",
   "mimetype": "text/x-python",
   "name": "python",
   "nbconvert_exporter": "python",
   "pygments_lexer": "ipython3",
   "version": "3.7.6"
  }
 },
 "nbformat": 4,
 "nbformat_minor": 4
}
