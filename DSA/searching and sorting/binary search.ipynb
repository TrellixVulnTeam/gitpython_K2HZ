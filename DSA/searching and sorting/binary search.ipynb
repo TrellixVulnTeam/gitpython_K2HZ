{
 "cells": [
  {
   "cell_type": "code",
   "execution_count": 1,
   "metadata": {},
   "outputs": [],
   "source": [
    "def binarysearch(a,ele):\n",
    "    \n",
    "    first=0\n",
    "    last=len(a)-1\n",
    "    found=False\n",
    "    \n",
    "    while first<=last and not found:\n",
    "        \n",
    "        mid=int((first+last)/2)\n",
    "        \n",
    "        if a[mid]==ele:\n",
    "            \n",
    "            found=True\n",
    "            return found\n",
    "        \n",
    "        if a[mid]>ele:\n",
    "            \n",
    "            last=mid-1\n",
    "        else:\n",
    "            first=mid+1\n",
    "    \n",
    "    return found"
   ]
  },
  {
   "cell_type": "code",
   "execution_count": 2,
   "metadata": {},
   "outputs": [
    {
     "data": {
      "text/plain": [
       "False"
      ]
     },
     "execution_count": 2,
     "metadata": {},
     "output_type": "execute_result"
    }
   ],
   "source": [
    "binarysearch([1,2,3,4,6,7,8],9)"
   ]
  },
  {
   "cell_type": "code",
   "execution_count": 15,
   "metadata": {},
   "outputs": [],
   "source": [
    "def bs2(arr,ele):\n",
    "    \n",
    "    if len(arr)==0:\n",
    "        return False\n",
    "    \n",
    "    mid=int(len(arr)/2)\n",
    "    \n",
    "    if arr[mid]==ele:\n",
    "        return True\n",
    "    \n",
    "    if arr[mid]>ele:\n",
    "        return bs2(arr[:mid],ele)\n",
    "    else:\n",
    "        return bs2(arr[mid+1:],ele)\n",
    "    \n",
    "    \n",
    "    "
   ]
  },
  {
   "cell_type": "code",
   "execution_count": 16,
   "metadata": {},
   "outputs": [
    {
     "data": {
      "text/plain": [
       "False"
      ]
     },
     "execution_count": 16,
     "metadata": {},
     "output_type": "execute_result"
    }
   ],
   "source": [
    "bs2([1,2,3,4,5,6,7,8],9)"
   ]
  },
  {
   "cell_type": "code",
   "execution_count": null,
   "metadata": {},
   "outputs": [],
   "source": []
  }
 ],
 "metadata": {
  "kernelspec": {
   "display_name": "Python 3",
   "language": "python",
   "name": "python3"
  },
  "language_info": {
   "codemirror_mode": {
    "name": "ipython",
    "version": 3
   },
   "file_extension": ".py",
   "mimetype": "text/x-python",
   "name": "python",
   "nbconvert_exporter": "python",
   "pygments_lexer": "ipython3",
   "version": "3.7.6"
  }
 },
 "nbformat": 4,
 "nbformat_minor": 4
}
