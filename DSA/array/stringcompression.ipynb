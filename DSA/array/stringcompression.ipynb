{
 "cells": [
  {
   "cell_type": "code",
   "execution_count": 22,
   "metadata": {},
   "outputs": [],
   "source": [
    "import collections\n",
    "def stringcompre(s):\n",
    "    \n",
    "    d=collections.defaultdict(int)\n",
    "    for i in s:\n",
    "        d[i]+=1\n",
    "    \n",
    "    final=\"\"\n",
    "    for i in d:\n",
    "        final+=i+str(d[i])\n",
    "    \n",
    "    return final"
   ]
  },
  {
   "cell_type": "code",
   "execution_count": 28,
   "metadata": {},
   "outputs": [
    {
     "data": {
      "text/plain": [
       "'A3a3'"
      ]
     },
     "execution_count": 28,
     "metadata": {},
     "output_type": "execute_result"
    }
   ],
   "source": [
    "stringcompre(\"AAAaaa\") "
   ]
  },
  {
   "cell_type": "code",
   "execution_count": 37,
   "metadata": {},
   "outputs": [],
   "source": [
    "def comre(s):\n",
    "    if len(s)==0:\n",
    "        return None\n",
    "    if len(s)==1:\n",
    "        return s+str(i)\n",
    "    r=\"\"\n",
    "    i=0\n",
    "    cnt=1\n",
    "    while i < len(s)-1:\n",
    "        if s[i]==s[i+1]:\n",
    "            cnt+=1\n",
    "        else:\n",
    "            r=r+s[i]+str(cnt)\n",
    "            cnt=1\n",
    "        i+=1\n",
    "\n",
    "    r=r+s[i]+str(cnt)\n",
    "    \n",
    "    return r\n",
    "            "
   ]
  },
  {
   "cell_type": "code",
   "execution_count": 44,
   "metadata": {},
   "outputs": [
    {
     "data": {
      "text/plain": [
       "'A5B1C1A1'"
      ]
     },
     "execution_count": 44,
     "metadata": {},
     "output_type": "execute_result"
    }
   ],
   "source": [
    "comre()"
   ]
  },
  {
   "cell_type": "code",
   "execution_count": null,
   "metadata": {},
   "outputs": [],
   "source": []
  }
 ],
 "metadata": {
  "kernelspec": {
   "display_name": "Python 3",
   "language": "python",
   "name": "python3"
  },
  "language_info": {
   "codemirror_mode": {
    "name": "ipython",
    "version": 3
   },
   "file_extension": ".py",
   "mimetype": "text/x-python",
   "name": "python",
   "nbconvert_exporter": "python",
   "pygments_lexer": "ipython3",
   "version": "3.7.6"
  }
 },
 "nbformat": 4,
 "nbformat_minor": 4
}
