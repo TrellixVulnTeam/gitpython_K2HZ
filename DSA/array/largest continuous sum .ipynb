{
 "cells": [
  {
   "cell_type": "code",
   "execution_count": 4,
   "metadata": {},
   "outputs": [],
   "source": [
    "def lsum(s1):\n",
    "    mx=0\n",
    "    sm=0\n",
    "    \n",
    "    if len([i for i in s1 if i>0])==0:\n",
    "        return max(s1)\n",
    "    \n",
    "    if len([i for i in s1 if i>=0])==len(s1):\n",
    "        return sum(s1)\n",
    "    \n",
    "    \n",
    "    for i in s1:\n",
    "        sm+=i\n",
    "        \n",
    "        if sm>=mx:\n",
    "            mx=sm\n",
    "        \n",
    "        if sm<0:\n",
    "            sm=0\n",
    "    \n",
    "    return mx\n",
    "\n",
    "        \n",
    "        \n",
    "    "
   ]
  },
  {
   "cell_type": "code",
   "execution_count": 13,
   "metadata": {},
   "outputs": [],
   "source": [
    "def lsum2(s1):\n",
    "    \n",
    "    mx=sm=s1[0]\n",
    "    \n",
    "    for i in s1[1:]:\n",
    "        \n",
    "        sm=max(sm+i,i)\n",
    "        \n",
    "        mx=max(mx,sm)\n",
    "        \n",
    "    return mx"
   ]
  },
  {
   "cell_type": "code",
   "execution_count": 16,
   "metadata": {},
   "outputs": [
    {
     "data": {
      "text/plain": [
       "29"
      ]
     },
     "execution_count": 16,
     "metadata": {},
     "output_type": "execute_result"
    }
   ],
   "source": [
    "lsum2([1,2,-1,3,4,10,10,-10,-1])"
   ]
  },
  {
   "cell_type": "code",
   "execution_count": 8,
   "metadata": {},
   "outputs": [],
   "source": [
    "def longest(arr):\n",
    "    cnt=1\n",
    "    mx=1\n",
    "    i=0\n",
    "    \n",
    "    for i in range(len(arr)-1):\n",
    "        \n",
    "        if arr[i]<arr[i+1]:\n",
    "            cnt+=1\n",
    "            if cnt>=mx:\n",
    "                mx=cnt\n",
    "        else:\n",
    "            cnt=1\n",
    "    return mx"
   ]
  },
  {
   "cell_type": "code",
   "execution_count": 12,
   "metadata": {},
   "outputs": [
    {
     "data": {
      "text/plain": [
       "2"
      ]
     },
     "execution_count": 12,
     "metadata": {},
     "output_type": "execute_result"
    }
   ],
   "source": [
    "longest2([3,4,3,3,3])"
   ]
  },
  {
   "cell_type": "code",
   "execution_count": 50,
   "metadata": {},
   "outputs": [],
   "source": [
    "def longest2(arr):\n",
    "    \n",
    "    cnt=2\n",
    "    mx=1\n",
    "    i=0\n",
    "    \n",
    "    while i <len(arr)-1:\n",
    "        \n",
    "        if arr[i]<=arr[i+1]:\n",
    "            cnt+=1\n",
    "            if cnt>=mx:\n",
    "                mx=cnt\n",
    "        else:\n",
    "            cnt=1\n",
    "        \n",
    "        i+=1\n",
    "    \n",
    "    return mx\n"
   ]
  },
  {
   "cell_type": "code",
   "execution_count": 52,
   "metadata": {},
   "outputs": [
    {
     "data": {
      "text/plain": [
       "3"
      ]
     },
     "execution_count": 52,
     "metadata": {},
     "output_type": "execute_result"
    }
   ],
   "source": [
    "longest2([10 , 22 ,9,33,21,50, 41 , 60])"
   ]
  },
  {
   "cell_type": "code",
   "execution_count": null,
   "metadata": {},
   "outputs": [],
   "source": []
  },
  {
   "cell_type": "code",
   "execution_count": null,
   "metadata": {},
   "outputs": [],
   "source": []
  }
 ],
 "metadata": {
  "kernelspec": {
   "display_name": "Python 3.7.7 64-bit",
   "language": "python",
   "name": "python37764bit5a65826dca804630af99ee5e9501d3e0"
  },
  "language_info": {
   "codemirror_mode": {
    "name": "ipython",
    "version": 3
   },
   "file_extension": ".py",
   "mimetype": "text/x-python",
   "name": "python",
   "nbconvert_exporter": "python",
   "pygments_lexer": "ipython3",
   "version": "3.7.7"
  }
 },
 "nbformat": 4,
 "nbformat_minor": 4
}
