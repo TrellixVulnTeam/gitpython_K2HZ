{
 "cells": [
  {
   "cell_type": "code",
   "execution_count": 3,
   "metadata": {},
   "outputs": [],
   "source": [
    "def lsum(s1):\n",
    "    mx=0\n",
    "    sm=0\n",
    "    \n",
    "    if len([i for i in s1 if i>0])==0:\n",
    "        return max(s1)\n",
    "    \n",
    "    if len([i for i in s1 if i>=0])==len(s1):\n",
    "        return sum(s1)\n",
    "    \n",
    "    \n",
    "    for i in s1:\n",
    "        sm+=i\n",
    "        \n",
    "        if sm>=mx:\n",
    "            mx=sm\n",
    "    \n",
    "    return mx\n",
    "        \n",
    "        \n",
    "    "
   ]
  }
 ],
 "metadata": {
  "kernelspec": {
   "display_name": "Python 3.7.7 64-bit",
   "language": "python",
   "name": "python37764bit5a65826dca804630af99ee5e9501d3e0"
  },
  "language_info": {
   "codemirror_mode": {
    "name": "ipython",
    "version": 3
   },
   "file_extension": ".py",
   "mimetype": "text/x-python",
   "name": "python",
   "nbconvert_exporter": "python",
   "pygments_lexer": "ipython3",
   "version": "3.7.7"
  }
 },
 "nbformat": 4,
 "nbformat_minor": 4
}
