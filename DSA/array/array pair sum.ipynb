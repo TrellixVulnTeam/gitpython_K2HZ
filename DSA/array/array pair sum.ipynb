{
 "cells": [
  {
   "cell_type": "code",
   "execution_count": 33,
   "metadata": {},
   "outputs": [],
   "source": [
    "def arrpair(a,s):\n",
    "\n",
    "    seen=set()\n",
    "    output=set()\n",
    "    \n",
    "    for i in (a):\n",
    "        \n",
    "        temp=s-i\n",
    "        \n",
    "        if temp not in seen:\n",
    "            seen.add(i)\n",
    "        else:\n",
    "            output.add( (min(i,temp),max(i,temp)) )\n",
    "    \n",
    "    print(\"\\n\".join(map(str,list(output))))"
   ]
  },
  {
   "cell_type": "code",
   "execution_count": 35,
   "metadata": {},
   "outputs": [
    {
     "name": "stdout",
     "output_type": "stream",
     "text": [
      "(1, 3)\n",
      "(2, 2)\n"
     ]
    }
   ],
   "source": [
    "arrpair([1,3,1,2,2],4)"
   ]
  },
  {
   "cell_type": "code",
   "execution_count": null,
   "metadata": {},
   "outputs": [],
   "source": []
  },
  {
   "cell_type": "code",
   "execution_count": 30,
   "metadata": {},
   "outputs": [],
   "source": []
  },
  {
   "cell_type": "code",
   "execution_count": null,
   "metadata": {},
   "outputs": [],
   "source": []
  }
 ],
 "metadata": {
  "kernelspec": {
   "display_name": "Python 3.7.7 64-bit",
   "language": "python",
   "name": "python37764bit5a65826dca804630af99ee5e9501d3e0"
  },
  "language_info": {
   "codemirror_mode": {
    "name": "ipython",
    "version": 3
   },
   "file_extension": ".py",
   "mimetype": "text/x-python",
   "name": "python",
   "nbconvert_exporter": "python",
   "pygments_lexer": "ipython3",
   "version": "3.7.7"
  }
 },
 "nbformat": 4,
 "nbformat_minor": 4
}
