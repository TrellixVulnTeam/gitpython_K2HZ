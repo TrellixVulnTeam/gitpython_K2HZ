{
 "cells": [
  {
   "cell_type": "code",
   "execution_count": 1,
   "metadata": {},
   "outputs": [],
   "source": [
    "def missingnum(s1,s2):\n",
    "    \n",
    "    count=0\n",
    "    \n",
    "    for i in s1:\n",
    "        count+=i\n",
    "    \n",
    "    for i in s2:\n",
    "        count-=i\n",
    "        \n",
    "    return count"
   ]
  },
  {
   "cell_type": "code",
   "execution_count": 17,
   "metadata": {},
   "outputs": [
    {
     "data": {
      "text/plain": [
       "7"
      ]
     },
     "execution_count": 17,
     "metadata": {},
     "output_type": "execute_result"
    }
   ],
   "source": [
    "missingnum([1,2,3,4,5,6,7,7],[5,3,7,2,1,4,6])"
   ]
  },
  {
   "cell_type": "code",
   "execution_count": 9,
   "metadata": {},
   "outputs": [],
   "source": [
    "def mn(s1,s2):\n",
    "    \n",
    "    count={}\n",
    "    \n",
    "    for i in s1:\n",
    "        \n",
    "        if i not in count:\n",
    "            \n",
    "            count[i]=0\n",
    "        \n",
    "        count[i]+=1\n",
    "    \n",
    "    \n",
    "    for i in s2:\n",
    "        \n",
    "        if i in count:\n",
    "            \n",
    "            count[i]-=1\n",
    "            \n",
    "        else:\n",
    "            \n",
    "            count[i]=1 \n",
    "    \n",
    "    for i in count:\n",
    "        \n",
    "        if count[i]!=0:\n",
    "            \n",
    "            return i\n",
    "    "
   ]
  },
  {
   "cell_type": "code",
   "execution_count": 10,
   "metadata": {},
   "outputs": [
    {
     "data": {
      "text/plain": [
       "5"
      ]
     },
     "execution_count": 10,
     "metadata": {},
     "output_type": "execute_result"
    }
   ],
   "source": [
    "mn([1,2,3,4,5,6,7],[3,7,2,1,4,6])"
   ]
  },
  {
   "cell_type": "code",
   "execution_count": 14,
   "metadata": {},
   "outputs": [],
   "source": [
    "import collections\n",
    "\n",
    "def minar(s1,s2):\n",
    "    \n",
    "    d=collections.defaultdict(int)\n",
    "    \n",
    "    for i in s2:\n",
    "        d[i]+=1\n",
    "        \n",
    "    for i in s1:\n",
    "        \n",
    "        if d[i]==0:\n",
    "            return i\n",
    "        else:\n",
    "            d[i]-=1"
   ]
  },
  {
   "cell_type": "code",
   "execution_count": 16,
   "metadata": {},
   "outputs": [
    {
     "data": {
      "text/plain": [
       "5"
      ]
     },
     "execution_count": 16,
     "metadata": {},
     "output_type": "execute_result"
    }
   ],
   "source": [
    "minar([1,2,3,4,5,6,7,5],[3,7,2,5,1,4,6])"
   ]
  },
  {
   "cell_type": "code",
   "execution_count": 18,
   "metadata": {},
   "outputs": [],
   "source": [
    "def finder(s1,s2):\n",
    "    \n",
    "    result=0\n",
    "    \n",
    "    for i in s1+s2:\n",
    "        \n",
    "        result^=i\n",
    "    \n",
    "    \n",
    "    return result"
   ]
  },
  {
   "cell_type": "code",
   "execution_count": 19,
   "metadata": {},
   "outputs": [
    {
     "data": {
      "text/plain": [
       "5"
      ]
     },
     "execution_count": 19,
     "metadata": {},
     "output_type": "execute_result"
    }
   ],
   "source": [
    "finder([1,2,3,4,5,6,7],[3,7,2,1,4,6])"
   ]
  },
  {
   "cell_type": "code",
   "execution_count": null,
   "metadata": {},
   "outputs": [],
   "source": []
  }
 ],
 "metadata": {
  "kernelspec": {
   "display_name": "Python 3.7.7 64-bit",
   "language": "python",
   "name": "python37764bit5a65826dca804630af99ee5e9501d3e0"
  },
  "language_info": {
   "codemirror_mode": {
    "name": "ipython",
    "version": 3
   },
   "file_extension": ".py",
   "mimetype": "text/x-python",
   "name": "python",
   "nbconvert_exporter": "python",
   "pygments_lexer": "ipython3",
   "version": "3.7.7"
  }
 },
 "nbformat": 4,
 "nbformat_minor": 4
}
