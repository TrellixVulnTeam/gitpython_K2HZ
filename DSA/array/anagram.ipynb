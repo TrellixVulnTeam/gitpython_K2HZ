{
 "cells": [
  {
   "cell_type": "markdown",
   "metadata": {},
   "source": [
    "# Solution1"
   ]
  },
  {
   "cell_type": "code",
   "execution_count": 8,
   "metadata": {},
   "outputs": [],
   "source": [
    "def anagram(s1,s2):\n",
    "    s1=sorted(s1.replace(\" \",\"\").lower())\n",
    "    s2=sorted(s2.replace(\" \",\"\").lower())\n",
    "    \n",
    "    return (\"Anagram\" if s1==s2 else \"Not Anagram\")"
   ]
  },
  {
   "cell_type": "code",
   "execution_count": 9,
   "metadata": {},
   "outputs": [
    {
     "data": {
      "text/plain": [
       "'Anagram'"
      ]
     },
     "execution_count": 9,
     "metadata": {},
     "output_type": "execute_result"
    }
   ],
   "source": [
    "anagram(\"Dog\",\"God\")"
   ]
  },
  {
   "cell_type": "markdown",
   "metadata": {},
   "source": [
    "# Solution 2"
   ]
  },
  {
   "cell_type": "code",
   "execution_count": 17,
   "metadata": {},
   "outputs": [],
   "source": [
    "def anagram2(s1,s2):\n",
    "    s1=(s1.replace(\" \",\"\").lower())\n",
    "    s2=(s2.replace(\" \",\"\").lower())\n",
    "    \n",
    "    if len(s1)!=len(s2):\n",
    "        return False\n",
    "    \n",
    "    count={}\n",
    "    \n",
    "    for i in s1:\n",
    "        if i not in count:\n",
    "            count[i]=1\n",
    "        else:\n",
    "            count[i]+=1\n",
    "    \n",
    "    for i in s2:\n",
    "        if i in count:\n",
    "            count[i]-=1\n",
    "        else:\n",
    "            count[i]=1\n",
    "        \n",
    "    print(count)\n",
    "    for i in count:\n",
    "        if count[i]!=0:\n",
    "            return False\n",
    "    \n",
    "    return True"
   ]
  },
  {
   "cell_type": "code",
   "execution_count": 18,
   "metadata": {},
   "outputs": [
    {
     "name": "stdout",
     "output_type": "stream",
     "text": [
      "{'d': 0, 'o': 0, 'g': 0}\n"
     ]
    },
    {
     "data": {
      "text/plain": [
       "True"
      ]
     },
     "execution_count": 18,
     "metadata": {},
     "output_type": "execute_result"
    }
   ],
   "source": [
    "\n",
    "anagram2(\"Dog\",\"God\")"
   ]
  },
  {
   "cell_type": "markdown",
   "metadata": {},
   "source": [
    "# Solution 3"
   ]
  },
  {
   "cell_type": "code",
   "execution_count": 20,
   "metadata": {},
   "outputs": [],
   "source": [
    "class darray(object):\n",
    "\n",
    "    def __init__(self):\n",
    "        self.n=0\n",
    "        self.cap=1\n",
    "        self.A=self.make_array(self.cap)\n",
    "        \n",
    "    def __len__(self):\n",
    "        return self.n\n",
    "    \n",
    "    def __getitem__(self,k):\n",
    "        if not 0<=k<self.n:\n",
    "            return IndexError(\"Out of bounds\")\n",
    "        \n",
    "        return self.A[k]\n",
    "    \n",
    "    def append(self,k):\n",
    "        if self.n==self.cap:\n",
    "            self._resize(2*self.cap)\n",
    "            \n",
    "        self.A[self.n]=k\n",
    "        self.n+=1\n",
    "    \n",
    "    def _resize(self,new_cap):\n",
    "        B=self.make_array(new_cap)\n",
    "        \n",
    "        for i in range(self.n):\n",
    "            B[i]=self.A[i]\n",
    "        \n",
    "        self.A=B\n",
    "        self.cap=new_cap\n",
    "        \n",
    "    def make_array(self,cap):\n",
    "        return [None]*cap"
   ]
  },
  {
   "cell_type": "code",
   "execution_count": 33,
   "metadata": {},
   "outputs": [],
   "source": [
    "def anagram3(s1,s2):\n",
    "    s1=(s1.replace(\" \",\"\").lower())\n",
    "    s2=(s2.replace(\" \",\"\").lower())\n",
    "    \n",
    "    if len(s1)!=len(s2):\n",
    "        return False\n",
    "    \n",
    "    a=darray()\n",
    "    b=darray()\n",
    "    \n",
    "    for i in s1:\n",
    "        a.append(i)\n",
    "    for i in s2:\n",
    "        b.append(i)\n",
    "    \n",
    "\n",
    "    for i in range(len(a)):\n",
    "        print(a[i],b[i])\n",
    "        "
   ]
  },
  {
   "cell_type": "code",
   "execution_count": 34,
   "metadata": {},
   "outputs": [
    {
     "data": {
      "text/plain": [
       "False"
      ]
     },
     "execution_count": 34,
     "metadata": {},
     "output_type": "execute_result"
    }
   ],
   "source": [
    "[1,2,3] is [3,2,1]"
   ]
  },
  {
   "cell_type": "code",
   "execution_count": 35,
   "metadata": {},
   "outputs": [
    {
     "name": "stdout",
     "output_type": "stream",
     "text": [
      "d g\n",
      "o o\n",
      "g d\n"
     ]
    }
   ],
   "source": [
    "anagram3(\"Dog\",\"God\")"
   ]
  },
  {
   "cell_type": "code",
   "execution_count": null,
   "metadata": {},
   "outputs": [],
   "source": []
  }
 ],
 "metadata": {
  "kernelspec": {
   "display_name": "Python 3",
   "language": "python",
   "name": "python3"
  },
  "language_info": {
   "codemirror_mode": {
    "name": "ipython",
    "version": 3
   },
   "file_extension": ".py",
   "mimetype": "text/x-python",
   "name": "python",
   "nbconvert_exporter": "python",
   "pygments_lexer": "ipython3",
   "version": "3.7.6"
  }
 },
 "nbformat": 4,
 "nbformat_minor": 4
}
