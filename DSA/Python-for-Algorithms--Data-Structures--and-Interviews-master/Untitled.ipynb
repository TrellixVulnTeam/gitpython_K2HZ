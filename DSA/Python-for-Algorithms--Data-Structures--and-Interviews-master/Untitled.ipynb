{
 "cells": [
  {
   "cell_type": "code",
   "execution_count": 3,
   "metadata": {},
   "outputs": [
    {
     "name": "stdin",
     "output_type": "stream",
     "text": [
      " 2\n",
      " 2 3\n",
      " 2 3 4 5 6 7 8 9 10 11\n"
     ]
    },
    {
     "name": "stdout",
     "output_type": "stream",
     "text": [
      "2 3 4 11 10 9 8 7 6 5 "
     ]
    }
   ],
   "source": [
    "n=int(input())\n",
    "nf,div=map(int,input().split())\n",
    "\n",
    "flowers=list(map(int,input().split()))\n",
    "\n",
    "asc=flowers[:div]\n",
    "desc=flowers[div:]\n",
    "\n",
    "asc.sort()\n",
    "desc.sort(reverse=True)\n",
    "arr=(asc+desc)\n",
    "for i in arr[:-1]:\n",
    "    print(i,end=\" \")\n",
    "\n",
    "print(arr[-1])\n",
    "\n"
   ]
  },
  {
   "cell_type": "code",
   "execution_count": 8,
   "metadata": {},
   "outputs": [
    {
     "data": {
      "text/plain": [
       "[45, 12, 12, 8, 7, 6]"
      ]
     },
     "execution_count": 8,
     "metadata": {},
     "output_type": "execute_result"
    }
   ],
   "source": [
    "desc\n"
   ]
  },
  {
   "cell_type": "code",
   "execution_count": null,
   "metadata": {},
   "outputs": [],
   "source": [
    "n =int(input())\n",
    "points=[]\n",
    "xo,yo=map(int,input().split())\n",
    "for i in range(n-1):\n",
    "    \n",
    "    temp=list(map(int,input().split()))\n",
    "    \n",
    "    points.append(temp)\n",
    "    \n",
    "print(minLinesToCoverPoints(points,n,xo,yo))\n",
    "    "
   ]
  },
  {
   "cell_type": "code",
   "execution_count": 6,
   "metadata": {},
   "outputs": [
    {
     "name": "stdin",
     "output_type": "stream",
     "text": [
      " timhsdhjshktimbkbkjbfjkhhh\n",
      " Tim\n"
     ]
    },
    {
     "name": "stdout",
     "output_type": "stream",
     "text": [
      "0\n"
     ]
    }
   ],
   "source": [
    "import re\n",
    "message=input().lower()\n",
    "key=input().lower()\n",
    "\n",
    "print(message.count(key))"
   ]
  },
  {
   "cell_type": "code",
   "execution_count": 5,
   "metadata": {},
   "outputs": [
    {
     "data": {
      "text/plain": [
       "3"
      ]
     },
     "execution_count": 5,
     "metadata": {},
     "output_type": "execute_result"
    }
   ],
   "source": [
    "len(mo)"
   ]
  },
  {
   "cell_type": "code",
   "execution_count": null,
   "metadata": {},
   "outputs": [],
   "source": []
  }
 ],
 "metadata": {
  "kernelspec": {
   "display_name": "Python 3",
   "language": "python",
   "name": "python3"
  },
  "language_info": {
   "codemirror_mode": {
    "name": "ipython",
    "version": 3
   },
   "file_extension": ".py",
   "mimetype": "text/x-python",
   "name": "python",
   "nbconvert_exporter": "python",
   "pygments_lexer": "ipython3",
   "version": "3.8.3"
  }
 },
 "nbformat": 4,
 "nbformat_minor": 4
}
