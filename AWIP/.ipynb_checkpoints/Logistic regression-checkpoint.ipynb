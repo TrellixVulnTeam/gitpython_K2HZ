{
 "cells": [
  {
   "cell_type": "code",
   "execution_count": 15,
   "metadata": {},
   "outputs": [
    {
     "name": "stdin",
     "output_type": "stream",
     "text": [
      " 2\n",
      " 3\n"
     ]
    },
    {
     "name": "stdout",
     "output_type": "stream",
     "text": [
      "11\n"
     ]
    },
    {
     "name": "stdin",
     "output_type": "stream",
     "text": [
      " 9\n"
     ]
    },
    {
     "ename": "KeyboardInterrupt",
     "evalue": "",
     "output_type": "error",
     "traceback": [
      "\u001b[0;31m---------------------------------------------------------------------------\u001b[0m",
      "\u001b[0;31mKeyboardInterrupt\u001b[0m                         Traceback (most recent call last)",
      "\u001b[0;32m<ipython-input-15-209789a65c5f>\u001b[0m in \u001b[0;36m<module>\u001b[0;34m\u001b[0m\n\u001b[1;32m     16\u001b[0m     \u001b[0;32mwhile\u001b[0m \u001b[0;32mTrue\u001b[0m\u001b[0;34m:\u001b[0m\u001b[0;34m\u001b[0m\u001b[0;34m\u001b[0m\u001b[0m\n\u001b[1;32m     17\u001b[0m \u001b[0;34m\u001b[0m\u001b[0m\n\u001b[0;32m---> 18\u001b[0;31m         \u001b[0mb\u001b[0m \u001b[0;34m=\u001b[0m \u001b[0mbin\u001b[0m\u001b[0;34m(\u001b[0m\u001b[0mi\u001b[0m\u001b[0;34m)\u001b[0m\u001b[0;34m[\u001b[0m\u001b[0;36m2\u001b[0m\u001b[0;34m:\u001b[0m\u001b[0;34m]\u001b[0m\u001b[0;34m\u001b[0m\u001b[0;34m\u001b[0m\u001b[0m\n\u001b[0m\u001b[1;32m     19\u001b[0m         \u001b[0;32mif\u001b[0m \u001b[0mn\u001b[0m \u001b[0;32min\u001b[0m \u001b[0marr\u001b[0m\u001b[0;34m:\u001b[0m\u001b[0;34m\u001b[0m\u001b[0;34m\u001b[0m\u001b[0m\n\u001b[1;32m     20\u001b[0m             \u001b[0mprint\u001b[0m\u001b[0;34m(\u001b[0m\u001b[0marr\u001b[0m\u001b[0;34m[\u001b[0m\u001b[0mn\u001b[0m\u001b[0;34m]\u001b[0m\u001b[0;34m)\u001b[0m\u001b[0;34m\u001b[0m\u001b[0;34m\u001b[0m\u001b[0m\n",
      "\u001b[0;31mKeyboardInterrupt\u001b[0m: "
     ]
    }
   ],
   "source": [
    "def check(string): \n",
    "    if (string.find(\"11\") == -1): \n",
    "        return True\n",
    "    else: \n",
    "        return False\n",
    "\n",
    "\n",
    "t=int(input())\n",
    "arr={}\n",
    "for i in range(t):\n",
    "    \n",
    "    \n",
    "    n=int(input())\n",
    "    i = 1\n",
    "    c = 1\n",
    "    while True:\n",
    "        \n",
    "        b = bin(i)[2:]\n",
    "        if n in arr:\n",
    "            print(arr[n])\n",
    "            break\n",
    "            \n",
    "        if check (b):\n",
    "            if c not in arr:    \n",
    "                arr[c]=b\n",
    "                c+=1\n",
    "            i+=1\n",
    "            \n",
    "            continue\n",
    "        else:\n",
    "            i+=1\n",
    "        \n",
    "        if c==n:\n",
    "            print(b)\n",
    "            break"
   ]
  },
  {
   "cell_type": "code",
   "execution_count": 8,
   "metadata": {},
   "outputs": [
    {
     "data": {
      "text/plain": [
       "-1"
      ]
     },
     "execution_count": 8,
     "metadata": {},
     "output_type": "execute_result"
    }
   ],
   "source": [
    "\"101\".find(\"11\")"
   ]
  },
  {
   "cell_type": "code",
   "execution_count": 23,
   "metadata": {},
   "outputs": [
    {
     "name": "stdin",
     "output_type": "stream",
     "text": [
      " 2\n",
      " 3\n"
     ]
    },
    {
     "name": "stdout",
     "output_type": "stream",
     "text": [
      "100\n"
     ]
    },
    {
     "name": "stdin",
     "output_type": "stream",
     "text": [
      " 9\n"
     ]
    },
    {
     "name": "stdout",
     "output_type": "stream",
     "text": [
      "10001\n"
     ]
    }
   ],
   "source": [
    "def adjacentSet(n): \n",
    "    return (n & (n >> 1))\n",
    "     \n",
    "t = int(input())\n",
    "i = 1\n",
    "c = 0\n",
    "arr={}\n",
    "for tc in range (t):\n",
    "    n = int(input())\n",
    "\n",
    "    if n in arr:\n",
    "        print(arr[n])\n",
    "        break\n",
    "        \n",
    "    while True:\n",
    "        if adjacentSet(i):\n",
    "            #print(i)\n",
    "            i += 1\n",
    "            continue\n",
    "\n",
    "        else:\n",
    "            c += 1\n",
    "            i += 1\n",
    "            if c not in arr:\n",
    "                arr[c]=(\"{0:b}\".format(i-1))\n",
    "        \n",
    "        if c == n:\n",
    "            print( \"{0:b}\".format(i-1))\n",
    "            break"
   ]
  },
  {
   "cell_type": "code",
   "execution_count": null,
   "metadata": {},
   "outputs": [],
   "source": [
    "t=int(input())\n",
    "\n",
    "for i in range(t):\n",
    "    \n",
    "    \n",
    "    n=int(input())\n",
    "    arr=list(map(int,input().split()))\n",
    "\n",
    "    max_el = max(arr)\n",
    "    min_el = min(arr)\n",
    "     \n",
    "    primesInRange(min_el, max_el)\n",
    "     \n",
    "    print(maxPrimeSubarray(arr, n))"
   ]
  },
  {
   "cell_type": "code",
   "execution_count": null,
   "metadata": {},
   "outputs": [],
   "source": [
    "\n",
    "import math\n",
    "\n",
    "allPrimes = set()\n",
    "\n",
    "def simpleSieve(limit, prime):\n",
    "     \n",
    "    mark = [False] * (limit + 1)\n",
    "    for i in range(2, limit + 1):\n",
    "        if mark[i] == False:\n",
    "            prime.append(i)\n",
    "            for j in range(i, limit + 1, i):\n",
    "                mark[j] = True\n",
    "    pass\n",
    "\n",
    "def primesInRange(low, high):\n",
    "     \n",
    "\n",
    "    limit = math.floor(math.sqrt(high)) + 1\n",
    "     \n",
    "\n",
    "    prime = []\n",
    "\n",
    "    simpleSieve(limit, prime)\n",
    "     \n",
    "\n",
    "    n = high - low + 1\n",
    "\n",
    "    mark = [False] * (n + 1)\n",
    " \n",
    "    for i in range(len(prime)):\n",
    "        loLim = low // prime[i]\n",
    "        loLim *= prime[i]\n",
    "         \n",
    "        # Find the minimum number in \n",
    "        # [low..high] that is a \n",
    "        # multiple of prime[i] \n",
    "        if loLim < low:\n",
    "            loLim += prime[i]\n",
    "             \n",
    "        if loLim == prime[i]: \n",
    "            loLim += prime[i]\n",
    "         \n",
    "        # Mark the multiples of prime[i] \n",
    "        # in [low, high] as true \n",
    "        for j in range(loLim, high + 1, prime[i]):\n",
    "            mark[j - low] = True\n",
    "     \n",
    "    # Element which are not marked in \n",
    "    # range are Prime\n",
    "    for i in range(low, high + 1):\n",
    "        if not mark[i - low]:\n",
    "            allPrimes.add(i)\n",
    " \n",
    "# Function that finds longest subarray \n",
    "# of prime numbers \n",
    "def maxPrimeSubarray(arr, n):\n",
    "     \n",
    "    current_max = 0\n",
    "    max_so_far = 0\n",
    "     \n",
    "    for i in range(n):\n",
    "         \n",
    "        # If element is Non-prime then \n",
    "        # updated current_max to 0 \n",
    "        if arr[i] not in allPrimes:\n",
    "            current_max = 0\n",
    "         \n",
    "        # If element is prime, then \n",
    "        # update current_max and \n",
    "        # max_so_far \n",
    "        else:\n",
    "            current_max += 1\n",
    "            max_so_far = max(current_max, \n",
    "                             max_so_far)\n",
    "     \n",
    "    # Return the count of longest \n",
    "    # subarray \n",
    "    return max_so_far\n",
    " "
   ]
  },
  {
   "cell_type": "code",
   "execution_count": 11,
   "metadata": {},
   "outputs": [
    {
     "name": "stdin",
     "output_type": "stream",
     "text": [
      " 1\n",
      " 5\n",
      " 5 1 2 4 1\n"
     ]
    },
    {
     "name": "stdout",
     "output_type": "stream",
     "text": [
      "6\n",
      "12\n",
      "5\n",
      "5\n"
     ]
    }
   ],
   "source": [
    "n=int(input())\n",
    "\n",
    "def right(arr,num):\n",
    "    count=0\n",
    "    for i in arr:\n",
    "        if i <=num:\n",
    "            count+=1\n",
    "    return count\n",
    "    \n",
    "def left(arr,num):\n",
    "    count=0\n",
    "    for i in arr:\n",
    "        if i <=num:\n",
    "            count+=1\n",
    "    return count\n",
    "    \n",
    "for i in range(n):\n",
    "    \n",
    "    num=int(input())\n",
    "    arr=list(map(int,input().split()))\n",
    "    \n",
    "    maxlh=0\n",
    "    \n",
    "    for B,lh in enumerate(arr):\n",
    "        \n",
    "        A=0\n",
    "        rangelh=0\n",
    "        if B==0:\n",
    "        \n",
    "            rarr=arr[B+1:]\n",
    "            A+=right(rarr,lh)\n",
    "            \n",
    "            rangelh=A*(B+1)\n",
    "            \n",
    "            if rangelh >maxlh:\n",
    "                maxlh=rangelh\n",
    "        \n",
    "        elif B==len(arr):\n",
    "            \n",
    "            larr=arr[:B]\n",
    "            A+=left(larr,lh)\n",
    "            \n",
    "            rangelh=A*(B+1)\n",
    "            \n",
    "            if rangelh >maxlh:\n",
    "                maxlh=rangelh\n",
    "        else:\n",
    "            \n",
    "            larr=arr[:B]\n",
    "            rarr=arr[B+1:]\n",
    "            \n",
    "    \n",
    "            A+=right(rarr,lh)\n",
    "            A+=left(larr,lh)\n",
    "            \n",
    "            rangelh=A*(B+1)\n",
    "            \n",
    "        if rangelh >maxlh:\n",
    "            maxlh=B+1\n",
    "            print(rangelh)\n",
    "    print(maxlh)\n",
    "            \n",
    "            \n",
    "            \n",
    "            \n",
    "        \n",
    "        \n",
    "    "
   ]
  },
  {
   "cell_type": "code",
   "execution_count": 13,
   "metadata": {},
   "outputs": [
    {
     "name": "stdout",
     "output_type": "stream",
     "text": [
      "0 1\n",
      "1 2\n",
      "2 4\n"
     ]
    }
   ],
   "source": [
    "arr=[1,2,4]\n",
    "\n",
    "for i,num in enumerate(arr):\n",
    "    print(i,num)"
   ]
  },
  {
   "cell_type": "code",
   "execution_count": null,
   "metadata": {},
   "outputs": [],
   "source": []
  }
 ],
 "metadata": {
  "kernelspec": {
   "display_name": "Python 3",
   "language": "python",
   "name": "python3"
  },
  "language_info": {
   "codemirror_mode": {
    "name": "ipython",
    "version": 3
   },
   "file_extension": ".py",
   "mimetype": "text/x-python",
   "name": "python",
   "nbconvert_exporter": "python",
   "pygments_lexer": "ipython3",
   "version": "3.8.5"
  }
 },
 "nbformat": 4,
 "nbformat_minor": 4
}
