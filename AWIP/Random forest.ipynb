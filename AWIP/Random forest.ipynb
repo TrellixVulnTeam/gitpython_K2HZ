{
 "cells": [
  {
   "cell_type": "code",
   "execution_count": 1,
   "metadata": {},
   "outputs": [],
   "source": [
    "import numpy as np\n",
    "import matplotlib.pyplot as plt\n",
    "from sklearn.metrics import classification_report\n",
    "\n",
    "from sklearn.ensemble import RandomForestClassifier, ExtraTreesClassifier\n",
    "\n",
    "\n",
    "import sklearn.model_selection as model_selection\n",
    "from utilities2 import visualize_classifier\n",
    "%matplotlib widget"
   ]
  },
  {
   "cell_type": "code",
   "execution_count": 2,
   "metadata": {},
   "outputs": [],
   "source": [
    "classifier_type='erf'"
   ]
  },
  {
   "cell_type": "code",
   "execution_count": 3,
   "metadata": {},
   "outputs": [],
   "source": [
    "# Load input data\n",
    "input_file = 'data_random_forests.txt'\n",
    "data = np.loadtxt(input_file, delimiter=',')\n",
    "X, y = data[:, :-1], data[:, -1]"
   ]
  },
  {
   "cell_type": "code",
   "execution_count": null,
   "metadata": {},
   "outputs": [],
   "source": []
  },
  {
   "cell_type": "code",
   "execution_count": 4,
   "metadata": {},
   "outputs": [],
   "source": [
    "class_0 = np.array(X[y==0])\n",
    "class_1 = np.array(X[y==1])\n",
    "class_2 = np.array(X[y==2])"
   ]
  },
  {
   "cell_type": "code",
   "execution_count": 5,
   "metadata": {},
   "outputs": [
    {
     "data": {
      "application/vnd.jupyter.widget-view+json": {
       "model_id": "7ccf033f610844829acc4d874850f833",
       "version_major": 2,
       "version_minor": 0
      },
      "text/plain": [
       "Canvas(toolbar=Toolbar(toolitems=[('Home', 'Reset original view', 'home', 'home'), ('Back', 'Back to previous …"
      ]
     },
     "metadata": {},
     "output_type": "display_data"
    },
    {
     "data": {
      "text/plain": [
       "Text(0.5, 1.0, 'Input data')"
      ]
     },
     "execution_count": 5,
     "metadata": {},
     "output_type": "execute_result"
    }
   ],
   "source": [
    "# Visualize input data\n",
    "plt.figure()\n",
    "plt.scatter(class_0[:, 0], class_0[:, 1], s=75, facecolors='white', \n",
    "                edgecolors='black', linewidth=1, marker='s')\n",
    "plt.scatter(class_1[:, 0], class_1[:, 1], s=75, facecolors='white', \n",
    "                edgecolors='black', linewidth=1, marker='o')\n",
    "plt.scatter(class_2[:, 0], class_2[:, 1], s=75, facecolors='white', \n",
    "                edgecolors='black', linewidth=1, marker='^')\n",
    "plt.title('Input data')\n"
   ]
  },
  {
   "cell_type": "code",
   "execution_count": 6,
   "metadata": {},
   "outputs": [],
   "source": [
    "# Split data into training and testing datasets \n",
    "X_train, X_test, y_train, y_test =model_selection.train_test_split(\n",
    "        X, y, test_size=0.25, random_state=5)"
   ]
  },
  {
   "cell_type": "code",
   "execution_count": 7,
   "metadata": {},
   "outputs": [
    {
     "data": {
      "application/vnd.jupyter.widget-view+json": {
       "model_id": "6bfaf54f20504885a4b0e156f27ab8f0",
       "version_major": 2,
       "version_minor": 0
      },
      "text/plain": [
       "Canvas(toolbar=Toolbar(toolitems=[('Home', 'Reset original view', 'home', 'home'), ('Back', 'Back to previous …"
      ]
     },
     "metadata": {},
     "output_type": "display_data"
    },
    {
     "name": "stderr",
     "output_type": "stream",
     "text": [
      "/Users/aushakanuz/Documents/gitpython/AWIP/utilities2.py:29: MatplotlibDeprecationWarning: shading='flat' when X and Y have the same dimensions as C is deprecated since 3.3.  Either specify the corners of the quadrilaterals with X and Y, or pass shading='auto', 'nearest' or 'gouraud', or set rcParams['pcolor.shading'].  This will become an error two minor releases later.\n",
      "  plt.pcolormesh(x_vals, y_vals, output, cmap=plt.cm.gray)\n"
     ]
    }
   ],
   "source": [
    "# Ensemble Learning classifier\n",
    "params = {'n_estimators': 100, 'max_depth': 4, 'random_state': 0}\n",
    "if classifier_type == 'rf':\n",
    "    classifier = RandomForestClassifier(**params)\n",
    "else:\n",
    "    classifier = ExtraTreesClassifier(**params)\n",
    "\n",
    "classifier.fit(X_train, y_train)\n",
    "visualize_classifier(classifier, X_train, y_train)"
   ]
  },
  {
   "cell_type": "code",
   "execution_count": 8,
   "metadata": {},
   "outputs": [
    {
     "data": {
      "application/vnd.jupyter.widget-view+json": {
       "model_id": "86151b3dc4ed42619f7104ca46abcfe4",
       "version_major": 2,
       "version_minor": 0
      },
      "text/plain": [
       "Canvas(toolbar=Toolbar(toolitems=[('Home', 'Reset original view', 'home', 'home'), ('Back', 'Back to previous …"
      ]
     },
     "metadata": {},
     "output_type": "display_data"
    },
    {
     "name": "stderr",
     "output_type": "stream",
     "text": [
      "/Users/aushakanuz/Documents/gitpython/AWIP/utilities2.py:29: MatplotlibDeprecationWarning: shading='flat' when X and Y have the same dimensions as C is deprecated since 3.3.  Either specify the corners of the quadrilaterals with X and Y, or pass shading='auto', 'nearest' or 'gouraud', or set rcParams['pcolor.shading'].  This will become an error two minor releases later.\n",
      "  plt.pcolormesh(x_vals, y_vals, output, cmap=plt.cm.gray)\n"
     ]
    }
   ],
   "source": [
    "y_test_pred = classifier.predict(X_test)\n",
    "visualize_classifier(classifier, X_test, y_test)"
   ]
  },
  {
   "cell_type": "code",
   "execution_count": 9,
   "metadata": {},
   "outputs": [
    {
     "name": "stdout",
     "output_type": "stream",
     "text": [
      "\n",
      "########################################\n",
      "\n",
      "Classifier performance on training dataset\n",
      "\n",
      "              precision    recall  f1-score   support\n",
      "\n",
      "     Class-0       0.89      0.83      0.86       221\n",
      "     Class-1       0.82      0.84      0.83       230\n",
      "     Class-2       0.83      0.86      0.85       224\n",
      "\n",
      "    accuracy                           0.85       675\n",
      "   macro avg       0.85      0.85      0.85       675\n",
      "weighted avg       0.85      0.85      0.85       675\n",
      "\n",
      "########################################\n",
      "\n"
     ]
    }
   ],
   "source": [
    "# Evaluate classifier performance\n",
    "class_names = ['Class-0', 'Class-1', 'Class-2']\n",
    "print(\"\\n\" + \"#\"*40)\n",
    "print(\"\\nClassifier performance on training dataset\\n\")\n",
    "print(classification_report(y_train, classifier.predict(X_train), target_names=class_names))\n",
    "print(\"#\"*40 + \"\\n\")"
   ]
  },
  {
   "cell_type": "code",
   "execution_count": 10,
   "metadata": {},
   "outputs": [
    {
     "name": "stdout",
     "output_type": "stream",
     "text": [
      "########################################\n",
      "\n",
      "Classifier performance on test dataset\n",
      "\n",
      "              precision    recall  f1-score   support\n",
      "\n",
      "     Class-0       0.92      0.85      0.88        79\n",
      "     Class-1       0.84      0.84      0.84        70\n",
      "     Class-2       0.85      0.92      0.89        76\n",
      "\n",
      "    accuracy                           0.87       225\n",
      "   macro avg       0.87      0.87      0.87       225\n",
      "weighted avg       0.87      0.87      0.87       225\n",
      "\n",
      "########################################\n",
      "\n"
     ]
    }
   ],
   "source": [
    "print(\"#\"*40)\n",
    "print(\"\\nClassifier performance on test dataset\\n\")\n",
    "print(classification_report(y_test, y_test_pred, target_names=class_names))\n",
    "print(\"#\"*40 + \"\\n\")"
   ]
  },
  {
   "cell_type": "code",
   "execution_count": 11,
   "metadata": {},
   "outputs": [],
   "source": [
    "# Compute confidence\n",
    "test_datapoints = np.array([[5, 5], [3, 6], [6, 4], [7, 2], [4, 4], [5, 2]])"
   ]
  },
  {
   "cell_type": "code",
   "execution_count": 12,
   "metadata": {},
   "outputs": [
    {
     "name": "stdout",
     "output_type": "stream",
     "text": [
      "\n",
      "Confidence measure:\n",
      "\n",
      "Datapoint: [5 5]\n",
      "Predicted class: Class-0\n",
      "With Proba: [0.48904419 0.28020114 0.23075467]\n",
      "\n",
      "Datapoint: [3 6]\n",
      "Predicted class: Class-0\n",
      "With Proba: [0.66707383 0.12424406 0.20868211]\n",
      "\n",
      "Datapoint: [6 4]\n",
      "Predicted class: Class-1\n",
      "With Proba: [0.25788769 0.49535144 0.24676087]\n",
      "\n",
      "Datapoint: [7 2]\n",
      "Predicted class: Class-1\n",
      "With Proba: [0.10794013 0.6246677  0.26739217]\n",
      "\n",
      "Datapoint: [4 4]\n",
      "Predicted class: Class-2\n",
      "With Proba: [0.33383778 0.21495182 0.45121039]\n",
      "\n",
      "Datapoint: [5 2]\n",
      "Predicted class: Class-2\n",
      "With Proba: [0.18671115 0.28760896 0.52567989]\n"
     ]
    }
   ],
   "source": [
    "print(\"\\nConfidence measure:\")\n",
    "for datapoint in test_datapoints:\n",
    "    probabilities = classifier.predict_proba([datapoint])[0]\n",
    "    predicted_class = 'Class-' + str(np.argmax(probabilities))\n",
    "    print('\\nDatapoint:', datapoint)\n",
    "    print('Predicted class:', predicted_class) \n",
    "    print('With Proba:',probabilities)"
   ]
  },
  {
   "cell_type": "code",
   "execution_count": 13,
   "metadata": {},
   "outputs": [
    {
     "data": {
      "application/vnd.jupyter.widget-view+json": {
       "model_id": "809690e7fe2b425e93975b5d119f0c17",
       "version_major": 2,
       "version_minor": 0
      },
      "text/plain": [
       "Canvas(toolbar=Toolbar(toolitems=[('Home', 'Reset original view', 'home', 'home'), ('Back', 'Back to previous …"
      ]
     },
     "metadata": {},
     "output_type": "display_data"
    },
    {
     "name": "stderr",
     "output_type": "stream",
     "text": [
      "/Users/aushakanuz/Documents/gitpython/AWIP/utilities2.py:29: MatplotlibDeprecationWarning: shading='flat' when X and Y have the same dimensions as C is deprecated since 3.3.  Either specify the corners of the quadrilaterals with X and Y, or pass shading='auto', 'nearest' or 'gouraud', or set rcParams['pcolor.shading'].  This will become an error two minor releases later.\n",
      "  plt.pcolormesh(x_vals, y_vals, output, cmap=plt.cm.gray)\n"
     ]
    }
   ],
   "source": [
    "# Visualize the datapoints\n",
    "visualize_classifier(classifier, test_datapoints, [0]*len(test_datapoints))"
   ]
  },
  {
   "cell_type": "code",
   "execution_count": null,
   "metadata": {},
   "outputs": [],
   "source": []
  }
 ],
 "metadata": {
  "kernelspec": {
   "display_name": "Python 3",
   "language": "python",
   "name": "python3"
  },
  "language_info": {
   "codemirror_mode": {
    "name": "ipython",
    "version": 3
   },
   "file_extension": ".py",
   "mimetype": "text/x-python",
   "name": "python",
   "nbconvert_exporter": "python",
   "pygments_lexer": "ipython3",
   "version": "3.8.5"
  }
 },
 "nbformat": 4,
 "nbformat_minor": 4
}
